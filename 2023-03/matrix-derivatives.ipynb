{
 "cells": [
  {
   "cell_type": "markdown",
   "id": "87549bac",
   "metadata": {},
   "source": [
    "# Chain rule for matrix derivatives & jax\n",
    "What's the order of derivatives?"
   ]
  },
  {
   "cell_type": "code",
   "execution_count": 1,
   "id": "0f910744",
   "metadata": {},
   "outputs": [],
   "source": [
    "import jax\n",
    "import jax.numpy as jnp"
   ]
  },
  {
   "cell_type": "markdown",
   "id": "837064b0",
   "metadata": {},
   "source": [
    "Take $h(x) = f(g(x))$, where $f: \\mathbb{R}^M \\to \\mathbb{R}$, $g: \\mathbb{R}^N \\to \\mathbb{R}^M$ and some $x_0 \\in \\mathbb{R}^N$. We seek to compute $\\nabla_x h(x_0)$"
   ]
  },
  {
   "cell_type": "code",
   "execution_count": 57,
   "id": "78900f52",
   "metadata": {},
   "outputs": [],
   "source": [
    "key = jax.random.PRNGKey(314)\n",
    "key_0, key_g, key_f = jax.random.split(key, 3)\n",
    "\n",
    "N, M = 5, 3\n",
    "\n",
    "G_proj = jax.random.normal(key_g, (M, N))\n",
    "F_proj = jax.random.normal(key_f, (1, M))\n",
    "x0 = jax.random.normal(key_0, (N,))"
   ]
  },
  {
   "cell_type": "code",
   "execution_count": 59,
   "id": "b2212fa4",
   "metadata": {},
   "outputs": [],
   "source": [
    "def g(x):\n",
    "    v = jnp.sin(G_proj @ x)\n",
    "    return v\n",
    "\n",
    "def f(x):\n",
    "    v = jnp.cos(F_proj @ x)\n",
    "    return v\n",
    "\n",
    "\n",
    "def h(x):\n",
    "    return f(g(x))"
   ]
  },
  {
   "cell_type": "code",
   "execution_count": 61,
   "id": "86abcdba",
   "metadata": {},
   "outputs": [
    {
     "data": {
      "text/plain": [
       "Array([[-0.02170205,  0.00988508, -0.00630814,  0.01018986, -0.00282953]],      dtype=float32)"
      ]
     },
     "execution_count": 61,
     "metadata": {},
     "output_type": "execute_result"
    }
   ],
   "source": [
    "Hx = jax.jacfwd(h)\n",
    "H0 = Hx(x0)\n",
    "H0"
   ]
  },
  {
   "cell_type": "code",
   "execution_count": 62,
   "id": "deaec207",
   "metadata": {},
   "outputs": [
    {
     "data": {
      "text/plain": [
       "{ \u001b[34m\u001b[22m\u001b[1mlambda \u001b[39m\u001b[22m\u001b[22ma\u001b[35m:f32[3,5]\u001b[39m b\u001b[35m:f32[1,3]\u001b[39m; c\u001b[35m:f32[5]\u001b[39m. \u001b[34m\u001b[22m\u001b[1mlet\n",
       "    \u001b[39m\u001b[22m\u001b[22md\u001b[35m:i32[5,5]\u001b[39m = iota[dimension=0 dtype=int32 shape=(5, 5)] \n",
       "    e\u001b[35m:i32[5,5]\u001b[39m = add d 0\n",
       "    f\u001b[35m:i32[5,5]\u001b[39m = iota[dimension=1 dtype=int32 shape=(5, 5)] \n",
       "    g\u001b[35m:bool[5,5]\u001b[39m = eq e f\n",
       "    h\u001b[35m:f32[5,5]\u001b[39m = convert_element_type[new_dtype=float32 weak_type=False] g\n",
       "    i\u001b[35m:f32[5,5]\u001b[39m = slice[limit_indices=(5, 5) start_indices=(0, 0) strides=None] h\n",
       "    j\u001b[35m:f32[3]\u001b[39m = dot_general[dimension_numbers=(([1], [0]), ([], []))] a c\n",
       "    k\u001b[35m:f32[3,5]\u001b[39m = dot_general[dimension_numbers=(([1], [1]), ([], []))] a i\n",
       "    l\u001b[35m:f32[3]\u001b[39m = sin j\n",
       "    m\u001b[35m:f32[3]\u001b[39m = cos j\n",
       "    n\u001b[35m:f32[5,3]\u001b[39m = transpose[permutation=(1, 0)] k\n",
       "    o\u001b[35m:f32[1,3]\u001b[39m = broadcast_in_dim[broadcast_dimensions=(1,) shape=(1, 3)] m\n",
       "    p\u001b[35m:f32[5,3]\u001b[39m = mul n o\n",
       "    q\u001b[35m:f32[1]\u001b[39m = dot_general[dimension_numbers=(([1], [0]), ([], []))] b l\n",
       "    r\u001b[35m:f32[1,5]\u001b[39m = dot_general[dimension_numbers=(([1], [1]), ([], []))] b p\n",
       "    _\u001b[35m:f32[1]\u001b[39m = cos q\n",
       "    s\u001b[35m:f32[1]\u001b[39m = sin q\n",
       "    t\u001b[35m:f32[5,1]\u001b[39m = transpose[permutation=(1, 0)] r\n",
       "    u\u001b[35m:f32[1,1]\u001b[39m = broadcast_in_dim[broadcast_dimensions=(1,) shape=(1, 1)] s\n",
       "    v\u001b[35m:f32[5,1]\u001b[39m = mul t u\n",
       "    w\u001b[35m:f32[5,1]\u001b[39m = neg v\n",
       "    x\u001b[35m:f32[1,5]\u001b[39m = transpose[permutation=(1, 0)] w\n",
       "    y\u001b[35m:f32[1,5]\u001b[39m = slice[limit_indices=(1, 5) start_indices=(0, 0) strides=None] x\n",
       "  \u001b[34m\u001b[22m\u001b[1min \u001b[39m\u001b[22m\u001b[22m(y,) }"
      ]
     },
     "execution_count": 62,
     "metadata": {},
     "output_type": "execute_result"
    }
   ],
   "source": [
    "jax.make_jaxpr(Hx)(x0)"
   ]
  },
  {
   "cell_type": "code",
   "execution_count": 63,
   "id": "77db6c01",
   "metadata": {},
   "outputs": [],
   "source": [
    "U0 = g(x0)\n",
    "F0 = jax.jacfwd(f)(U0)\n",
    "G0 = jax.jacfwd(g)(x0)"
   ]
  },
  {
   "cell_type": "code",
   "execution_count": 64,
   "id": "c0676eff",
   "metadata": {},
   "outputs": [
    {
     "data": {
      "text/plain": [
       "Array([[-0.02170205,  0.00988508, -0.00630814,  0.01018986, -0.00282953]],      dtype=float32)"
      ]
     },
     "execution_count": 64,
     "metadata": {},
     "output_type": "execute_result"
    }
   ],
   "source": [
    "F0 @ G0"
   ]
  },
  {
   "cell_type": "code",
   "execution_count": 65,
   "id": "f46b85ce",
   "metadata": {},
   "outputs": [
    {
     "data": {
      "text/plain": [
       "{ \u001b[34m\u001b[22m\u001b[1mlambda \u001b[39m\u001b[22m\u001b[22ma\u001b[35m:f32[1,3]\u001b[39m; b\u001b[35m:f32[3]\u001b[39m. \u001b[34m\u001b[22m\u001b[1mlet\n",
       "    \u001b[39m\u001b[22m\u001b[22mc\u001b[35m:i32[3,3]\u001b[39m = iota[dimension=0 dtype=int32 shape=(3, 3)] \n",
       "    d\u001b[35m:i32[3,3]\u001b[39m = add c 0\n",
       "    e\u001b[35m:i32[3,3]\u001b[39m = iota[dimension=1 dtype=int32 shape=(3, 3)] \n",
       "    f\u001b[35m:bool[3,3]\u001b[39m = eq d e\n",
       "    g\u001b[35m:f32[3,3]\u001b[39m = convert_element_type[new_dtype=float32 weak_type=False] f\n",
       "    h\u001b[35m:f32[3,3]\u001b[39m = slice[limit_indices=(3, 3) start_indices=(0, 0) strides=None] g\n",
       "    i\u001b[35m:f32[1]\u001b[39m = dot_general[dimension_numbers=(([1], [0]), ([], []))] a b\n",
       "    j\u001b[35m:f32[1,3]\u001b[39m = dot_general[dimension_numbers=(([1], [1]), ([], []))] a h\n",
       "    _\u001b[35m:f32[1]\u001b[39m = cos i\n",
       "    k\u001b[35m:f32[1]\u001b[39m = sin i\n",
       "    l\u001b[35m:f32[3,1]\u001b[39m = transpose[permutation=(1, 0)] j\n",
       "    m\u001b[35m:f32[1,1]\u001b[39m = broadcast_in_dim[broadcast_dimensions=(1,) shape=(1, 1)] k\n",
       "    n\u001b[35m:f32[3,1]\u001b[39m = mul l m\n",
       "    o\u001b[35m:f32[3,1]\u001b[39m = neg n\n",
       "    p\u001b[35m:f32[1,3]\u001b[39m = transpose[permutation=(1, 0)] o\n",
       "    q\u001b[35m:f32[1,3]\u001b[39m = slice[limit_indices=(1, 3) start_indices=(0, 0) strides=None] p\n",
       "  \u001b[34m\u001b[22m\u001b[1min \u001b[39m\u001b[22m\u001b[22m(q,) }"
      ]
     },
     "execution_count": 65,
     "metadata": {},
     "output_type": "execute_result"
    }
   ],
   "source": [
    "jax.make_jaxpr(jax.jacfwd(f))(U0)"
   ]
  },
  {
   "cell_type": "code",
   "execution_count": 66,
   "id": "fc9896c6",
   "metadata": {},
   "outputs": [
    {
     "data": {
      "text/plain": [
       "{ \u001b[34m\u001b[22m\u001b[1mlambda \u001b[39m\u001b[22m\u001b[22ma\u001b[35m:f32[3,5]\u001b[39m; b\u001b[35m:f32[5]\u001b[39m. \u001b[34m\u001b[22m\u001b[1mlet\n",
       "    \u001b[39m\u001b[22m\u001b[22mc\u001b[35m:i32[5,5]\u001b[39m = iota[dimension=0 dtype=int32 shape=(5, 5)] \n",
       "    d\u001b[35m:i32[5,5]\u001b[39m = add c 0\n",
       "    e\u001b[35m:i32[5,5]\u001b[39m = iota[dimension=1 dtype=int32 shape=(5, 5)] \n",
       "    f\u001b[35m:bool[5,5]\u001b[39m = eq d e\n",
       "    g\u001b[35m:f32[5,5]\u001b[39m = convert_element_type[new_dtype=float32 weak_type=False] f\n",
       "    h\u001b[35m:f32[5,5]\u001b[39m = slice[limit_indices=(5, 5) start_indices=(0, 0) strides=None] g\n",
       "    i\u001b[35m:f32[3]\u001b[39m = dot_general[dimension_numbers=(([1], [0]), ([], []))] a b\n",
       "    j\u001b[35m:f32[3,5]\u001b[39m = dot_general[dimension_numbers=(([1], [1]), ([], []))] a h\n",
       "    _\u001b[35m:f32[3]\u001b[39m = sin i\n",
       "    k\u001b[35m:f32[3]\u001b[39m = cos i\n",
       "    l\u001b[35m:f32[5,3]\u001b[39m = transpose[permutation=(1, 0)] j\n",
       "    m\u001b[35m:f32[1,3]\u001b[39m = broadcast_in_dim[broadcast_dimensions=(1,) shape=(1, 3)] k\n",
       "    n\u001b[35m:f32[5,3]\u001b[39m = mul l m\n",
       "    o\u001b[35m:f32[3,5]\u001b[39m = transpose[permutation=(1, 0)] n\n",
       "    p\u001b[35m:f32[3,5]\u001b[39m = slice[limit_indices=(3, 5) start_indices=(0, 0) strides=None] o\n",
       "  \u001b[34m\u001b[22m\u001b[1min \u001b[39m\u001b[22m\u001b[22m(p,) }"
      ]
     },
     "execution_count": 66,
     "metadata": {},
     "output_type": "execute_result"
    }
   ],
   "source": [
    "jax.make_jaxpr(jax.jacfwd(g))(x0)"
   ]
  }
 ],
 "metadata": {
  "kernelspec": {
   "display_name": "Python 3 (ipykernel)",
   "language": "python",
   "name": "python3"
  },
  "language_info": {
   "codemirror_mode": {
    "name": "ipython",
    "version": 3
   },
   "file_extension": ".py",
   "mimetype": "text/x-python",
   "name": "python",
   "nbconvert_exporter": "python",
   "pygments_lexer": "ipython3",
   "version": "3.9.16"
  }
 },
 "nbformat": 4,
 "nbformat_minor": 5
}
