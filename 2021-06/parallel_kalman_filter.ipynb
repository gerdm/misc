{
 "cells": [
  {
   "cell_type": "markdown",
   "id": "6bac5977",
   "metadata": {},
   "source": [
    "# Parallel Kalman Filter\n",
    "## With JAX"
   ]
  },
  {
   "cell_type": "code",
   "execution_count": 1,
   "id": "b9539fdf",
   "metadata": {},
   "outputs": [],
   "source": [
    "import jax.numpy as jnp\n",
    "import matplotlib.pyplot as plt\n",
    "from jax import random"
   ]
  },
  {
   "cell_type": "code",
   "execution_count": 2,
   "id": "7526ff08",
   "metadata": {},
   "outputs": [],
   "source": [
    "%config InlineBackend.figure_format = \"retina\""
   ]
  },
  {
   "cell_type": "code",
   "execution_count": 3,
   "id": "4ae2eca7",
   "metadata": {},
   "outputs": [
    {
     "name": "stderr",
     "output_type": "stream",
     "text": [
      "WARNING:absl:No GPU/TPU found, falling back to CPU. (Set TF_CPP_MIN_LOG_LEVEL=0 and rerun for more info.)\n"
     ]
    }
   ],
   "source": [
    "μ0 = jnp.array([0, 0])\n",
    "Σ0 = jnp.array([[1, 0], [0, 1]]) / 1000\n",
    "\n",
    "A = jnp.array([\n",
    "    [0, -1],\n",
    "    [1, 0]\n",
    "]) / 3\n",
    "\n",
    "C = jnp.array([\n",
    "    [1, -0.3],\n",
    "    [0.5, 1]\n",
    "]) \n",
    "\n",
    "Q = jnp.eye(2) * 2\n",
    "R = jnp.eye(2) / 5\n",
    "\n",
    "T = 4\n",
    "timesteps = 20\n",
    "n_samples = 5\n",
    "key = random.PRNGKey(314)"
   ]
  },
  {
   "cell_type": "code",
   "execution_count": 4,
   "id": "2d396c78",
   "metadata": {},
   "outputs": [],
   "source": [
    "key_z1, key_eps, key_delta = random.split(key, 3)\n",
    "dt = T / timesteps\n",
    "observation_size, state_size = C.shape"
   ]
  },
  {
   "cell_type": "code",
   "execution_count": 5,
   "id": "2690a8ce",
   "metadata": {},
   "outputs": [],
   "source": [
    "delta = random.multivariate_normal(key_delta, jnp.zeros(observation_size), Q, (n_samples, timesteps))"
   ]
  },
  {
   "cell_type": "code",
   "execution_count": 13,
   "id": "ed33f408",
   "metadata": {},
   "outputs": [
    {
     "data": {
      "text/plain": [
       "(5, 20, 2)"
      ]
     },
     "execution_count": 13,
     "metadata": {},
     "output_type": "execute_result"
    }
   ],
   "source": [
    "eps = random.multivariate_normal(key_eps, jnp.zeros(state_size),\n",
    "                                 Q, (n_samples, timesteps))\n",
    "eps.shape"
   ]
  },
  {
   "cell_type": "code",
   "execution_count": 14,
   "id": "4a276eff",
   "metadata": {},
   "outputs": [
    {
     "data": {
      "text/plain": [
       "DeviceArray([[-2.8453205 , -1.0356324 ],\n",
       "             [-1.462031  ,  0.11376988],\n",
       "             [ 1.0670778 , -0.8557862 ],\n",
       "             [ 0.8361672 ,  2.6661315 ],\n",
       "             [-1.1375958 ,  3.5206814 ]], dtype=float32)"
      ]
     },
     "execution_count": 14,
     "metadata": {},
     "output_type": "execute_result"
    }
   ],
   "source": [
    "eps[:, 200, :]"
   ]
  },
  {
   "cell_type": "code",
   "execution_count": 20,
   "id": "5890485d",
   "metadata": {},
   "outputs": [
    {
     "data": {
      "text/plain": [
       "DeviceArray(3, dtype=int32)"
      ]
     },
     "execution_count": 20,
     "metadata": {},
     "output_type": "execute_result"
    }
   ],
   "source": [
    "key = random.PRNGKey(314)\n",
    "random.randint(key, (10, ), minval=1, maxval=10)[100000]"
   ]
  },
  {
   "cell_type": "markdown",
   "id": "62384df0",
   "metadata": {},
   "source": [
    "## vmap test"
   ]
  },
  {
   "cell_type": "code",
   "execution_count": 21,
   "id": "56fc2de9",
   "metadata": {},
   "outputs": [],
   "source": [
    "def important_step(x):\n",
    "    return C @ x"
   ]
  },
  {
   "cell_type": "code",
   "execution_count": 23,
   "id": "2b28fb48",
   "metadata": {},
   "outputs": [],
   "source": [
    "xsamp = random.randint(key, (10, 2), minval=1, maxval=10)"
   ]
  },
  {
   "cell_type": "code",
   "execution_count": 25,
   "id": "a4eaf154",
   "metadata": {},
   "outputs": [],
   "source": [
    "import jax"
   ]
  },
  {
   "cell_type": "code",
   "execution_count": 28,
   "id": "6fda5552",
   "metadata": {},
   "outputs": [
    {
     "data": {
      "text/plain": [
       "DeviceArray([[ 2.7       ,  2.5       ],\n",
       "             [ 0.79999995,  5.        ],\n",
       "             [ 1.8       ,  5.5       ],\n",
       "             [ 2.3       , 11.5       ],\n",
       "             [ 0.89999986,  8.5       ],\n",
       "             [ 4.8       ,  7.        ],\n",
       "             [-0.20000005,  4.5       ],\n",
       "             [-1.7       ,  9.5       ],\n",
       "             [ 8.1       ,  7.5       ],\n",
       "             [-0.4000001 ,  9.        ]], dtype=float32)"
      ]
     },
     "execution_count": 28,
     "metadata": {},
     "output_type": "execute_result"
    }
   ],
   "source": [
    "jax.vmap(important_step, 0)(xsamp)"
   ]
  }
 ],
 "metadata": {
  "kernelspec": {
   "display_name": "Python 3",
   "language": "python",
   "name": "python3"
  },
  "language_info": {
   "codemirror_mode": {
    "name": "ipython",
    "version": 3
   },
   "file_extension": ".py",
   "mimetype": "text/x-python",
   "name": "python",
   "nbconvert_exporter": "python",
   "pygments_lexer": "ipython3",
   "version": "3.8.5"
  }
 },
 "nbformat": 4,
 "nbformat_minor": 5
}
