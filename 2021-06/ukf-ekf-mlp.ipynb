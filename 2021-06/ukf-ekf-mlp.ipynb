{
 "cells": [
  {
   "cell_type": "markdown",
   "id": "79763393",
   "metadata": {},
   "source": [
    "# Training an MLP using UKF/EKF"
   ]
  },
  {
   "cell_type": "code",
   "execution_count": 844,
   "id": "030275f4",
   "metadata": {},
   "outputs": [],
   "source": [
    "import jax\n",
    "import flax\n",
    "import jax.numpy as jnp\n",
    "import matplotlib.pyplot as plt\n",
    "import numpy as np\n",
    "from flax import linen as nn\n",
    "from jax.random import PRNGKey, normal, split, uniform\n",
    "from jax.ops import index_update\n",
    "from tqdm.notebook import tqdm\n",
    "from functools import partial"
   ]
  },
  {
   "cell_type": "code",
   "execution_count": 2,
   "id": "1e9f3cbf",
   "metadata": {},
   "outputs": [],
   "source": [
    "%config InlineBackend.figure_format = \"retina\"\n",
    "plt.rcParams[\"axes.spines.top\"] = False\n",
    "plt.rcParams[\"axes.spines.right\"] = False"
   ]
  },
  {
   "cell_type": "markdown",
   "id": "599ee2d1",
   "metadata": {},
   "source": [
    "$$\n",
    "    y=x + 2\\cos(x)(-5)\\sin(x) + x^3\n",
    "$$"
   ]
  },
  {
   "cell_type": "code",
   "execution_count": 3,
   "id": "e9a7fd1c",
   "metadata": {},
   "outputs": [],
   "source": [
    "def f(x): return x -10 * jnp.cos(x) * jnp.sin(x) + x ** 3"
   ]
  },
  {
   "cell_type": "code",
   "execution_count": 1434,
   "id": "e2ff8c01",
   "metadata": {},
   "outputs": [],
   "source": [
    "n_obs = 200\n",
    "key = PRNGKey(314)\n",
    "key_x, key_y = split(key, 2)\n",
    "noise_y = normal(key_y, (n_obs, ))\n",
    "\n",
    "x = jnp.linspace(-3, 3, n_obs)\n",
    "x = x + normal(key_x, (n_obs,))* 0.1\n",
    "y = f(x) + noise_y * 3\n",
    "\n",
    "X = np.c_[x, y]\n",
    "np.random.shuffle(X)\n",
    "x, y = jnp.array(X.T)"
   ]
  },
  {
   "cell_type": "code",
   "execution_count": 1435,
   "id": "d7e9ebbd",
   "metadata": {},
   "outputs": [
    {
     "data": {
      "text/plain": [
       "<matplotlib.collections.PathCollection at 0x7fbcf2529400>"
      ]
     },
     "execution_count": 1435,
     "metadata": {},
     "output_type": "execute_result"
    },
    {
     "data": {
      "image/png": "[encoded data removed]",
      "text/plain": [
       "<Figure size 432x288 with 1 Axes>"
      ]
     },
     "metadata": {
      "image/png": {
       "height": 248,
       "width": 377
      },
      "needs_background": "light"
     },
     "output_type": "display_data"
    }
   ],
   "source": [
    "plt.scatter(x, y, s=14)"
   ]
  },
  {
   "cell_type": "markdown",
   "id": "fed9e798",
   "metadata": {},
   "source": [
    "## MLP"
   ]
  },
  {
   "cell_type": "code",
   "execution_count": 1680,
   "id": "757efb09",
   "metadata": {},
   "outputs": [],
   "source": [
    "class MLP1D(nn.Module):\n",
    "    n_hidden: int\n",
    "        \n",
    "    def setup(self):\n",
    "        self.layer1 = nn.Dense(self.n_hidden)\n",
    "        self.layer2 = nn.Dense(self.n_hidden)\n",
    "        self.layer_out = nn.Dense(1)\n",
    "    \n",
    "    def __call__(self, x):\n",
    "        x = x[:, None]\n",
    "        x = nn.tanh(self.layer1(x))\n",
    "#         x = nn.sigmoid(self.layer2(x))\n",
    "        x = self.layer_out(x)\n",
    "        return x"
   ]
  },
  {
   "cell_type": "code",
   "execution_count": 1681,
   "id": "df8d2c10",
   "metadata": {},
   "outputs": [],
   "source": [
    "def make_mse(x_batch, y_batch):\n",
    "    def mse(params):\n",
    "        def squared_error(x, y):\n",
    "            yhat = model.apply(params, x)\n",
    "            err = y - yhat\n",
    "            return jnp.inner(err, err) / 2.0\n",
    "        return jnp.mean(jax.vmap(squared_error)(x_batch, y_batch), axis=0).ravel()[0]\n",
    "    return jax.jit(mse)\n",
    "\n",
    "loss = make_mse(x[:,None], y)"
   ]
  },
  {
   "cell_type": "code",
   "execution_count": 1682,
   "id": "f6cd6211",
   "metadata": {},
   "outputs": [],
   "source": [
    "key = PRNGKey(314)\n",
    "key1, key2 = split(key, 2)\n",
    "\n",
    "model = MLP1D(3)\n",
    "params = model.init(key1, x) \n",
    "yhat = model.apply(params, x)"
   ]
  },
  {
   "cell_type": "raw",
   "id": "abc8fbee",
   "metadata": {},
   "source": [
    "np.random.seed(314)\n",
    "def random_weights(v):\n",
    "    return np.random.randn(*v.shape)\n",
    "    \n",
    "params = jax.tree_multimap(lambda w: random_weights(w * 0) * 20, params)\n",
    "yhat = model.apply(params, x)"
   ]
  },
  {
   "cell_type": "code",
   "execution_count": 1683,
   "id": "ce9e94f0",
   "metadata": {},
   "outputs": [
    {
     "data": {
      "text/plain": [
       "DeviceArray(116.20354, dtype=float32)"
      ]
     },
     "execution_count": 1683,
     "metadata": {},
     "output_type": "execute_result"
    }
   ],
   "source": [
    "yhat = model.apply(params, x)\n",
    "err = (y[:, None] - yhat)\n",
    "jnp.linalg.norm(err, 2) ** 2 / (2 * len(x))"
   ]
  },
  {
   "cell_type": "code",
   "execution_count": 1684,
   "id": "9c9b0ecc",
   "metadata": {},
   "outputs": [
    {
     "data": {
      "application/vnd.jupyter.widget-view+json": {
       "model_id": "3fd7f034753e496da743951c3f8d21c0",
       "version_major": 2,
       "version_minor": 0
      },
      "text/plain": [
       "  0%|          | 0/1000 [00:00<?, ?it/s]"
      ]
     },
     "metadata": {},
     "output_type": "display_data"
    }
   ],
   "source": [
    "alpha = 0.1\n",
    "n_epochs = 1000\n",
    "grad_fn = jax.value_and_grad(loss)\n",
    "pb = tqdm(range(n_epochs))\n",
    "for i in pb:\n",
    "    loss_val, grads =  grad_fn(params)\n",
    "    params = jax.tree_multimap(lambda p, g: p - alpha * g, params, grads)\n",
    "    if i % 100 == 0:\n",
    "        desc = f\"Loss step {i:03}: {loss_val:0.2f}\"\n",
    "        pb.set_description_str(desc)"
   ]
  },
  {
   "cell_type": "code",
   "execution_count": 1685,
   "id": "11ebcd24",
   "metadata": {},
   "outputs": [],
   "source": [
    "xtest = jnp.linspace(x.min(), x.max(), 200)\n",
    "yhat_test = model.apply(params, xtest)"
   ]
  },
  {
   "cell_type": "code",
   "execution_count": 1686,
   "id": "cce19582",
   "metadata": {},
   "outputs": [
    {
     "data": {
      "text/plain": [
       "<matplotlib.legend.Legend at 0x7fbcee643340>"
      ]
     },
     "execution_count": 1686,
     "metadata": {},
     "output_type": "execute_result"
    },
    {
     "data": {
      "image/png": "[encoded data removed]",
      "text/plain": [
       "<Figure size 432x288 with 1 Axes>"
      ]
     },
     "metadata": {
      "image/png": {
       "height": 263,
       "width": 377
      },
      "needs_background": "light"
     },
     "output_type": "display_data"
    }
   ],
   "source": [
    "plt.plot(xtest, yhat_test, c=\"tab:red\", label=\"MLP\")\n",
    "# plt.plot(x, f(x), label=\"underlying\", linestyle=\"--\")\n",
    "plt.scatter(x, y, s=14, c=\"none\", edgecolor=\"black\", label=\"observations\")\n",
    "plt.title(f\"MLP fit after {n_epochs} epochs\")\n",
    "plt.legend()"
   ]
  },
  {
   "cell_type": "code",
   "execution_count": null,
   "id": "07396e03",
   "metadata": {},
   "outputs": [],
   "source": [
    "# This doesn't work\n",
    "Hw = jax.jacobian(model)\n",
    "Hw(x)"
   ]
  },
  {
   "cell_type": "markdown",
   "id": "f30fbe84",
   "metadata": {},
   "source": [
    "# UKF Method"
   ]
  },
  {
   "cell_type": "code",
   "execution_count": 1687,
   "id": "53bf390a",
   "metadata": {},
   "outputs": [],
   "source": [
    "W0 = jax.tree_map(lambda p: p * 0, params)"
   ]
  },
  {
   "cell_type": "code",
   "execution_count": 1688,
   "id": "3aa2c277",
   "metadata": {},
   "outputs": [
    {
     "data": {
      "text/plain": [
       "FrozenDict({\n",
       "    params: {\n",
       "        layer1: {\n",
       "            bias: (3,),\n",
       "            kernel: (1, 3),\n",
       "        },\n",
       "        layer_out: {\n",
       "            bias: (1,),\n",
       "            kernel: (3, 1),\n",
       "        },\n",
       "    },\n",
       "})"
      ]
     },
     "execution_count": 1688,
     "metadata": {},
     "output_type": "execute_result"
    }
   ],
   "source": [
    "jax.tree_map(lambda p: p.shape, params)"
   ]
  },
  {
   "cell_type": "code",
   "execution_count": 1689,
   "id": "ea9e05b3",
   "metadata": {},
   "outputs": [],
   "source": [
    "def fz(W): return W\n",
    "def fx(W, x): return model.apply(params, x)"
   ]
  },
  {
   "cell_type": "code",
   "execution_count": 1690,
   "id": "61daaa4f",
   "metadata": {},
   "outputs": [
    {
     "data": {
      "text/plain": [
       "DeviceArray([[-11.58442]], dtype=float32)"
      ]
     },
     "execution_count": 1690,
     "metadata": {},
     "output_type": "execute_result"
    }
   ],
   "source": [
    "fx(params, x[0, None])"
   ]
  },
  {
   "cell_type": "code",
   "execution_count": 1691,
   "id": "2b0f36a3",
   "metadata": {},
   "outputs": [],
   "source": [
    "leafs, treedef = jax.tree_util.tree_flatten(params)"
   ]
  },
  {
   "cell_type": "code",
   "execution_count": 1692,
   "id": "351b78e8",
   "metadata": {},
   "outputs": [
    {
     "data": {
      "text/plain": [
       "FrozenDict({\n",
       "    params: {\n",
       "        layer1: {\n",
       "            bias: DeviceArray([-9.49408, -4.51625, 10.93823], dtype=float32),\n",
       "            kernel: DeviceArray([[ 4.56313, -2.89197,  4.6672 ]], dtype=float32),\n",
       "        },\n",
       "        layer_out: {\n",
       "            bias: DeviceArray([-2.60727], dtype=float32),\n",
       "            kernel: DeviceArray([[11.98262],\n",
       "                         [-7.68932],\n",
       "                         [ 7.09752]], dtype=float32),\n",
       "        },\n",
       "    },\n",
       "})"
      ]
     },
     "execution_count": 1692,
     "metadata": {},
     "output_type": "execute_result"
    }
   ],
   "source": [
    "jax.tree_unflatten(treedef, leafs)"
   ]
  },
  {
   "cell_type": "markdown",
   "id": "af5a9f90",
   "metadata": {},
   "source": [
    "### Flatten and reconstruction of the weights"
   ]
  },
  {
   "cell_type": "code",
   "execution_count": 1693,
   "id": "1f8bbe42",
   "metadata": {},
   "outputs": [
    {
     "data": {
      "text/plain": [
       "(10, 1)"
      ]
     },
     "execution_count": 1693,
     "metadata": {},
     "output_type": "execute_result"
    }
   ],
   "source": [
    "leafs, treedef = jax.tree_util.tree_flatten(params)\n",
    "shapes = [leaf.shape for leaf in leafs]\n",
    "\n",
    "# Flattening of the parameters\n",
    "all_params = jax.tree_map(lambda v: v.reshape(-1, 1), leafs)\n",
    "all_params = jnp.concatenate(all_params)\n",
    "all_params.shape "
   ]
  },
  {
   "cell_type": "code",
   "execution_count": 1694,
   "id": "b3b1f91d",
   "metadata": {},
   "outputs": [],
   "source": [
    "# cut-off points of the flattened weigths\n",
    "indices = jnp.array([np.prod(s) for s in shapes]).cumsum()\n",
    "\n",
    "# Pytree (dict) reconstruction of the weights\n",
    "split_reconstruction = jnp.array_split(all_params, indices)\n",
    "split_reconstruction = [arr.reshape(shape) for arr, shape in zip(split_reconstruction, shapes)]\n",
    "params_reconstructed = jax.tree_unflatten(treedef, split_reconstruction)"
   ]
  },
  {
   "cell_type": "code",
   "execution_count": 1695,
   "id": "7543cdb7",
   "metadata": {},
   "outputs": [],
   "source": [
    "def sqrtm(M):\n",
    "    \"\"\"\n",
    "    Compute the matrix square-root of a hermitian\n",
    "    matrix M. i,e, R such that RR = M\n",
    "\n",
    "    Parameters\n",
    "    ----------\n",
    "    M: array(m, m)\n",
    "        Hermitian matrix\n",
    "\n",
    "    Returns\n",
    "    -------\n",
    "    array(m, m): square-root matrix\n",
    "    \"\"\"\n",
    "    evals, evecs = jnp.linalg.eigh(M)\n",
    "    R = evecs @ jnp.sqrt(jnp.diag(evals)) @ jnp.linalg.inv(evecs)\n",
    "    return R"
   ]
  },
  {
   "cell_type": "code",
   "execution_count": 1696,
   "id": "963d2bc7",
   "metadata": {},
   "outputs": [
    {
     "data": {
      "text/plain": [
       "DeviceArray([[1., 0., 0., 0., 0., 0., 0., 0., 0., 0.],\n",
       "             [0., 1., 0., 0., 0., 0., 0., 0., 0., 0.],\n",
       "             [0., 0., 1., 0., 0., 0., 0., 0., 0., 0.],\n",
       "             [0., 0., 0., 1., 0., 0., 0., 0., 0., 0.],\n",
       "             [0., 0., 0., 0., 1., 0., 0., 0., 0., 0.],\n",
       "             [0., 0., 0., 0., 0., 1., 0., 0., 0., 0.],\n",
       "             [0., 0., 0., 0., 0., 0., 1., 0., 0., 0.],\n",
       "             [0., 0., 0., 0., 0., 0., 0., 1., 0., 0.],\n",
       "             [0., 0., 0., 0., 0., 0., 0., 0., 1., 0.],\n",
       "             [0., 0., 0., 0., 0., 0., 0., 0., 0., 1.]], dtype=float32)"
      ]
     },
     "execution_count": 1696,
     "metadata": {},
     "output_type": "execute_result"
    }
   ],
   "source": [
    "n_params, _ = all_params.shape\n",
    "Sigma0 = jnp.eye(n_params)\n",
    "Sigma_half = sqrtm(Sigma0)\n",
    "Sigma_half"
   ]
  },
  {
   "cell_type": "code",
   "execution_count": 1697,
   "id": "9d06ea30",
   "metadata": {},
   "outputs": [
    {
     "data": {
      "text/plain": [
       "DeviceArray([[-0.04824]], dtype=float32)"
      ]
     },
     "execution_count": 1697,
     "metadata": {},
     "output_type": "execute_result"
    }
   ],
   "source": [
    "model.apply(params_reconstructed, x[1, None])"
   ]
  },
  {
   "cell_type": "code",
   "execution_count": 1698,
   "id": "7d99eb6b",
   "metadata": {},
   "outputs": [
    {
     "data": {
      "text/plain": [
       "[(3,), (1, 3), (1,), (3, 1)]"
      ]
     },
     "execution_count": 1698,
     "metadata": {},
     "output_type": "execute_result"
    }
   ],
   "source": [
    "shapes"
   ]
  },
  {
   "cell_type": "code",
   "execution_count": 1699,
   "id": "7889c6aa",
   "metadata": {},
   "outputs": [
    {
     "data": {
      "text/plain": [
       "PyTreeDef(CustomNode(<class 'flax.core.frozen_dict.FrozenDict'>[()], [{'params': {'layer1': {'bias': *, 'kernel': *}, 'layer_out': {'bias': *, 'kernel': *}}}]))"
      ]
     },
     "execution_count": 1699,
     "metadata": {},
     "output_type": "execute_result"
    }
   ],
   "source": [
    "treedef"
   ]
  },
  {
   "cell_type": "code",
   "execution_count": 1700,
   "id": "3f9d63e5",
   "metadata": {},
   "outputs": [],
   "source": [
    "def reconstruct_weights(params_flat, shapes, treedef):\n",
    "    indices = jnp.array([np.prod(s) for s in shapes]).cumsum()\n",
    "    split_reconstruction = jnp.array_split(params_flat, indices)\n",
    "    split_reconstruction = [arr.reshape(shape) for arr, shape in zip(split_reconstruction, shapes)]\n",
    "    params = jax.tree_unflatten(treedef, split_reconstruction)\n",
    "    return params\n",
    "\n",
    "\n",
    "def forward_mlp(X, params_flat, model, shapes, treedef):\n",
    "    \"\"\"\n",
    "    Run the flax-MLP with flattened parameters\n",
    "    \n",
    "    Parameters\n",
    "    ----------\n",
    "    X: array(n_obs, dim_in)\n",
    "        Array of observations\n",
    "    params_flat: array(n_params, )\n",
    "    model: Subclass of nn.module\n",
    "    shapes: list of tuples\n",
    "        Each element contains the original\n",
    "        shape of the MLP\n",
    "    treedef: PyTreeDef\n",
    "        Result of running jax.tree_util.tree_flatten\n",
    "        over `model`\n",
    "    \n",
    "    Returns\n",
    "    -------\n",
    "    * array(n_obs, dim_out?)\n",
    "    \"\"\"\n",
    "    params = reconstruct_weights(params_flat, shapes, treedef)\n",
    "    yhat = model.apply(params, X)\n",
    "    return yhat"
   ]
  },
  {
   "cell_type": "code",
   "execution_count": 1701,
   "id": "120396b5",
   "metadata": {},
   "outputs": [
    {
     "data": {
      "text/plain": [
       "DeviceArray([[-0.04824]], dtype=float32)"
      ]
     },
     "execution_count": 1701,
     "metadata": {},
     "output_type": "execute_result"
    }
   ],
   "source": [
    "forward_mlp(x[1, None],  all_params, model, shapes, treedef)"
   ]
  },
  {
   "cell_type": "code",
   "execution_count": 1702,
   "id": "0c7ca621",
   "metadata": {},
   "outputs": [
    {
     "data": {
      "text/plain": [
       "DeviceArray([[-0.04824]], dtype=float32)"
      ]
     },
     "execution_count": 1702,
     "metadata": {},
     "output_type": "execute_result"
    }
   ],
   "source": [
    "model.apply(params, x[1, None])"
   ]
  },
  {
   "cell_type": "code",
   "execution_count": 1703,
   "id": "6cd8e1e3",
   "metadata": {},
   "outputs": [],
   "source": [
    "class UnscentedKalmanFilter:\n",
    "    \"\"\"\n",
    "    Implementation of the Unscented Kalman Filter for discrete time systems\n",
    "    \"\"\"\n",
    "    def __init__(self, fz, fx, Q, R, alpha, beta, kappa):\n",
    "        self.fz = fz\n",
    "        self.fx = fx\n",
    "        self.Q = Q\n",
    "        self.R = R\n",
    "        self.d, _ = Q.shape\n",
    "        self.alpha = alpha\n",
    "        self.beta = beta\n",
    "        self.kappa = kappa\n",
    "        self.lmbda = alpha ** 2 * (self.d + kappa) - self.d\n",
    "        self.gamma = jnp.sqrt(self.d + self.lmbda)\n",
    "    \n",
    "    @staticmethod\n",
    "    def sqrtm(M):\n",
    "        \"\"\"\n",
    "        Compute the matrix square-root of a hermitian\n",
    "        matrix M. i,e, R such that RR = M\n",
    "        \n",
    "        Parameters\n",
    "        ----------\n",
    "        M: array(m, m)\n",
    "            Hermitian matrix\n",
    "        \n",
    "        Returns\n",
    "        -------\n",
    "        array(m, m): square-root matrix\n",
    "        \"\"\"\n",
    "        evals, evecs = jnp.linalg.eigh(M)\n",
    "        R = evecs @ jnp.sqrt(jnp.diag(evals)) @ jnp.linalg.inv(evecs)\n",
    "        return R\n",
    "\n",
    "    def filter(self, init_state, sample_obs, X):\n",
    "        \"\"\"\n",
    "        Run the Unscented Kalman Filter algorithm over a set of observed samples.\n",
    "        Parameters\n",
    "        ----------\n",
    "        sample_obs: array(nsamples, obs_size)\n",
    "        Returns\n",
    "        -------\n",
    "        * array(nsamples, state_size)\n",
    "            History of filtered mean terms\n",
    "        * array(nsamples, state_size, state_size)\n",
    "            History of filtered covariance terms\n",
    "        \"\"\"\n",
    "        wm_vec = jnp.array([1 / (2 * (self.d + self.lmbda)) if i > 0\n",
    "                            else self.lmbda / (self.d + self.lmbda)\n",
    "                            for i in range(2 * self.d + 1)])\n",
    "        wc_vec = jnp.array([1 / (2 * (self.d + self.lmbda)) if i > 0\n",
    "                            else self.lmbda / (self.d + self.lmbda) + (1 - self.alpha ** 2 + self.beta)\n",
    "                            for i in range(2 * self.d + 1)])\n",
    "        \n",
    "        \n",
    "        nsteps, _ = sample_obs.shape\n",
    "        mu_t = init_state\n",
    "        Sigma_t = self.Q\n",
    "\n",
    "        mu_hist = jnp.zeros((nsteps, self.d))\n",
    "        Sigma_hist = jnp.zeros((nsteps, self.d, self.d))\n",
    "\n",
    "        mu_hist = index_update(mu_hist, 0, mu_t)\n",
    "        Sigma_hist = index_update(Sigma_hist, 0, Sigma_t)\n",
    "        \n",
    "        for t in range(0, nsteps):\n",
    "            # TO-DO: use jax.scipy.linalg.sqrtm when it gets added to lib\n",
    "            comp1 = mu_t[:, None] + self.gamma * self.sqrtm(Sigma_t)\n",
    "            comp2 = mu_t[:, None] - self.gamma * self.sqrtm(Sigma_t)\n",
    "            \n",
    "            sigma_points = jnp.concatenate((mu_t[:, None], comp1, comp2), axis=1)\n",
    "\n",
    "            z_bar = self.fz(sigma_points)\n",
    "            mu_bar = z_bar @ wm_vec\n",
    "            Sigma_bar = (z_bar - mu_bar[:, None])\n",
    "            Sigma_bar = jnp.einsum(\"i,ji,ki->jk\", wc_vec, Sigma_bar, Sigma_bar) + self.Q\n",
    "            \n",
    "            # Second step\n",
    "            Sigma_bar_half = self.sqrtm(Sigma_bar)\n",
    "            comp1 = mu_bar[:, None] + self.gamma * Sigma_bar_half\n",
    "            comp2 = mu_bar[:, None] - self.gamma * Sigma_bar_half\n",
    "            #sigma_points = jnp.c_[mu_bar, comp1, comp2]\n",
    "            sigma_points = jnp.concatenate((mu_bar[:, None], comp1, comp2), axis=1)\n",
    "\n",
    "            ## ****** Some important code here ******\n",
    "            x_bar = self.fx(X[t, None], sigma_points).ravel()\n",
    "            x_hat = x_bar @ wm_vec\n",
    "            St = (x_bar - x_hat)\n",
    "            # St = jnp.einsum(\"i,ji,ki->jk\", wc_vec, St, St) + self.R\n",
    "            St = (wc_vec * St ** 2).sum() + self.R\n",
    "\n",
    "            mu_hat_component = (z_bar - mu_bar[:, None])\n",
    "            x_hat_component = (x_bar - x_hat)[None, :]\n",
    "            Sigma_bar_y = jnp.einsum(\"i,ji,ki->jk\", wc_vec, mu_hat_component, x_hat_component)\n",
    "            \n",
    "        \n",
    "            Kt = Sigma_bar_y @ jnp.linalg.inv(St)\n",
    "            mu_t = mu_bar + Kt @ (sample_obs[t] - x_hat)\n",
    "            Sigma_t = Sigma_bar - Kt @ St @ Kt.T\n",
    "            \n",
    "            mu_t = mu_t.ravel()\n",
    "            mu_hist = index_update(mu_hist, t, mu_t)\n",
    "            Sigma_hist = index_update(Sigma_hist, t, Sigma_t)\n",
    "\n",
    "        return mu_hist, Sigma_hist"
   ]
  },
  {
   "cell_type": "code",
   "execution_count": 1704,
   "id": "008f561d",
   "metadata": {},
   "outputs": [],
   "source": [
    "# Check whether 'unrolled' forward is the same as flax's forward\n",
    "fx_p = partial(forward_mlp, model=model, shapes=shapes, treedef=treedef)\n",
    "assert fx_p(x[1, None], all_params)  == model.apply(params, x[1, None])"
   ]
  },
  {
   "cell_type": "code",
   "execution_count": 1705,
   "id": "f60ebd0c",
   "metadata": {},
   "outputs": [],
   "source": [
    "n_obs = 100\n",
    "key = PRNGKey(314)\n",
    "key_x, key_y = split(key, 2)\n",
    "noise_y = normal(key_y, (n_obs, ))\n",
    "\n",
    "x = jnp.linspace(-3, 3, n_obs)\n",
    "x = x + normal(key_x, (n_obs,)) * 0.1\n",
    "y = f(x) + noise_y * 3\n",
    "\n",
    "X = np.c_[x, y]\n",
    "np.random.shuffle(X)\n",
    "x, y = jnp.array(X.T)"
   ]
  },
  {
   "cell_type": "code",
   "execution_count": 1706,
   "id": "ec0d67ed",
   "metadata": {},
   "outputs": [],
   "source": [
    "n_params, _ = all_params.shape\n",
    "\n",
    "key = PRNGKey(314)\n",
    "σ = 1.0\n",
    "mu0 = normal(key, (n_params,)) * σ\n",
    "mu0 = jnp.zeros((n_params, ))"
   ]
  },
  {
   "cell_type": "code",
   "execution_count": 1742,
   "id": "94690b34",
   "metadata": {
    "scrolled": false
   },
   "outputs": [],
   "source": [
    "Q = jnp.eye(n_params) * σ ** 2\n",
    "R = jnp.eye(1) * 0.9\n",
    "alpha, beta, kappa = 0.001, 2, len(all_params)\n",
    "alpha, beta, kappa = 1.0, 2.0, 3 - len(all_params)\n",
    "\n",
    "fx_p = partial(forward_mlp, model=model, shapes=shapes, treedef=treedef)\n",
    "fx_vmap = jax.vmap(fx_p, in_axes=[None, 1])\n",
    "ukf = UnscentedKalmanFilter(fz, fx_vmap, Q, R, alpha, beta, kappa)\n",
    "mu_hist, Sigma_hist = ukf.filter(mu0, y[:, None], x)"
   ]
  },
  {
   "cell_type": "code",
   "execution_count": 1743,
   "id": "f86c4865",
   "metadata": {
    "scrolled": true
   },
   "outputs": [
    {
     "data": {
      "text/plain": [
       "<matplotlib.legend.Legend at 0x7fbccec06df0>"
      ]
     },
     "execution_count": 1743,
     "metadata": {},
     "output_type": "execute_result"
    },
    {
     "data": {
      "image/png": "[encoded data removed]",
      "text/plain": [
       "<Figure size 432x288 with 1 Axes>"
      ]
     },
     "metadata": {
      "image/png": {
       "height": 248,
       "width": 377
      },
      "needs_background": "light"
     },
     "output_type": "display_data"
    }
   ],
   "source": [
    "xtest = jnp.linspace(x.min(), x.max(), 200)\n",
    "yhat_test = model.apply(params, xtest)\n",
    "\n",
    "yhat_ukf = fx_p(xtest, mu_hist[-1])\n",
    "plt.plot(xtest, yhat_ukf, label=f\"UKF+MLP ($\\sigma^2={σ ** 2:0.3}$ | single epoch)\", linewidth=2)\n",
    "plt.plot(xtest, yhat_test, c=\"tab:red\", label=f\"SGD+MLP ({n_epochs} epochs)\", linewidth=2)\n",
    "plt.plot(xtest, f(xtest), label=\"underlying\", linestyle=\"--\")\n",
    "plt.scatter(x, y, s=14, c=\"none\", edgecolor=\"black\", label=\"observations\")\n",
    "plt.legend()"
   ]
  },
  {
   "cell_type": "code",
   "execution_count": 1744,
   "id": "6782b211",
   "metadata": {},
   "outputs": [
    {
     "data": {
      "text/plain": [
       "DeviceArray(50.58451, dtype=float32)"
      ]
     },
     "execution_count": 1744,
     "metadata": {},
     "output_type": "execute_result"
    }
   ],
   "source": [
    "jnp.mean((f(xtest) - yhat_ukf.ravel()) ** 2)"
   ]
  },
  {
   "cell_type": "code",
   "execution_count": 1745,
   "id": "2a6e0922",
   "metadata": {},
   "outputs": [
    {
     "data": {
      "text/plain": [
       "DeviceArray(13.29673, dtype=float32)"
      ]
     },
     "execution_count": 1745,
     "metadata": {},
     "output_type": "execute_result"
    }
   ],
   "source": [
    "jnp.mean((f(xtest) - yhat_test.ravel()) ** 2)"
   ]
  },
  {
   "cell_type": "code",
   "execution_count": 1746,
   "id": "c2c835ad",
   "metadata": {},
   "outputs": [
    {
     "data": {
      "text/plain": [
       "DeviceArray([-9.49408, -4.51625, 10.93823,  4.56313, -2.89197,  4.6672 ,\n",
       "             -2.60727, 11.98262, -7.68932,  7.09752], dtype=float32)"
      ]
     },
     "execution_count": 1746,
     "metadata": {},
     "output_type": "execute_result"
    }
   ],
   "source": [
    "all_params.ravel()"
   ]
  },
  {
   "cell_type": "code",
   "execution_count": 1747,
   "id": "f2011cb8",
   "metadata": {},
   "outputs": [
    {
     "data": {
      "text/plain": [
       "DeviceArray([2.     , 2.     , 2.     , 2.     , 2.     , 2.     ,\n",
       "             1.31034, 2.     , 2.     , 2.     ], dtype=float32)"
      ]
     },
     "execution_count": 1747,
     "metadata": {},
     "output_type": "execute_result"
    }
   ],
   "source": [
    "jnp.diag(Sigma_hist[0])"
   ]
  },
  {
   "cell_type": "code",
   "execution_count": 1748,
   "id": "e6fcec0e",
   "metadata": {},
   "outputs": [
    {
     "data": {
      "text/plain": [
       "DeviceArray([36.56226, 71.30035, 38.15334, 25.37191, 54.44939, 30.09374,\n",
       "             27.37941, 18.81057, 16.33079, 22.07232], dtype=float32)"
      ]
     },
     "execution_count": 1748,
     "metadata": {},
     "output_type": "execute_result"
    }
   ],
   "source": [
    "jnp.diag(Sigma_hist[-1])"
   ]
  },
  {
   "cell_type": "code",
   "execution_count": 1749,
   "id": "80e30802",
   "metadata": {},
   "outputs": [],
   "source": [
    "np.set_printoptions(suppress=True, precision=5)"
   ]
  },
  {
   "cell_type": "code",
   "execution_count": 1750,
   "id": "eeff0cf6",
   "metadata": {},
   "outputs": [
    {
     "data": {
      "text/plain": [
       "FrozenDict({\n",
       "    params: {\n",
       "        layer1: {\n",
       "            bias: DeviceArray([-14.05356,   1.27139, -17.67331], dtype=float32),\n",
       "            kernel: DeviceArray([[  8.40082, -12.2473 , -10.34589]], dtype=float32),\n",
       "        },\n",
       "        layer_out: {\n",
       "            bias: DeviceArray([-1.50648], dtype=float32),\n",
       "            kernel: DeviceArray([[ 17.23878],\n",
       "                         [  5.17535],\n",
       "                         [-16.22234]], dtype=float32),\n",
       "        },\n",
       "    },\n",
       "})"
      ]
     },
     "execution_count": 1750,
     "metadata": {},
     "output_type": "execute_result"
    }
   ],
   "source": [
    "reconstruct_weights(mu_hist[-1], shapes, treedef)"
   ]
  },
  {
   "cell_type": "code",
   "execution_count": 1751,
   "id": "a94d3787",
   "metadata": {
    "scrolled": true
   },
   "outputs": [
    {
     "data": {
      "text/plain": [
       "FrozenDict({\n",
       "    params: {\n",
       "        layer1: {\n",
       "            bias: DeviceArray([-9.49408, -4.51625, 10.93823], dtype=float32),\n",
       "            kernel: DeviceArray([[ 4.56313, -2.89197,  4.6672 ]], dtype=float32),\n",
       "        },\n",
       "        layer_out: {\n",
       "            bias: DeviceArray([-2.60727], dtype=float32),\n",
       "            kernel: DeviceArray([[11.98262],\n",
       "                         [-7.68932],\n",
       "                         [ 7.09752]], dtype=float32),\n",
       "        },\n",
       "    },\n",
       "})"
      ]
     },
     "execution_count": 1751,
     "metadata": {},
     "output_type": "execute_result"
    }
   ],
   "source": [
    "params"
   ]
  },
  {
   "cell_type": "code",
   "execution_count": null,
   "id": "07630daa",
   "metadata": {
    "scrolled": true
   },
   "outputs": [],
   "source": [
    "import matplotlib.animation as animation\n",
    "\n",
    "nframes = n_obs\n",
    "save_animation = True\n",
    "fig, ax = plt.subplots(1,2, figsize=(14, 4))\n",
    "def func(i):\n",
    "    plt.cla()\n",
    "    ax[0].set_title(f\"iteration: {i}\")\n",
    "    ax[0].imshow(jnp.log(Sigma_hist[i]))\n",
    "    ax[1].plot(xtest, fx_p(xtest, mu_hist[i, :, None]), label=f\"UKF+MLP ($\\sigma^2={σ ** 2:0.2f}$ | single epoch)\")\n",
    "    ax[1].plot(xtest, yhat_test, c=\"tab:red\", label=f\"SGD+MLP ({n_epochs} epochs)\")\n",
    "    ax[1].plot(xtest, f(xtest), label=\"underlying\", linestyle=\"--\")\n",
    "    ax[1].scatter(x, y, s=14, c=\"none\", edgecolor=\"black\", label=\"observations\")\n",
    "    ax[1].scatter(x, y, s=14, c=\"none\", edgecolor=\"black\", label=\"observations\")\n",
    "    ax[1].scatter(x[i], y[i], s=30, c=\"tab:red\")\n",
    "    ax[1].legend(loc=\"upper left\")\n",
    "    return ax\n",
    "    \n",
    "ani = animation.FuncAnimation(fig, func, frames=nframes)\n",
    "\n",
    "#writer = animation.FFMpegFileWriter(bitrate=500)\n",
    "if save_animation:    \n",
    "    ani.save(\"/Users/gerardoduran/Desktop/cov_ukf3.gif\", dpi=100, bitrate=-1)"
   ]
  },
  {
   "cell_type": "code",
   "execution_count": 1393,
   "id": "cc5a5ab9",
   "metadata": {},
   "outputs": [],
   "source": [
    "def construct_params(params_flat, shapes, treedef):\n",
    "    indices = jnp.array([np.prod(s) for s in shapes]).cumsum()\n",
    "    split_reconstruction = jnp.array_split(params_flat, indices)\n",
    "    split_reconstruction = [arr.reshape(shape) for arr, shape in zip(split_reconstruction, shapes)]\n",
    "    params = jax.tree_unflatten(treedef, split_reconstruction)\n",
    "    return params"
   ]
  },
  {
   "cell_type": "code",
   "execution_count": 932,
   "id": "0511e2b6",
   "metadata": {},
   "outputs": [],
   "source": [
    "ukf_params = construct_params(mu_hist[-1], shapes, treedef)"
   ]
  },
  {
   "cell_type": "code",
   "execution_count": 933,
   "id": "943c9626",
   "metadata": {},
   "outputs": [
    {
     "data": {
      "text/plain": [
       "DeviceArray(67.17924, dtype=float32)"
      ]
     },
     "execution_count": 933,
     "metadata": {},
     "output_type": "execute_result"
    }
   ],
   "source": [
    "loss(ukf_params)"
   ]
  },
  {
   "cell_type": "code",
   "execution_count": 806,
   "id": "07206b30",
   "metadata": {},
   "outputs": [],
   "source": [
    "ukf = UnscentedKalmanFilter(fz, fx_vmap, Sigma_hist[-1,...], R, alpha, beta, kappa)\n",
    "mu_hist, Sigma_hist = ukf.filter(mu_hist[-1, :], y[:, None], x)"
   ]
  },
  {
   "cell_type": "code",
   "execution_count": 649,
   "id": "32aef646",
   "metadata": {},
   "outputs": [],
   "source": [
    "def forward_mlp(X, params_flat, model, shapes, treedef):\n",
    "    indices = jnp.array([np.prod(s) for s in shapes]).cumsum()\n",
    "    split_reconstruction = jnp.array_split(params_flat, indices)\n",
    "    split_reconstruction = [arr.reshape(shape) for arr, shape in zip(split_reconstruction, shapes)]\n",
    "    params = jax.tree_unflatten(treedef, split_reconstruction)\n",
    "    yhat = model.apply(params, X)\n",
    "    return yhat"
   ]
  },
  {
   "cell_type": "code",
   "execution_count": 348,
   "id": "b1238f55",
   "metadata": {},
   "outputs": [
    {
     "data": {
      "text/plain": [
       "DeviceArray([[-25.98435]], dtype=float32)"
      ]
     },
     "execution_count": 348,
     "metadata": {},
     "output_type": "execute_result"
    }
   ],
   "source": [
    "params_test = all_params * jnp.ones((1, 283))\n",
    "fx_p(x[1, None], params_test[:, 1])"
   ]
  },
  {
   "cell_type": "code",
   "execution_count": 350,
   "id": "93b1bf15",
   "metadata": {},
   "outputs": [
    {
     "data": {
      "text/plain": [
       "(22, 283)"
      ]
     },
     "execution_count": 350,
     "metadata": {},
     "output_type": "execute_result"
    }
   ],
   "source": [
    "params_test.shape"
   ]
  },
  {
   "cell_type": "code",
   "execution_count": 349,
   "id": "094575c2",
   "metadata": {},
   "outputs": [
    {
     "data": {
      "text/plain": [
       "(283, 1, 1)"
      ]
     },
     "execution_count": 349,
     "metadata": {},
     "output_type": "execute_result"
    }
   ],
   "source": [
    "fx_vmap = jax.vmap(fx_p, in_axes=[None, 1])\n",
    "fx_vmap(x[1, None], params_test).shape"
   ]
  },
  {
   "cell_type": "markdown",
   "id": "dad9ede2",
   "metadata": {},
   "source": [
    "# EKF method"
   ]
  },
  {
   "cell_type": "markdown",
   "id": "76dad0e5",
   "metadata": {},
   "source": [
    "## Jacobian of the MLP"
   ]
  },
  {
   "cell_type": "code",
   "execution_count": 284,
   "id": "cc0f78f0",
   "metadata": {},
   "outputs": [],
   "source": [
    "class D_MLP1D(nn.Module):\n",
    "    n_hidden: int\n",
    "        \n",
    "    def setup(self):\n",
    "        self.model = MLP1D(self.n_hidden)\n",
    "    \n",
    "    def __call__(self, x):\n",
    "        return jax.jacfwd(self.model)(x)"
   ]
  },
  {
   "cell_type": "code",
   "execution_count": 295,
   "id": "8ba18c12",
   "metadata": {},
   "outputs": [],
   "source": [
    "X = normal(key2, (100, 2))"
   ]
  },
  {
   "cell_type": "code",
   "execution_count": 296,
   "id": "10538ae1",
   "metadata": {},
   "outputs": [],
   "source": [
    "key = PRNGKey(314)\n",
    "key1, key2 = split(key, 2)\n",
    "\n",
    "\n",
    "n_hidden = 10\n",
    "model = MLP1D(n_hidden)\n",
    "D_model = MLP1D(n_hidden)\n",
    "\n",
    "params = model.init(key1, X)\n",
    "yhat = model.apply(params, X)"
   ]
  },
  {
   "cell_type": "code",
   "execution_count": 303,
   "id": "bcca7501",
   "metadata": {},
   "outputs": [
    {
     "data": {
      "text/plain": [
       "(100,)"
      ]
     },
     "execution_count": 303,
     "metadata": {},
     "output_type": "execute_result"
    }
   ],
   "source": [
    "x.shape"
   ]
  },
  {
   "cell_type": "code",
   "execution_count": 301,
   "id": "94a42130",
   "metadata": {},
   "outputs": [
    {
     "data": {
      "text/plain": [
       "(100, 1, 1)"
      ]
     },
     "execution_count": 301,
     "metadata": {},
     "output_type": "execute_result"
    }
   ],
   "source": [
    "D_model.apply(params, X).shape"
   ]
  },
  {
   "cell_type": "markdown",
   "id": "7ff5ba5a",
   "metadata": {},
   "source": [
    "## References\n",
    "### UKF + MLP\n",
    "* https://ieeexplore.ieee.org/document/6234549\n",
    "* https://juniperpublishers.com/raej/pdf/RAEJ.MS.ID.555568.pdf\n",
    "### Flax\n",
    "* https://github.com/google/flax/issues/735\n",
    "* https://flax.readthedocs.io/en/latest/notebooks/flax_basics.html"
   ]
  },
  {
   "cell_type": "code",
   "execution_count": null,
   "id": "0acad5ab",
   "metadata": {},
   "outputs": [],
   "source": []
  }
 ],
 "metadata": {
  "kernelspec": {
   "display_name": "Python 3",
   "language": "python",
   "name": "python3"
  },
  "language_info": {
   "codemirror_mode": {
    "name": "ipython",
    "version": 3
   },
   "file_extension": ".py",
   "mimetype": "text/x-python",
   "name": "python",
   "nbconvert_exporter": "python",
   "pygments_lexer": "ipython3",
   "version": "3.8.5"
  }
 },
 "nbformat": 4,
 "nbformat_minor": 5
}
