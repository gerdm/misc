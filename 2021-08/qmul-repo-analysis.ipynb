{
 "cells": [
  {
   "cell_type": "code",
   "execution_count": 17,
   "id": "c17323cf",
   "metadata": {},
   "outputs": [],
   "source": [
    "import os\n",
    "import pandas as pd\n",
    "from github import Github\n",
    "from datetime import datetime"
   ]
  },
  {
   "cell_type": "code",
   "execution_count": 5,
   "id": "a4304bd3",
   "metadata": {},
   "outputs": [],
   "source": [
    "public_access_token = os.environ[\"GH_PUBLIC_ACCESS_TOKEN\"]\n",
    "g = Github(public_access_token)"
   ]
  },
  {
   "cell_type": "code",
   "execution_count": 7,
   "id": "a4219703",
   "metadata": {},
   "outputs": [
    {
     "data": {
      "text/plain": [
       "Repository(full_name=\"gerdm/QMUL\")"
      ]
     },
     "execution_count": 7,
     "metadata": {},
     "output_type": "execute_result"
    }
   ],
   "source": [
    "qmul = g.get_repo(\"gerdm/QMUL\")\n",
    "qmul"
   ]
  },
  {
   "cell_type": "code",
   "execution_count": null,
   "id": "f66bc2da",
   "metadata": {},
   "outputs": [],
   "source": [
    "init_date = datetime(2021, 1, 1)\n",
    "commits = qmul.get_commits(since=init_date, author=\"gerdm\")\n",
    "commits = list(commits)"
   ]
  },
  {
   "cell_type": "code",
   "execution_count": 54,
   "id": "07e6cdc4",
   "metadata": {},
   "outputs": [
    {
     "data": {
      "text/plain": [
       "['author',\n",
       " 'comments_url',\n",
       " 'commit',\n",
       " 'committer',\n",
       " 'create_comment',\n",
       " 'create_status',\n",
       " 'etag',\n",
       " 'files',\n",
       " 'get__repr__',\n",
       " 'get_check_runs',\n",
       " 'get_check_suites',\n",
       " 'get_combined_status',\n",
       " 'get_comments',\n",
       " 'get_pulls',\n",
       " 'get_statuses',\n",
       " 'html_url',\n",
       " 'last_modified',\n",
       " 'parents',\n",
       " 'raw_data',\n",
       " 'raw_headers',\n",
       " 'setCheckAfterInitFlag',\n",
       " 'sha',\n",
       " 'stats',\n",
       " 'update',\n",
       " 'url']"
      ]
     },
     "execution_count": 54,
     "metadata": {},
     "output_type": "execute_result"
    }
   ],
   "source": [
    "# methods and properties of a commit\n",
    "commit = commits[0]\n",
    "[el for el in dir(commit) if not el.startswith(\"_\") and not el.isupper()]"
   ]
  },
  {
   "cell_type": "code",
   "execution_count": 55,
   "id": "2eeeb008",
   "metadata": {},
   "outputs": [
    {
     "data": {
      "text/plain": [
       "['additions',\n",
       " 'blob_url',\n",
       " 'changes',\n",
       " 'contents_url',\n",
       " 'deletions',\n",
       " 'etag',\n",
       " 'filename',\n",
       " 'get__repr__',\n",
       " 'last_modified',\n",
       " 'patch',\n",
       " 'previous_filename',\n",
       " 'raw_data',\n",
       " 'raw_headers',\n",
       " 'raw_url',\n",
       " 'setCheckAfterInitFlag',\n",
       " 'sha',\n",
       " 'status']"
      ]
     },
     "execution_count": 55,
     "metadata": {},
     "output_type": "execute_result"
    }
   ],
   "source": [
    "# Information of a file element inside a commit\n",
    "[el for el in dir(commit.files[0]) if not el.startswith(\"_\") and not el.isupper()]"
   ]
  },
  {
   "cell_type": "code",
   "execution_count": 45,
   "id": "cc854db3",
   "metadata": {
    "scrolled": false
   },
   "outputs": [
    {
     "name": "stdout",
     "output_type": "stream",
     "text": [
      "Thu, 17 Jun 2021 19:08:24 GMT || MTH793P-add: final nb\n",
      "Thu, 17 Jun 2021 19:08:24 GMT || MTH743P-add: sync maps nb\n",
      "Thu, 17 Jun 2021 19:08:24 GMT || MTH750P-add: final commit\n",
      "Thu, 17 Jun 2021 19:08:24 GMT || MTH743P-add: final mathematica-nb\n",
      "Thu, 17 Jun 2021 19:08:24 GMT || MTH750P-mod: centrality measure notebook\n",
      "Thu, 17 Jun 2021 19:08:24 GMT || MTH743P-mod: final-review mathematica nb\n",
      "Thu, 17 Jun 2021 19:08:24 GMT || MTH743P-mod: final-review mathematica nb\n",
      "Thu, 17 Jun 2021 19:08:24 GMT || MTH743P-add: final-review mathematica nb\n",
      "Thu, 17 Jun 2021 19:08:24 GMT || MTH776P-mod: mathematica review notebook\n",
      "Thu, 17 Jun 2021 19:08:24 GMT || MTH743P-add: final-review mathematica nb\n",
      "Thu, 17 Jun 2021 19:08:24 GMT || MTH776P-add: mathematica review notebook\n",
      "Thu, 17 Jun 2021 19:08:24 GMT || MTH793P-mod: final-review notebook\n",
      "Thu, 17 Jun 2021 19:08:24 GMT || MTH750P-mod: rename final-review nb\n",
      "Thu, 17 Jun 2021 19:08:24 GMT || MTH750P-add: assignment 09\n",
      "Thu, 17 Jun 2021 19:08:24 GMT || MTH793P-mod: final-review notebook\n",
      "Thu, 17 Jun 2021 19:08:24 GMT || MTH793P-mod: final-review notebook\n",
      "Thu, 17 Jun 2021 19:08:24 GMT || MTH750P-mod: final-review nb\n",
      "Thu, 17 Jun 2021 19:08:24 GMT || MTH793P-add: final-review notebook\n",
      "Thu, 17 Jun 2021 19:08:24 GMT || MTHM038-mod: intro, change ref to eqref\n",
      "Thu, 17 Jun 2021 19:08:24 GMT || MTHM038-mod: intro, finish Backward-equations proof\n",
      "Thu, 17 Jun 2021 19:08:24 GMT || MTH750P-mod: final-review nb\n",
      "Thu, 17 Jun 2021 19:08:24 GMT || MTHM038-mod: intro, write backward proof\n",
      "Thu, 17 Jun 2021 19:08:24 GMT || MTHM038-mod: intro, grammar and labels\n",
      "Thu, 17 Jun 2021 19:08:24 GMT || MTH750P-add: final-review notebook\n",
      "Thu, 17 Jun 2021 19:08:24 GMT || MTH743P-add: assignment09 notebook\n",
      "Thu, 17 Jun 2021 19:08:24 GMT || MTHM038-mod: intro, modify backward-E proof\n",
      "Thu, 17 Jun 2021 19:08:24 GMT || MTH793P-add: coursework 10\n",
      "Thu, 17 Jun 2021 19:08:24 GMT || MTHM038-mod: intro, add to-dos\n",
      "Thu, 17 Jun 2021 19:08:24 GMT || MTHM038-mod: intro, start Backward-equations theorem\n",
      "Thu, 17 Jun 2021 19:08:24 GMT || MTHM038-mod: intro, fix theorem references\n",
      "Sun, 18 Apr 2021 07:15:32 GMT || MTHM038-mod: intro, fix typos and missing content\n",
      "Sun, 18 Apr 2021 07:15:32 GMT || MTHM038-mod: intro, finish kalman-filter theorems\n",
      "Sun, 18 Apr 2021 07:15:32 GMT || MTHM038-mod: intro, add theorem env and rename\n",
      "Sun, 18 Apr 2021 07:15:32 GMT || MTHM038-mod: intro, kalman filter eqs\n",
      "Sun, 18 Apr 2021 07:15:32 GMT || MTH793P-add: coursework 9\n",
      "Sun, 18 Apr 2021 07:15:32 GMT || MTHM038-mod: intro, kalman filter eqs\n",
      "Sun, 18 Apr 2021 07:15:32 GMT || MTH750P-add: assignment 10\n",
      "Sun, 18 Apr 2021 07:15:32 GMT || MTHM038-mod: intro, start proof kalman filter\n",
      "Sun, 18 Apr 2021 07:15:32 GMT || MTHM038-mod: intro, add kalman-eq proof at t=1\n",
      "Sun, 18 Apr 2021 07:15:32 GMT || MTH750P-add: assignment 8 (julia) notebook\n",
      "Sun, 18 Apr 2021 07:15:32 GMT || MTHM038-mod: intro, kalman eq=1\n",
      "Sun, 18 Apr 2021 07:15:32 GMT || MTHM038-mod: intro, fix typos\n",
      "Sun, 18 Apr 2021 07:15:32 GMT || MTHM038-mod: add equation enumeration based on section\n",
      "Sun, 18 Apr 2021 07:15:32 GMT || MTHM038-mod: modify multivariate proposition\n",
      "Sun, 18 Apr 2021 07:15:32 GMT || MTHM038-mod: add multivariate-normal section\n",
      "Sun, 18 Apr 2021 07:15:32 GMT || MTHM038-mod: add bib.bib and reference\n",
      "Sun, 18 Apr 2021 07:15:32 GMT || MTHM038-add: bib.bib of draft\n",
      "Sun, 18 Apr 2021 07:15:32 GMT || MTHM038-mod: intro, fix typos\n",
      "Sun, 18 Apr 2021 07:15:32 GMT || MTHM038-mod: intro, add xi-rewrite proof\n",
      "Sun, 18 Apr 2021 07:15:32 GMT || MTHM038-mod: intro, add gamma-rewrite proof\n",
      "Sun, 18 Apr 2021 07:15:32 GMT || MTHM038-mod: intro, add proposition beta-rewrite\n",
      "Sun, 18 Apr 2021 07:15:32 GMT || MTHM038-mod: intro, add proposition alpha-rewrite\n",
      "Sun, 18 Apr 2021 07:15:32 GMT || MTHM038-mod: intro, add proposition 1.10 beta-recursive\n",
      "Sun, 18 Apr 2021 07:15:32 GMT || MTHM038-mod: intro, add proposition 1.9 alpha-recursive\n",
      "Sun, 18 Apr 2021 07:15:32 GMT || MTH750P-mod: synchronisation notebook\n",
      "Sun, 18 Apr 2021 07:15:32 GMT || MTH743P-add: synchronisation-julia notebook\n",
      "Sun, 18 Apr 2021 07:15:32 GMT || mod: julia dependencies\n",
      "Sun, 18 Apr 2021 07:15:32 GMT || MTH750P-mod: coursework 7, add computations\n",
      "Sun, 18 Apr 2021 07:15:32 GMT || MTH793P-add: coursework 8\n",
      "Sun, 18 Apr 2021 07:15:32 GMT || MTH793P-add: coursework 7\n",
      "Thu, 01 Apr 2021 15:42:12 GMT || MTH750P-mod: coursework 8\n",
      "Thu, 01 Apr 2021 15:42:12 GMT || MTH750P-add: coursework 8\n",
      "Thu, 01 Apr 2021 15:42:12 GMT || MTHM038-mod: intro, add proposition on M-step\n",
      "Thu, 01 Apr 2021 15:42:12 GMT || MTHM038-fix: intro, correct bold X, Z\n",
      "Thu, 01 Apr 2021 15:42:12 GMT || MTHM038-mod: intro, add newcommand for bold x, z\n",
      "Thu, 01 Apr 2021 15:42:12 GMT || MTHM038-mod: intro, add M-step proposition\n",
      "Thu, 01 Apr 2021 15:42:12 GMT || MTH750P-mod: cw7, add analytical giant component graph\n",
      "Thu, 01 Apr 2021 15:42:12 GMT || MTHM038-mod: start M-step; fix typos\n",
      "Thu, 01 Apr 2021 15:42:12 GMT || MTH750P-mod: random-graphs nb add plot equation\n",
      "Thu, 01 Apr 2021 15:42:12 GMT || mod: julia dependencies\n",
      "Thu, 01 Apr 2021 15:42:12 GMT || MTH750P-add: erdos-renyi models notebook\n",
      "Thu, 01 Apr 2021 15:42:12 GMT || MTHM038-mod: introduction to kalman filters\n",
      "Thu, 01 Apr 2021 15:42:12 GMT || MTH750P-add: coursework 7 notebook\n",
      "Thu, 01 Apr 2021 15:42:12 GMT || MTHM038-mod: dynamical-systems notebook, add hidden example\n",
      "Thu, 01 Apr 2021 15:42:12 GMT || MTH750P-mod: random-graphs notebook, add comments\n",
      "Thu, 01 Apr 2021 15:42:12 GMT || MTH743P-add: synchronisation notebook\n",
      "Thu, 01 Apr 2021 15:42:12 GMT || feat: add README.md\n",
      "Thu, 01 Apr 2021 15:42:12 GMT || MTHM038-add: dynamical-systems notebook\n",
      "Thu, 01 Apr 2021 15:42:12 GMT || MTHM038-mod: lds-kf modify introduction\n",
      "Thu, 01 Apr 2021 15:42:12 GMT || MTHM038-mod: move tikz fig to new folder; add introduction comments\n",
      "Thu, 01 Apr 2021 15:42:12 GMT || MTHM038-mod: add E-step propositions and summary\n",
      "Thu, 01 Apr 2021 15:42:12 GMT || MTHM038-add: lds.tikz figure\n",
      "Thu, 01 Apr 2021 15:42:12 GMT || MTHM038-mod: lds-intro; add E-step propositions\n",
      "Thu, 01 Apr 2021 15:42:12 GMT || MTHM038-mod: lds-intro; add E-step propositions\n",
      "Thu, 01 Apr 2021 15:42:12 GMT || MTH750P-add: random-graphs notebook\n",
      "Thu, 01 Apr 2021 15:42:12 GMT || MTHM038-mod: lds-intro; add comments and to-dos\n",
      "Thu, 01 Apr 2021 15:42:12 GMT || MTHM038-mod: lds-intro; add propositions\n",
      "Thu, 01 Apr 2021 15:42:12 GMT || MTH793P-add: coursework 6\n",
      "Thu, 01 Apr 2021 15:42:12 GMT || MTHM038-mod: lds-intro; add equations\n",
      "Thu, 01 Apr 2021 15:42:12 GMT || mod .gitignore: add .mat\n",
      "Mon, 15 Mar 2021 15:04:37 GMT || MTHM038-mod: lds-intro, add EM equation\n",
      "Mon, 15 Mar 2021 15:04:37 GMT || MTHM038-mod: add eqs to lds file\n",
      "Mon, 15 Mar 2021 15:04:37 GMT || MTHM038-add: lds // kalman fileter intro\n",
      "Mon, 15 Mar 2021 15:04:37 GMT || MTH744P-add: final mathematica notebook\n",
      "Mon, 15 Mar 2021 15:04:37 GMT || MTH750P-mod: midterm review notebook\n",
      "Mon, 15 Mar 2021 15:04:37 GMT || MTH750P-mod: midterm review notebook\n",
      "Mon, 15 Mar 2021 15:04:37 GMT || MTH750P-add: midterm review notebook\n",
      "Mon, 15 Mar 2021 15:04:37 GMT || MTH743-mod: modify ergoric theory notebook\n",
      "Mon, 15 Mar 2021 15:04:37 GMT || MTH743P-add: ergodic-theory notebook\n",
      "Mon, 15 Mar 2021 15:04:37 GMT || MTH743P-add: mathematica notebook's folder\n",
      "Mon, 15 Mar 2021 15:04:37 GMT || MTH750P-mod: add solutions to assignment 05\n",
      "Mon, 15 Mar 2021 15:04:37 GMT || MTH793P-add: coursework 4\n",
      "Mon, 15 Mar 2021 15:04:37 GMT || MTH750P-mod: add code to assignment05\n",
      "Mon, 15 Mar 2021 15:04:37 GMT || MTH750P-add: assignment 5 notebook\n",
      "Mon, 15 Mar 2021 15:04:37 GMT || MTH776P-add: predictive-distribution notebook\n",
      "Mon, 15 Mar 2021 15:04:37 GMT || MTH793P-mod: change example in subdifferential nb\n",
      "Mon, 15 Mar 2021 15:04:37 GMT || MTH750P-add: florentine data\n",
      "Mon, 15 Mar 2021 15:04:37 GMT || MTH750P-mod: finish assignment 04\n",
      "Mon, 15 Mar 2021 15:04:37 GMT || MTH750P-add: assignment 04\n",
      "Mon, 15 Mar 2021 15:04:37 GMT || MTH793P-add: subdifferentials notebook\n",
      "Mon, 15 Mar 2021 15:04:37 GMT || MTH776P-mod: add mixture conjugate-priors example\n",
      "Mon, 15 Mar 2021 15:04:37 GMT || MTH743P-add: assignment4 notebook\n",
      "Mon, 15 Mar 2021 15:04:37 GMT || MTH743P-add: assignment3 notebook\n",
      "Mon, 15 Mar 2021 15:04:37 GMT || MTH793P-add: coursework 1,2\n",
      "Mon, 15 Mar 2021 15:04:37 GMT || MTH750P-mod: finish coursework 3\n",
      "Mon, 15 Mar 2021 15:04:37 GMT || base-mod: julia dependencies\n",
      "Mon, 15 Mar 2021 15:04:37 GMT || MTH750P-add: c-elegans data\n",
      "Mon, 15 Mar 2021 15:04:37 GMT || MTH750P-add: coursework 03 notebook\n",
      "Mon, 15 Mar 2021 15:04:37 GMT || mod-MTH750P: centrality measures' notebook\n",
      "Mon, 15 Mar 2021 15:04:37 GMT || MTH743P-add: bernoulli-shift nb\n",
      "Sun, 14 Feb 2021 07:27:49 GMT || MTH743-add: markov-map notebook\n",
      "Sun, 14 Feb 2021 07:27:49 GMT || MTH750P-mod: four color theorem naive implementation\n",
      "Sun, 14 Feb 2021 07:27:49 GMT || MTH743P-mod: rename assignment1 -> assignment01\n",
      "Sun, 14 Feb 2021 07:27:49 GMT || MTH743P-mod: move assignment1 to new folder\n",
      "Sun, 14 Feb 2021 07:27:49 GMT || MTH750P-add: coursework 02 notebook\n",
      "Sun, 14 Feb 2021 07:27:49 GMT || MTH750P-add: europe data\n",
      "Sun, 14 Feb 2021 07:27:49 GMT || MTH776P-add: noninformative-priors notebook\n",
      "Sun, 14 Feb 2021 07:27:49 GMT || MTH743P-add: poncaire-map notebook\n",
      "Sun, 14 Feb 2021 07:27:49 GMT || MTH750P-add: centrality-measures nb\n",
      "Sun, 14 Feb 2021 07:27:49 GMT || MTH776-add: mixture-conjugate-priors nb\n",
      "Sun, 14 Feb 2021 07:27:49 GMT || MTH793P-add: manual k-means nb\n",
      "Sun, 14 Feb 2021 07:27:49 GMT || MTH750P-add: kindergarten data\n",
      "Sun, 14 Feb 2021 07:27:49 GMT || MTH750P-mod: assignment 01; finish cw\n",
      "Sun, 14 Feb 2021 07:27:49 GMT || MTH750P-add: assignment 01\n",
      "Sun, 14 Feb 2021 07:27:49 GMT || MTH743P-mod: fix errors in cells (log map nb)\n",
      "Sun, 14 Feb 2021 07:27:49 GMT || MTH743P-mod: add stability of logistic map\n",
      "Sun, 14 Feb 2021 07:27:49 GMT || feat: final notebook\n",
      "Sun, 14 Feb 2021 07:27:49 GMT || MTH776-mod: add exercises for cw1\n",
      "Sun, 14 Feb 2021 07:27:49 GMT || MTH793P-mod: add comments; clean semi-supervised learning nb\n",
      "Sun, 14 Feb 2021 07:27:49 GMT || MTH776-add: add problem-sheet-1\n",
      "Sun, 14 Feb 2021 07:27:49 GMT || MTH743P-add: assignment1 notebook\n",
      "Sun, 14 Feb 2021 07:27:49 GMT || MTH743P-mod: move logistic-map notebook to new folder\n",
      "Sun, 14 Feb 2021 07:27:49 GMT || base-mod: julia dependencies\n",
      "Sun, 14 Feb 2021 07:27:49 GMT || MTH793P-add: semi-supervised learning notebook\n",
      "Sun, 14 Feb 2021 07:27:49 GMT || MTH743-add: add logistic-map notebook\n",
      "Sun, 14 Feb 2021 07:27:49 GMT || MTH744P-add: mathematica notebook of review\n",
      "Sun, 14 Feb 2021 07:27:49 GMT || MTH744P-add: mathematica notebook of review\n",
      "Sun, 14 Feb 2021 07:27:49 GMT || MTH744P-mod: add bifurcation example in review\n",
      "Sun, 14 Feb 2021 07:27:49 GMT || MTH7744P-add: plot polar dynamics function and example\n",
      "Sun, 14 Feb 2021 07:27:49 GMT || MTH7744P-mod: add limit-cycle example\n",
      "Mon, 11 Jan 2021 09:02:50 GMT || MTH744P-add: limit cycle example in review\n",
      "Mon, 11 Jan 2021 09:02:50 GMT || MTH7744P-mod: moved clf fps l07->l06\n",
      "Mon, 11 Jan 2021 09:02:50 GMT || MTH744P-mod: add clasification fixed points graph\n",
      "Mon, 11 Jan 2021 09:02:50 GMT || MTH739U-mod: final cw2\n",
      "Mon, 11 Jan 2021 09:02:50 GMT || MTH744P-mod: add fps classification grph\n",
      "Fri, 01 Jan 2021 15:44:00 GMT || MTH744P-add: review notebook\n"
     ]
    }
   ],
   "source": [
    "for commit in commits:\n",
    "    print(commit.commit.last_modified, \"||\",commit.commit.message)"
   ]
  }
 ],
 "metadata": {
  "kernelspec": {
   "display_name": "Python 3 (ipykernel)",
   "language": "python",
   "name": "python3"
  },
  "language_info": {
   "codemirror_mode": {
    "name": "ipython",
    "version": 3
   },
   "file_extension": ".py",
   "mimetype": "text/x-python",
   "name": "python",
   "nbconvert_exporter": "python",
   "pygments_lexer": "ipython3",
   "version": "3.9.6"
  }
 },
 "nbformat": 4,
 "nbformat_minor": 5
}
