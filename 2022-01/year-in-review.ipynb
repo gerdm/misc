{
 "cells": [
  {
   "cell_type": "markdown",
   "id": "a597a7ae-0999-4914-9a0f-48458583ed21",
   "metadata": {},
   "source": [
    "# year-in-review"
   ]
  },
  {
   "cell_type": "code",
   "execution_count": 3,
   "id": "e6ff8db0-8a72-499e-8f58-ff3b75fff8e6",
   "metadata": {},
   "outputs": [],
   "source": [
    "import os\n",
    "from github import Github\n",
    "\n",
    "import pandas as pd\n",
    "from tqdm.notebook import tqdm\n",
    "from time import sleep\n",
    "import matplotlib.pyplot as plt"
   ]
  },
  {
   "cell_type": "code",
   "execution_count": 4,
   "id": "d64b8d4b-5450-4cd5-9a6e-ffde66ee0bd2",
   "metadata": {},
   "outputs": [],
   "source": [
    "public_access_token = os.environ[\"GH_PUBLIC_ACCESS_TOKEN\"]\n",
    "g = Github(public_access_token)"
   ]
  },
  {
   "cell_type": "markdown",
   "id": "7f69ec78-ea19-4a06-b88b-4b33f3e5627f",
   "metadata": {},
   "source": [
    "## Time"
   ]
  },
  {
   "cell_type": "code",
   "execution_count": 4,
   "id": "188da4b5-300c-4e30-9142-5fdf7a49bc70",
   "metadata": {},
   "outputs": [],
   "source": [
    "import os\n",
    "import requests"
   ]
  },
  {
   "cell_type": "code",
   "execution_count": 5,
   "id": "e99a2a3c-056d-430e-b8a5-d1ad0ee002be",
   "metadata": {},
   "outputs": [],
   "source": [
    "api_token = os.environ[\"TOGGL_API_TOKEN\"]\n",
    "password = os.environ[\"TOGGL_PASSWORD\"]\n",
    "mail = \"g.duran@me.com\""
   ]
  },
  {
   "cell_type": "code",
   "execution_count": 7,
   "id": "8c97d741-d467-4a78-aa53-0cd285bd55fa",
   "metadata": {},
   "outputs": [],
   "source": [
    "headers = {\n",
    "    \"Content-Type\": \"application/json\"\n",
    "}"
   ]
  },
  {
   "cell_type": "code",
   "execution_count": 8,
   "id": "7c0a8a89-34ef-4b9e-9307-8445ec127155",
   "metadata": {},
   "outputs": [
    {
     "name": "stdout",
     "output_type": "stream",
     "text": [
      "Gerardo Durán 2015-04-28T02:55:50+00:00\n"
     ]
    }
   ],
   "source": [
    "url_me = \"https://api.track.toggl.com/api/v8/me\"\n",
    "r = requests.get(url_me, headers=headers, auth=(mail, password))\n",
    "data = r.json()[\"data\"]\n",
    "print(data[\"fullname\"], data[\"created_at\"])"
   ]
  },
  {
   "cell_type": "code",
   "execution_count": 9,
   "id": "29837895-b12b-455b-8b83-6632bf7a033f",
   "metadata": {},
   "outputs": [],
   "source": [
    "url_workspace = \"https://api.track.toggl.com/api/v8/workspaces\"\n",
    "r = requests.get(url_workspace, headers=headers, auth=(mail, password))"
   ]
  },
  {
   "cell_type": "code",
   "execution_count": 24,
   "id": "f44a8e91-11f8-47dd-9238-f46c9434da37",
   "metadata": {},
   "outputs": [
    {
     "name": "stdout",
     "output_type": "stream",
     "text": [
      "  Personal: id-921814\n",
      "      QMUL: id-4657976\n",
      "  Sapienza: id-4666718\n",
      "  QMUL-PhD: id-5608619\n"
     ]
    }
   ],
   "source": [
    "list_workspaces = r.json()\n",
    "list_workspaces\n",
    "for workspace_data in list_workspaces:\n",
    "    workspace_name = workspace_data[\"name\"]\n",
    "    workspace_id = workspace_data[\"id\"]\n",
    "    \n",
    "    print(f\"{workspace_name:>10}: id-{workspace_id}\")"
   ]
  },
  {
   "cell_type": "code",
   "execution_count": 27,
   "id": "27260e37-4db0-436a-9074-a25287d5abda",
   "metadata": {},
   "outputs": [],
   "source": [
    "workspace_id = 4657976"
   ]
  },
  {
   "cell_type": "code",
   "execution_count": 28,
   "id": "79313e7f-2a10-4516-a133-2f422c0b1e79",
   "metadata": {},
   "outputs": [],
   "source": [
    "url_projects = f\"https://api.track.toggl.com/api/v8/workspaces/{workspace_id}/projects\"\n",
    "r = requests.get(url_projects, headers=headers, auth=(mail, password))"
   ]
  },
  {
   "cell_type": "code",
   "execution_count": 34,
   "id": "d36877cb-5768-4acd-b0db-b92dd3779d7b",
   "metadata": {},
   "outputs": [],
   "source": [
    "list_projects = r.json()"
   ]
  },
  {
   "cell_type": "code",
   "execution_count": 37,
   "id": "c379e6d6-f8a0-4869-8a21-e3865763e45b",
   "metadata": {},
   "outputs": [
    {
     "name": "stdout",
     "output_type": "stream",
     "text": [
      "7CCMCS06T: Elements of Statistical Learning\n",
      "managerial\n",
      "MTH6107: Chaos and Fractals\n",
      "MTH700P: Research Methods in Mathematical Sciences\n",
      "MTH739P: Topics in Scientific Computing\n",
      "MTH743P: Complex Systems\n",
      "MTH744P: Dynamical Systems\n",
      "MTH750: Graphs and Networks\n",
      "MTH776P: Bayesian Statistics\n",
      "MTH793P: Advanced Machine Learning\n",
      "MTHM038: Project Dissertation\n",
      "research\n",
      "talks\n"
     ]
    }
   ],
   "source": [
    "for project_data in list_projects:\n",
    "    print(project_data[\"name\"])"
   ]
  },
  {
   "cell_type": "code",
   "execution_count": 63,
   "id": "0accf4fd-6192-435a-a0aa-a6d2c7008d02",
   "metadata": {},
   "outputs": [],
   "source": [
    "def extract_report(api_token, workspace_id, start_date, end_date, project_id=None, page=1):\n",
    "    url_details = \"https://api.track.toggl.com/reports/api/v2/details\"\n",
    "    \n",
    "    params = {\n",
    "        \"user_agent\": mail,\n",
    "        \"workspace_id\": workspace_id,\n",
    "        \"since\": start_date,\n",
    "        \"until\": end_date,\n",
    "        \"page\": page,\n",
    "    }\n",
    "    \n",
    "    if project_id is not None:\n",
    "        dict_pid = {\"project_ids\": project_id}\n",
    "        params = {**params, **dict_pid}\n",
    "    \n",
    "    r = requests.get(url_details, params=params, auth=(api_token, \"api_token\"))\n",
    "    r.raise_for_status()\n",
    "    \n",
    "    return r"
   ]
  },
  {
   "cell_type": "code",
   "execution_count": 104,
   "id": "e580f6d3-1ef4-4fdb-a0df-d7ddfbca1df2",
   "metadata": {},
   "outputs": [],
   "source": [
    "%config InlineBackend.figure_format = \"retina\""
   ]
  },
  {
   "cell_type": "code",
   "execution_count": 80,
   "id": "9c30597b-5bd2-4d62-9378-87056c7a41e4",
   "metadata": {},
   "outputs": [
    {
     "data": {
      "application/vnd.jupyter.widget-view+json": {
       "model_id": "c9fb08a7f5c54e9c8697b28e49799475",
       "version_major": 2,
       "version_minor": 0
      },
      "text/plain": [
       "  0%|          | 0/12 [00:00<?, ?it/s]"
      ]
     },
     "metadata": {},
     "output_type": "display_data"
    }
   ],
   "source": [
    "total_info = []\n",
    "start_date = \"2020-01-01\"\n",
    "end_date = \"2021-01-01\"\n",
    "\n",
    "page = 1\n",
    "r = extract_report(api_token, workspace_id, start_date, end_date, page=page)\n",
    "info = r.json()\n",
    "\n",
    "n_pages = info[\"total_count\"] // info[\"per_page\"] + 1\n",
    "\n",
    "for page in tqdm(range(2, n_pages + 1)):\n",
    "    info = extract_report(api_token, workspace_id, start_date, end_date, page=page).json()\n",
    "    total_info.extend(info[\"data\"])\n",
    "    sleep(1)"
   ]
  },
  {
   "cell_type": "code",
   "execution_count": 89,
   "id": "3b370e42-5630-43a1-ad82-c6e11d81b709",
   "metadata": {},
   "outputs": [
    {
     "data": {
      "text/plain": [
       "557"
      ]
     },
     "execution_count": 89,
     "metadata": {},
     "output_type": "execute_result"
    }
   ],
   "source": [
    "len(total_info)"
   ]
  },
  {
   "cell_type": "code",
   "execution_count": 97,
   "id": "80283d45-e0da-449f-86a9-3521d9bd52f5",
   "metadata": {},
   "outputs": [],
   "source": [
    "timeline = pd.DataFrame(total_info).set_index(\"start\")\n",
    "\n",
    "timeline.index = pd.to_datetime(timeline.index, utc=True).tz_convert(\"Europe/London\")\n",
    "timeline = timeline.sort_index()\n",
    "\n",
    "timeline[\"clocked_hours\"] = timeline[\"dur\"] * 0.001 / 60 ** 2"
   ]
  },
  {
   "cell_type": "code",
   "execution_count": 111,
   "id": "c42cf8c7-fb0b-405c-b756-f593a240edcf",
   "metadata": {},
   "outputs": [
    {
     "data": {
      "text/plain": [
       "project\n",
       "7CCMCS06T: Elements of Statistical Learning           112.506389\n",
       "MTH6107: Chaos and Fractals                             4.774167\n",
       "MTH700P: Research Methods in Mathematical Sciences     84.628791\n",
       "MTH739P: Topics in Scientific Computing               132.173333\n",
       "MTH744P: Dynamical Systems                            169.972222\n",
       "MTHM038: Project Dissertation                          18.858611\n",
       "managerial                                             78.012311\n",
       "talks                                                   2.396944\n",
       "Name: clocked_hours, dtype: float64"
      ]
     },
     "execution_count": 111,
     "metadata": {},
     "output_type": "execute_result"
    }
   ],
   "source": [
    "timeline.groupby(\"project\")[\"clocked_hours\"].sum()"
   ]
  },
  {
   "cell_type": "code",
   "execution_count": 110,
   "id": "e88857e7-ef87-48ea-81d0-a8f30f12b917",
   "metadata": {},
   "outputs": [
    {
     "data": {
      "image/png": "[encoded data removed]",
      "text/plain": [
       "<Figure size 432x288 with 1 Axes>"
      ]
     },
     "metadata": {
      "image/png": {
       "height": 231,
       "width": 613
      }
     },
     "output_type": "display_data"
    }
   ],
   "source": [
    "timeline.groupby(\"project\")[\"clocked_hours\"].sum().plot(kind=\"pie\")\n",
    "plt.ylabel(None);"
   ]
  }
 ],
 "metadata": {
  "kernelspec": {
   "display_name": "Python 3 (ipykernel)",
   "language": "python",
   "name": "python3"
  },
  "language_info": {
   "codemirror_mode": {
    "name": "ipython",
    "version": 3
   },
   "file_extension": ".py",
   "mimetype": "text/x-python",
   "name": "python",
   "nbconvert_exporter": "python",
   "pygments_lexer": "ipython3",
   "version": "3.9.6"
  }
 },
 "nbformat": 4,
 "nbformat_minor": 5
}
