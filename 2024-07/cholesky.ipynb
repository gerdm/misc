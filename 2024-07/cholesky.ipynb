{
 "cells": [
  {
   "cell_type": "markdown",
   "id": "2123011d-8eaf-4ec1-93f6-957b9c3b6022",
   "metadata": {},
   "source": [
    "# The Cholesky decomposition"
   ]
  },
  {
   "cell_type": "code",
   "execution_count": 2,
   "id": "79cb47fd-6c20-49e2-9677-7073d7f5ab2e",
   "metadata": {},
   "outputs": [],
   "source": [
    "import numba\n",
    "import numpy as np\n",
    "from numba import njit\n",
    "from scipy.linalg import cholesky\n",
    "np.set_printoptions(suppress=True, precision=4, linewidth=150)"
   ]
  },
  {
   "cell_type": "code",
   "execution_count": 3,
   "id": "ff95f6d7-7d60-4204-ac7c-9c15e059a79e",
   "metadata": {},
   "outputs": [],
   "source": [
    "xvals = np.linspace(-3, 3, 100)"
   ]
  },
  {
   "cell_type": "markdown",
   "id": "f1b08b18-7603-4326-aa2b-c1d2a25d9688",
   "metadata": {},
   "source": [
    "Let ${\\bf \\Sigma}$ be an $N\\,P\\times N\\,P$ positive definite matrix such that\n",
    "$$\n",
    "{\\bf \\Sigma} =\n",
    "\\begin{bmatrix}\n",
    "    {\\bf \\sigma}_{1,1} & {\\bf \\sigma}_{1,2} & \\cdots & {\\bf \\sigma}_{1,N}\\\\\n",
    "    {\\bf \\sigma}_{2,1} & {\\bf \\sigma}_{2,2} & \\cdots & {\\bf \\sigma}_{2,N}\\\\\n",
    "    \\vdots & \\vdots & \\ddots & \\vdots \\\\\n",
    "    {\\bf \\sigma}_{N,1} & {\\bf \\sigma}_{N,2} & \\ldots & {\\bf \\sigma}_{N,N}\n",
    "\\end{bmatrix}\n",
    "$$"
   ]
  },
  {
   "cell_type": "markdown",
   "id": "4b4bdb3c-9060-4ebc-ab02-bf035958ec80",
   "metadata": {},
   "source": [
    "We seek to decompose ${\\bf \\Sigma} = {\\bf L\\,R\\,L}^\\intercal$\n",
    "with ${\\bf R} = {\\rm diag}(R_1, \\ldots, R_N)$ and\n",
    "${\\bf L} = \\{L_{i,j} : i \\in \\{1, \\ldots N\\}, j \\leq i\\}$ a block-lower triangular matrix with $L_{i,i} = {\\bf I}$\n",
    "\n",
    "We seek ${\\bf L}$ and ${\\bf R}$ such that\n",
    "$$\n",
    "    ({\\bf L\\,R\\,L}^\\intercal)_{i,j} = \\sigma_{i,j}\n",
    "$$"
   ]
  },
  {
   "cell_type": "markdown",
   "id": "d876269b-076a-439e-8401-d04e12d9b4cb",
   "metadata": {},
   "source": [
    "The choleskly decomposition yields the following algorithm\n",
    "\n",
    "$$\n",
    "\\begin{aligned}\n",
    "    {\\bf R}_i &= \\sigma_{i,i} - \\sum_{k=1}^{i-1}{\\bf L}_{i,k}\\,{\\bf R}_{k}\\,{\\bf L}_{i,k}^\\intercal\n",
    "    &\\text{for }i=1,\\ldots,T\\\\\n",
    "    {\\bf L}_{j,i} &= \\left[\\sigma_{j,i} - \\sum_{k=1}^{j-1}{\\bf L}_{j,k}\\,{\\bf R}_k\\,{\\bf L}_{i,k}^\\intercal\\right]\\,{\\bf R}^{-1}_i\n",
    "    &\\text{for } i=2,\\ldots,T\\text{ and }\\, j<i\n",
    "\\end{aligned}\n",
    "$$"
   ]
  },
  {
   "cell_type": "code",
   "execution_count": 4,
   "id": "3c31be21-74ae-4887-bb2b-5223994b64af",
   "metadata": {},
   "outputs": [],
   "source": [
    "np.random.seed(314)\n",
    "d = 10\n",
    "S = np.random.randn(d, d)\n",
    "S = S @ S.T"
   ]
  },
  {
   "cell_type": "code",
   "execution_count": 5,
   "id": "14b34aeb-27b2-4794-8c92-3271b34fc03c",
   "metadata": {},
   "outputs": [],
   "source": [
    "LR = np.linalg.cholesky(S)"
   ]
  },
  {
   "cell_type": "code",
   "execution_count": 6,
   "id": "b181e292-30fc-4587-bfb2-fd79d3599337",
   "metadata": {},
   "outputs": [
    {
     "data": {
      "text/plain": [
       "array([[ 5.0561, -2.1211, -4.9336,  1.7228, -1.1385, -4.5112,  4.1296,  1.4875, -1.6306,  1.1243],\n",
       "       [-2.1211, 10.6464,  4.9359, -4.3093, -0.2017, -1.0459, -0.481 ,  3.6758, -3.9953,  1.0951],\n",
       "       [-4.9336,  4.9359, 15.9405, -1.533 ,  3.0908,  3.4337, -2.9025, -0.8334, -1.8779, -1.783 ],\n",
       "       [ 1.7228, -4.3093, -1.533 ,  7.1912,  0.5188, -0.0115, -0.6576, -3.4788, -1.2517,  2.3797],\n",
       "       [-1.1385, -0.2017,  3.0908,  0.5188,  7.163 ,  1.5606, -2.7542,  0.1679,  1.2635,  1.2001],\n",
       "       [-4.5112, -1.0459,  3.4337, -0.0115,  1.5606,  5.6308, -4.7271, -2.4139,  3.0437, -1.037 ],\n",
       "       [ 4.1296, -0.481 , -2.9025, -0.6576, -2.7542, -4.7271,  7.7946,  5.5878, -3.4981, -0.1397],\n",
       "       [ 1.4875,  3.6758, -0.8334, -3.4788,  0.1679, -2.4139,  5.5878, 11.2912, -1.5058, -0.1032],\n",
       "       [-1.6306, -3.9953, -1.8779, -1.2517,  1.2635,  3.0437, -3.4981, -1.5058, 11.7888,  0.6448],\n",
       "       [ 1.1243,  1.0951, -1.783 ,  2.3797,  1.2001, -1.037 , -0.1397, -0.1032,  0.6448,  5.8579]])"
      ]
     },
     "execution_count": 6,
     "metadata": {},
     "output_type": "execute_result"
    }
   ],
   "source": [
    "S"
   ]
  },
  {
   "cell_type": "code",
   "execution_count": 7,
   "id": "8ff1777b-bb61-4f03-9140-a0e684ce8932",
   "metadata": {},
   "outputs": [
    {
     "data": {
      "text/plain": [
       "array([[ 2.2486,  0.    ,  0.    ,  0.    ,  0.    ,  0.    ,  0.    ,  0.    ,  0.    ,  0.    ],\n",
       "       [-0.9433,  3.1236,  0.    ,  0.    ,  0.    ,  0.    ,  0.    ,  0.    ,  0.    ,  0.    ],\n",
       "       [-2.1941,  0.9176,  3.2069,  0.    ,  0.    ,  0.    ,  0.    ,  0.    ,  0.    ,  0.    ],\n",
       "       [ 0.7662, -1.1482,  0.3747,  2.2683,  0.    ,  0.    ,  0.    ,  0.    ,  0.    ,  0.    ],\n",
       "       [-0.5063, -0.2175,  0.6796,  0.1774,  2.5231,  0.    ,  0.    ,  0.    ,  0.    ,  0.    ],\n",
       "       [-2.0063, -0.9407, -0.0327,  0.2018,  0.1295,  0.8138,  0.    ,  0.    ,  0.    ,  0.    ],\n",
       "       [ 1.8365,  0.4006,  0.2368, -0.7466, -0.6998, -0.5121,  1.7017,  0.    ,  0.    ,  0.    ],\n",
       "       [ 0.6615,  1.3766, -0.2012, -1.027 ,  0.4444,  0.4319,  2.1357,  1.7082,  0.    ,  0.    ],\n",
       "       [-0.7252, -1.4981, -0.6531, -0.9573,  0.4693,  0.357 , -0.949 ,  0.9282,  2.3592,  0.    ],\n",
       "       [ 0.5   ,  0.5016, -0.3574,  1.1932,  0.6316,  0.1274,  0.1315, -0.3439,  1.174 ,  1.3695]])"
      ]
     },
     "execution_count": 7,
     "metadata": {},
     "output_type": "execute_result"
    }
   ],
   "source": [
    "LR"
   ]
  },
  {
   "cell_type": "code",
   "execution_count": 8,
   "id": "a31464fe-a7dd-4ead-a801-299fe6b0d4a2",
   "metadata": {},
   "outputs": [],
   "source": [
    "R = np.diag(LR)\n",
    "L = LR / np.diag(LR)"
   ]
  },
  {
   "cell_type": "code",
   "execution_count": 9,
   "id": "33c1b627-7c40-4657-975d-9cc185e01095",
   "metadata": {},
   "outputs": [
    {
     "data": {
      "text/plain": [
       "array([[ 1.    ,  0.    ,  0.    ,  0.    ,  0.    ,  0.    ,  0.    ,  0.    ,  0.    ,  0.    ],\n",
       "       [-0.4195,  1.    ,  0.    ,  0.    ,  0.    ,  0.    ,  0.    ,  0.    ,  0.    ,  0.    ],\n",
       "       [-0.9758,  0.2938,  1.    ,  0.    ,  0.    ,  0.    ,  0.    ,  0.    ,  0.    ,  0.    ],\n",
       "       [ 0.3407, -0.3676,  0.1168,  1.    ,  0.    ,  0.    ,  0.    ,  0.    ,  0.    ,  0.    ],\n",
       "       [-0.2252, -0.0696,  0.2119,  0.0782,  1.    ,  0.    ,  0.    ,  0.    ,  0.    ,  0.    ],\n",
       "       [-0.8922, -0.3012, -0.0102,  0.089 ,  0.0513,  1.    ,  0.    ,  0.    ,  0.    ,  0.    ],\n",
       "       [ 0.8168,  0.1283,  0.0738, -0.3291, -0.2774, -0.6293,  1.    ,  0.    ,  0.    ,  0.    ],\n",
       "       [ 0.2942,  0.4407, -0.0627, -0.4528,  0.1761,  0.5308,  1.255 ,  1.    ,  0.    ,  0.    ],\n",
       "       [-0.3225, -0.4796, -0.2036, -0.422 ,  0.186 ,  0.4387, -0.5576,  0.5433,  1.    ,  0.    ],\n",
       "       [ 0.2224,  0.1606, -0.1115,  0.526 ,  0.2503,  0.1566,  0.0773, -0.2013,  0.4976,  1.    ]])"
      ]
     },
     "execution_count": 9,
     "metadata": {},
     "output_type": "execute_result"
    }
   ],
   "source": [
    "L"
   ]
  },
  {
   "cell_type": "code",
   "execution_count": 10,
   "id": "9f3a5ac5-b2c1-46fb-a522-fd559d5249e7",
   "metadata": {},
   "outputs": [
    {
     "data": {
      "text/plain": [
       "array([2.2486, 3.1236, 3.2069, 2.2683, 2.5231, 0.8138, 1.7017, 1.7082, 2.3592, 1.3695])"
      ]
     },
     "execution_count": 10,
     "metadata": {},
     "output_type": "execute_result"
    }
   ],
   "source": [
    "R"
   ]
  },
  {
   "cell_type": "markdown",
   "id": "aec9829e-6195-41a0-9c7d-9ece910a981a",
   "metadata": {},
   "source": [
    "## Step-by-step construction"
   ]
  },
  {
   "cell_type": "code",
   "execution_count": 11,
   "id": "79531a56-903d-4e51-a924-8dfe2d5dbf54",
   "metadata": {},
   "outputs": [],
   "source": [
    "R_vals = np.zeros(d)\n",
    "L_vals = np.zeros((d,d))"
   ]
  },
  {
   "cell_type": "markdown",
   "id": "d7c55d5d-533e-4e4e-97ba-30437079cfa0",
   "metadata": {},
   "source": [
    "## Step 1 — construction of the first column"
   ]
  },
  {
   "cell_type": "code",
   "execution_count": 12,
   "id": "1936c15d-189c-458d-885b-cd4fb004b8a4",
   "metadata": {},
   "outputs": [
    {
     "data": {
      "text/plain": [
       "5.056067919855992"
      ]
     },
     "execution_count": 12,
     "metadata": {},
     "output_type": "execute_result"
    }
   ],
   "source": [
    "R_vals[0] = S[0,0]\n",
    "R_vals[0]"
   ]
  },
  {
   "cell_type": "code",
   "execution_count": 13,
   "id": "cb41692d-6ccd-42f2-bcbb-a0df4ea226f1",
   "metadata": {},
   "outputs": [
    {
     "data": {
      "text/plain": [
       "array([5.0561, 0.    , 0.    , 0.    , 0.    , 0.    , 0.    , 0.    , 0.    , 0.    ])"
      ]
     },
     "execution_count": 13,
     "metadata": {},
     "output_type": "execute_result"
    }
   ],
   "source": [
    "R_vals"
   ]
  },
  {
   "cell_type": "code",
   "execution_count": 14,
   "id": "65b93049-789a-4e73-8ffc-51acb7e7edba",
   "metadata": {},
   "outputs": [
    {
     "data": {
      "text/plain": [
       "array([ 1.    , -0.4195, -0.9758,  0.3407, -0.2252, -0.8922,  0.8168,  0.2942, -0.3225,  0.2224])"
      ]
     },
     "execution_count": 14,
     "metadata": {},
     "output_type": "execute_result"
    }
   ],
   "source": [
    "L_vals[:, 0] = S[:, 0] / R_vals[0]\n",
    "L_vals[:, 0]"
   ]
  },
  {
   "cell_type": "code",
   "execution_count": 15,
   "id": "ce6655c5-2976-40b9-8159-3029cb995089",
   "metadata": {},
   "outputs": [
    {
     "data": {
      "text/plain": [
       "array([[ 1.    ,  0.    ,  0.    ,  0.    ,  0.    ,  0.    ,  0.    ,  0.    ,  0.    ,  0.    ],\n",
       "       [-0.4195,  0.    ,  0.    ,  0.    ,  0.    ,  0.    ,  0.    ,  0.    ,  0.    ,  0.    ],\n",
       "       [-0.9758,  0.    ,  0.    ,  0.    ,  0.    ,  0.    ,  0.    ,  0.    ,  0.    ,  0.    ],\n",
       "       [ 0.3407,  0.    ,  0.    ,  0.    ,  0.    ,  0.    ,  0.    ,  0.    ,  0.    ,  0.    ],\n",
       "       [-0.2252,  0.    ,  0.    ,  0.    ,  0.    ,  0.    ,  0.    ,  0.    ,  0.    ,  0.    ],\n",
       "       [-0.8922,  0.    ,  0.    ,  0.    ,  0.    ,  0.    ,  0.    ,  0.    ,  0.    ,  0.    ],\n",
       "       [ 0.8168,  0.    ,  0.    ,  0.    ,  0.    ,  0.    ,  0.    ,  0.    ,  0.    ,  0.    ],\n",
       "       [ 0.2942,  0.    ,  0.    ,  0.    ,  0.    ,  0.    ,  0.    ,  0.    ,  0.    ,  0.    ],\n",
       "       [-0.3225,  0.    ,  0.    ,  0.    ,  0.    ,  0.    ,  0.    ,  0.    ,  0.    ,  0.    ],\n",
       "       [ 0.2224,  0.    ,  0.    ,  0.    ,  0.    ,  0.    ,  0.    ,  0.    ,  0.    ,  0.    ]])"
      ]
     },
     "execution_count": 15,
     "metadata": {},
     "output_type": "execute_result"
    }
   ],
   "source": [
    "L_vals"
   ]
  },
  {
   "cell_type": "markdown",
   "id": "6540db8f-719a-408b-a01f-210c13ce6fc0",
   "metadata": {},
   "source": [
    "## Step 2 — construction of second column"
   ]
  },
  {
   "cell_type": "code",
   "execution_count": 16,
   "id": "1d74873a-62fe-4896-9ded-cb23d7eba777",
   "metadata": {},
   "outputs": [
    {
     "data": {
      "text/plain": [
       "9.756605325989712"
      ]
     },
     "execution_count": 16,
     "metadata": {},
     "output_type": "execute_result"
    }
   ],
   "source": [
    "R_vals[1] = S[1,1] - L_vals[1,0] * R_vals[0] * L_vals[1,0]\n",
    "R_vals[1]"
   ]
  },
  {
   "cell_type": "code",
   "execution_count": 17,
   "id": "c9cd4bbc-6442-4c5c-9687-7dd10d6fd135",
   "metadata": {},
   "outputs": [],
   "source": [
    "L_vals[1:, 1] = (S[1:,1] - L_vals[1:,0] * R_vals[0] * L_vals[1,0]) / R_vals[1]"
   ]
  },
  {
   "cell_type": "code",
   "execution_count": 18,
   "id": "7aa688ae-9c96-4334-a037-a60bc69a6ca2",
   "metadata": {},
   "outputs": [
    {
     "data": {
      "text/plain": [
       "array([[ 1.    ,  0.    ,  0.    ,  0.    ,  0.    ,  0.    ,  0.    ,  0.    ,  0.    ,  0.    ],\n",
       "       [-0.4195,  1.    ,  0.    ,  0.    ,  0.    ,  0.    ,  0.    ,  0.    ,  0.    ,  0.    ],\n",
       "       [-0.9758,  0.2938,  0.    ,  0.    ,  0.    ,  0.    ,  0.    ,  0.    ,  0.    ,  0.    ],\n",
       "       [ 0.3407, -0.3676,  0.    ,  0.    ,  0.    ,  0.    ,  0.    ,  0.    ,  0.    ,  0.    ],\n",
       "       [-0.2252, -0.0696,  0.    ,  0.    ,  0.    ,  0.    ,  0.    ,  0.    ,  0.    ,  0.    ],\n",
       "       [-0.8922, -0.3012,  0.    ,  0.    ,  0.    ,  0.    ,  0.    ,  0.    ,  0.    ,  0.    ],\n",
       "       [ 0.8168,  0.1283,  0.    ,  0.    ,  0.    ,  0.    ,  0.    ,  0.    ,  0.    ,  0.    ],\n",
       "       [ 0.2942,  0.4407,  0.    ,  0.    ,  0.    ,  0.    ,  0.    ,  0.    ,  0.    ,  0.    ],\n",
       "       [-0.3225, -0.4796,  0.    ,  0.    ,  0.    ,  0.    ,  0.    ,  0.    ,  0.    ,  0.    ],\n",
       "       [ 0.2224,  0.1606,  0.    ,  0.    ,  0.    ,  0.    ,  0.    ,  0.    ,  0.    ,  0.    ]])"
      ]
     },
     "execution_count": 18,
     "metadata": {},
     "output_type": "execute_result"
    }
   ],
   "source": [
    "L_vals"
   ]
  },
  {
   "cell_type": "markdown",
   "id": "0660003b-f8ca-4823-839a-e945f552041d",
   "metadata": {},
   "source": [
    "## Step 3 — construction of third column"
   ]
  },
  {
   "cell_type": "code",
   "execution_count": 19,
   "id": "4158ad76-7b49-4cf2-8088-4296fde859a7",
   "metadata": {},
   "outputs": [],
   "source": [
    "i = 2\n",
    "R_vals[i] = S[i, i] - (L_vals[i, :i] * R_vals[:i] * L_vals[i, :i]).sum()"
   ]
  },
  {
   "cell_type": "code",
   "execution_count": 20,
   "id": "25878ddb-ad2d-43f7-bd79-fb088cd98aef",
   "metadata": {},
   "outputs": [
    {
     "data": {
      "text/plain": [
       "array([ 5.0561,  9.7566, 10.2844,  0.    ,  0.    ,  0.    ,  0.    ,  0.    ,  0.    ,  0.    ])"
      ]
     },
     "execution_count": 20,
     "metadata": {},
     "output_type": "execute_result"
    }
   ],
   "source": [
    "R_vals"
   ]
  },
  {
   "cell_type": "code",
   "execution_count": 21,
   "id": "e37020d9-b233-45a6-b3c7-09c5c6666d4d",
   "metadata": {},
   "outputs": [
    {
     "data": {
      "text/plain": [
       "array([ 5.0561,  9.7566, 10.2844,  5.1453,  6.366 ,  0.6622,  2.8959,  2.9181,  5.5658,  1.8757])"
      ]
     },
     "execution_count": 21,
     "metadata": {},
     "output_type": "execute_result"
    }
   ],
   "source": [
    "R ** 2"
   ]
  },
  {
   "cell_type": "code",
   "execution_count": 22,
   "id": "120a05aa-58ec-49e3-babd-fc91c3170797",
   "metadata": {},
   "outputs": [
    {
     "data": {
      "text/plain": [
       "array([[ 1.    ,  0.    ,  0.    ,  0.    ,  0.    ,  0.    ,  0.    ,  0.    ,  0.    ,  0.    ],\n",
       "       [-0.4195,  1.    ,  0.    ,  0.    ,  0.    ,  0.    ,  0.    ,  0.    ,  0.    ,  0.    ],\n",
       "       [-0.9758,  0.2938,  1.    ,  0.    ,  0.    ,  0.    ,  0.    ,  0.    ,  0.    ,  0.    ],\n",
       "       [ 0.3407, -0.3676,  0.1168,  0.    ,  0.    ,  0.    ,  0.    ,  0.    ,  0.    ,  0.    ],\n",
       "       [-0.2252, -0.0696,  0.2119,  0.    ,  0.    ,  0.    ,  0.    ,  0.    ,  0.    ,  0.    ],\n",
       "       [-0.8922, -0.3012, -0.0102,  0.    ,  0.    ,  0.    ,  0.    ,  0.    ,  0.    ,  0.    ],\n",
       "       [ 0.8168,  0.1283,  0.0738,  0.    ,  0.    ,  0.    ,  0.    ,  0.    ,  0.    ,  0.    ],\n",
       "       [ 0.2942,  0.4407, -0.0627,  0.    ,  0.    ,  0.    ,  0.    ,  0.    ,  0.    ,  0.    ],\n",
       "       [-0.3225, -0.4796, -0.2036,  0.    ,  0.    ,  0.    ,  0.    ,  0.    ,  0.    ,  0.    ],\n",
       "       [ 0.2224,  0.1606, -0.1115,  0.    ,  0.    ,  0.    ,  0.    ,  0.    ,  0.    ,  0.    ]])"
      ]
     },
     "execution_count": 22,
     "metadata": {},
     "output_type": "execute_result"
    }
   ],
   "source": [
    "L_vals[i:, i] = (S[i:,i] - (L_vals[i:, :i] * R_vals[:i] * L_vals[i, :i]).sum(axis=1)) / R_vals[i]\n",
    "L_vals"
   ]
  },
  {
   "cell_type": "code",
   "execution_count": 23,
   "id": "1c5e8f2e-184d-4c38-beea-5db8ab6e33a2",
   "metadata": {},
   "outputs": [
    {
     "data": {
      "text/plain": [
       "array([[ 1.    ,  0.    ,  0.    ,  0.    ,  0.    ,  0.    ,  0.    ,  0.    ,  0.    ,  0.    ],\n",
       "       [-0.4195,  1.    ,  0.    ,  0.    ,  0.    ,  0.    ,  0.    ,  0.    ,  0.    ,  0.    ],\n",
       "       [-0.9758,  0.2938,  1.    ,  0.    ,  0.    ,  0.    ,  0.    ,  0.    ,  0.    ,  0.    ],\n",
       "       [ 0.3407, -0.3676,  0.1168,  1.    ,  0.    ,  0.    ,  0.    ,  0.    ,  0.    ,  0.    ],\n",
       "       [-0.2252, -0.0696,  0.2119,  0.0782,  1.    ,  0.    ,  0.    ,  0.    ,  0.    ,  0.    ],\n",
       "       [-0.8922, -0.3012, -0.0102,  0.089 ,  0.0513,  1.    ,  0.    ,  0.    ,  0.    ,  0.    ],\n",
       "       [ 0.8168,  0.1283,  0.0738, -0.3291, -0.2774, -0.6293,  1.    ,  0.    ,  0.    ,  0.    ],\n",
       "       [ 0.2942,  0.4407, -0.0627, -0.4528,  0.1761,  0.5308,  1.255 ,  1.    ,  0.    ,  0.    ],\n",
       "       [-0.3225, -0.4796, -0.2036, -0.422 ,  0.186 ,  0.4387, -0.5576,  0.5433,  1.    ,  0.    ],\n",
       "       [ 0.2224,  0.1606, -0.1115,  0.526 ,  0.2503,  0.1566,  0.0773, -0.2013,  0.4976,  1.    ]])"
      ]
     },
     "execution_count": 23,
     "metadata": {},
     "output_type": "execute_result"
    }
   ],
   "source": [
    "L"
   ]
  },
  {
   "attachments": {},
   "cell_type": "markdown",
   "id": "582fb828-4835-4315-bd08-433c82274c1b",
   "metadata": {},
   "source": [
    "## The cholesky decomposition\n",
    "\n",
    "$$\n",
    "\\begin{aligned}\n",
    "    {\\bf R}_j &= \\sigma_{j,j} - \\sum_{k=1}^{j-1}{\\bf L}_{j,k}\\,{\\bf R}_{k}\\,{\\bf L}_{j,k}^\\intercal,\n",
    "    &\\text{for } j=1,\\ldots,T\\\\\n",
    "    {\\bf L}_{i,j} &=\n",
    "    \\left[\\sigma_{i,j} - \\sum_{k=1}^{j-1}{\\bf L}_{i,k}\\,{\\bf R}_k\\,{\\bf L}_{j,k}^\\intercal\\right]\\,{\\bf R}^{-1}_j,\n",
    "    &\\text{for } j=1,\\ldots,T\\text{ and }\\ i\\geq j\n",
    "\\end{aligned}\n",
    "$$\n",
    "\n",
    "Note that ${\\bf L}_{j,j} = {\\bf I}$.\n",
    "\n",
    "Order of operations:\n",
    "```\n",
    " —  —   —   —   —\n",
    "|1\n",
    "|2  6  \n",
    "|3  7  10\n",
    "|4  8  11  13\n",
    "|5  9  12  14  15\n",
    "```"
   ]
  },
  {
   "cell_type": "code",
   "execution_count": 24,
   "id": "23a8e316-6dc8-472a-b036-89a3490c9a05",
   "metadata": {},
   "outputs": [],
   "source": [
    "R_vals = np.zeros(d)\n",
    "L_vals = np.zeros((d,d))\n",
    "\n",
    "# Iterate column by column (j)\n",
    "for j in range(d):\n",
    "    R_vals[j] = S[j, j] - (L_vals[j, :j] * R_vals[:j] * L_vals[j, :j]).sum()\n",
    "    L_vals[j:, j] = (S[j:,j] - (L_vals[j:, :j] * R_vals[:j] * L_vals[j, :j]).sum(axis=1)) / R_vals[j]"
   ]
  },
  {
   "cell_type": "code",
   "execution_count": 25,
   "id": "3ab52af3-e8d4-4f56-810f-e3d107773b32",
   "metadata": {},
   "outputs": [
    {
     "data": {
      "text/plain": [
       "array([ 5.0561,  9.7566, 10.2844,  5.1453,  6.366 ,  0.6622,  2.8959,  2.9181,  5.5658,  1.8757])"
      ]
     },
     "execution_count": 25,
     "metadata": {},
     "output_type": "execute_result"
    }
   ],
   "source": [
    "R_vals"
   ]
  },
  {
   "cell_type": "code",
   "execution_count": 26,
   "id": "5e73056e-3503-44a6-83ab-3e685706b6ff",
   "metadata": {},
   "outputs": [
    {
     "data": {
      "text/plain": [
       "array([ 5.0561,  9.7566, 10.2844,  5.1453,  6.366 ,  0.6622,  2.8959,  2.9181,  5.5658,  1.8757])"
      ]
     },
     "execution_count": 26,
     "metadata": {},
     "output_type": "execute_result"
    }
   ],
   "source": [
    "R ** 2"
   ]
  },
  {
   "cell_type": "code",
   "execution_count": 27,
   "id": "595ad0cd-5104-4750-953b-27c8bc858459",
   "metadata": {},
   "outputs": [
    {
     "data": {
      "text/plain": [
       "array([[ 1.    ,  0.    ,  0.    ,  0.    ,  0.    ,  0.    ,  0.    ,  0.    ,  0.    ,  0.    ],\n",
       "       [-0.4195,  1.    ,  0.    ,  0.    ,  0.    ,  0.    ,  0.    ,  0.    ,  0.    ,  0.    ],\n",
       "       [-0.9758,  0.2938,  1.    ,  0.    ,  0.    ,  0.    ,  0.    ,  0.    ,  0.    ,  0.    ],\n",
       "       [ 0.3407, -0.3676,  0.1168,  1.    ,  0.    ,  0.    ,  0.    ,  0.    ,  0.    ,  0.    ],\n",
       "       [-0.2252, -0.0696,  0.2119,  0.0782,  1.    ,  0.    ,  0.    ,  0.    ,  0.    ,  0.    ],\n",
       "       [-0.8922, -0.3012, -0.0102,  0.089 ,  0.0513,  1.    ,  0.    ,  0.    ,  0.    ,  0.    ],\n",
       "       [ 0.8168,  0.1283,  0.0738, -0.3291, -0.2774, -0.6293,  1.    ,  0.    ,  0.    ,  0.    ],\n",
       "       [ 0.2942,  0.4407, -0.0627, -0.4528,  0.1761,  0.5308,  1.255 ,  1.    ,  0.    ,  0.    ],\n",
       "       [-0.3225, -0.4796, -0.2036, -0.422 ,  0.186 ,  0.4387, -0.5576,  0.5433,  1.    ,  0.    ],\n",
       "       [ 0.2224,  0.1606, -0.1115,  0.526 ,  0.2503,  0.1566,  0.0773, -0.2013,  0.4976,  1.    ]])"
      ]
     },
     "execution_count": 27,
     "metadata": {},
     "output_type": "execute_result"
    }
   ],
   "source": [
    "L_vals"
   ]
  },
  {
   "cell_type": "code",
   "execution_count": 28,
   "id": "ee2f62bc-715d-45a3-9484-4511f190b422",
   "metadata": {},
   "outputs": [
    {
     "data": {
      "text/plain": [
       "array([[ 1.    ,  0.    ,  0.    ,  0.    ,  0.    ,  0.    ,  0.    ,  0.    ,  0.    ,  0.    ],\n",
       "       [-0.4195,  1.    ,  0.    ,  0.    ,  0.    ,  0.    ,  0.    ,  0.    ,  0.    ,  0.    ],\n",
       "       [-0.9758,  0.2938,  1.    ,  0.    ,  0.    ,  0.    ,  0.    ,  0.    ,  0.    ,  0.    ],\n",
       "       [ 0.3407, -0.3676,  0.1168,  1.    ,  0.    ,  0.    ,  0.    ,  0.    ,  0.    ,  0.    ],\n",
       "       [-0.2252, -0.0696,  0.2119,  0.0782,  1.    ,  0.    ,  0.    ,  0.    ,  0.    ,  0.    ],\n",
       "       [-0.8922, -0.3012, -0.0102,  0.089 ,  0.0513,  1.    ,  0.    ,  0.    ,  0.    ,  0.    ],\n",
       "       [ 0.8168,  0.1283,  0.0738, -0.3291, -0.2774, -0.6293,  1.    ,  0.    ,  0.    ,  0.    ],\n",
       "       [ 0.2942,  0.4407, -0.0627, -0.4528,  0.1761,  0.5308,  1.255 ,  1.    ,  0.    ,  0.    ],\n",
       "       [-0.3225, -0.4796, -0.2036, -0.422 ,  0.186 ,  0.4387, -0.5576,  0.5433,  1.    ,  0.    ],\n",
       "       [ 0.2224,  0.1606, -0.1115,  0.526 ,  0.2503,  0.1566,  0.0773, -0.2013,  0.4976,  1.    ]])"
      ]
     },
     "execution_count": 28,
     "metadata": {},
     "output_type": "execute_result"
    }
   ],
   "source": [
    "L"
   ]
  },
  {
   "cell_type": "markdown",
   "id": "469857af-06dd-450b-8b25-413de0cd68c9",
   "metadata": {},
   "source": [
    "## Solving system of linear equations"
   ]
  },
  {
   "cell_type": "code",
   "execution_count": 145,
   "id": "47beeb41-9b38-486a-a00c-bb1841e3fb33",
   "metadata": {},
   "outputs": [],
   "source": [
    "np.random.seed(314)\n",
    "b = np.random.randn(d)"
   ]
  },
  {
   "cell_type": "code",
   "execution_count": 146,
   "id": "cfe5c7d1-17f2-4870-982e-919a678d3c36",
   "metadata": {},
   "outputs": [],
   "source": [
    "@njit\n",
    "def cholesky_decompose(A):\n",
    "    d, _ = A.shape\n",
    "\n",
    "    R_vals = np.zeros(d)\n",
    "    L_vals = np.zeros((d,d))\n",
    "    \n",
    "    # Iterate column by column (j)\n",
    "    for j in range(d):\n",
    "        R_vals[j] = A[j, j] - (L_vals[j, :j] * R_vals[:j] * L_vals[j, :j]).sum()\n",
    "        L_vals[j:, j] = (A[j:,j] - (L_vals[j:, :j] * R_vals[:j] * L_vals[j, :j]).sum(axis=1)) / R_vals[j]\n",
    "\n",
    "    return L_vals, R_vals"
   ]
  },
  {
   "cell_type": "markdown",
   "id": "4fa5177c-8dc6-45be-8871-c72e708cd434",
   "metadata": {},
   "source": [
    "## Solution by cholesky decomposition\n",
    "\n",
    "$$\n",
    "\\begin{aligned}\n",
    "    {\\bf A}\\,{\\bf x} &= {\\bf b}\\\\ \n",
    "    {\\bf L}{\\bf R}{\\bf L}^\\intercal\\,{\\bf x} &= {\\bf b}\\\\\n",
    "    {\\bf L}{\\bf c} &= {\\bf b},\n",
    "\\end{aligned}\n",
    "$$\n",
    "with ${\\bf c} = {\\bf R L}^\\intercal\\,{\\bf x}$\n",
    "\n",
    "---\n",
    "\n",
    "### Solving for ${\\bf c}$\n",
    "$$\n",
    "\\begin{aligned}\n",
    "    {\\bf c}_1 &= {\\bf b}_1,\\\\\n",
    "    {\\bf c}_k &= {\\bf b}_k - \\sum_{n=1}^{k-1} {\\bf L}_{k,n}\\,{\\bf c}_n & \\text{for } k \\geq 2 \n",
    "\\end{aligned}\n",
    "$$\n",
    "\n",
    "---\n",
    "\n",
    "### Solving for ${\\bf x}$\n",
    "$$\n",
    "\\begin{aligned}\n",
    "    {\\bf c} &= {\\bf R L}^\\intercal\\,{\\bf x}\\\\  \n",
    "    {\\bf R}^{-1}\\,{\\bf c} &= {\\bf L}^\\intercal {\\bf x}.\n",
    "\\end{aligned}\n",
    "$$\n",
    "We obtain \n",
    "\n",
    "$$\n",
    "\\begin{aligned}\n",
    "    {\\bf x}_T &= {\\bf R}_T^{-1}\\,{\\bf c}_T,\\\\\n",
    "    {\\bf x}_k &= {\\bf R}_k^{-1}\\,{\\bf c}_k - \\sum_{n=k+1}^T{\\bf L}_{n,k}^\\intercal\\,{\\bf b}_n\n",
    "\\end{aligned}\n",
    "$$"
   ]
  },
  {
   "cell_type": "code",
   "execution_count": 147,
   "id": "8704fdec-46d3-4dd0-b34b-309dd23a2396",
   "metadata": {},
   "outputs": [],
   "source": [
    "L, R = cholesky_decompose(S)"
   ]
  },
  {
   "cell_type": "code",
   "execution_count": 148,
   "id": "b8a1e5c2-5a71-414b-91f2-ea5bad3d77c4",
   "metadata": {},
   "outputs": [],
   "source": [
    "# Foward pass\n",
    "c_vals = np.zeros(d)\n",
    "for k in range(d):\n",
    "    c_vals[k] = b[k] - (L[k, :] * c_vals)[:k].sum()\n",
    "\n",
    "\n",
    "# Backward pass\n",
    "x_sol = np.zeros(d)\n",
    "for k in range(d, 0, -1):\n",
    "    k = k - 1\n",
    "    x_sol[k] = c_vals[k] /  R[k] - (L[:, k] * x_sol)[k+1:].sum()"
   ]
  },
  {
   "cell_type": "code",
   "execution_count": 149,
   "id": "48f5e2be-eccb-45a2-8e24-535464eaabc5",
   "metadata": {},
   "outputs": [
    {
     "data": {
      "text/plain": [
       "array([ 2.2013, -0.0689,  0.3167, -0.8309, -0.4675,  1.8569, -0.434 ,  0.1046, -0.4015,  0.6319])"
      ]
     },
     "execution_count": 149,
     "metadata": {},
     "output_type": "execute_result"
    }
   ],
   "source": [
    "x_sol"
   ]
  },
  {
   "cell_type": "code",
   "execution_count": 150,
   "id": "e4097cf8-1ffc-4cdc-b075-9c542088f564",
   "metadata": {},
   "outputs": [
    {
     "data": {
      "text/plain": [
       "array([ 2.2013, -0.0689,  0.3167, -0.8309, -0.4675,  1.8569, -0.434 ,  0.1046, -0.4015,  0.6319])"
      ]
     },
     "execution_count": 150,
     "metadata": {},
     "output_type": "execute_result"
    }
   ],
   "source": [
    "x_sol_np = np.linalg.solve(S, b)\n",
    "x_sol_np"
   ]
  },
  {
   "cell_type": "code",
   "execution_count": 151,
   "id": "ca6879c2-e983-4e4d-8574-c266c9a7e839",
   "metadata": {},
   "outputs": [
    {
     "data": {
      "text/plain": [
       "True"
      ]
     },
     "execution_count": 151,
     "metadata": {},
     "output_type": "execute_result"
    }
   ],
   "source": [
    "np.allclose(x_sol, x_sol_np)"
   ]
  },
  {
   "cell_type": "markdown",
   "id": "6463462e-1d52-454a-8643-da7d85992dbb",
   "metadata": {},
   "source": [
    "### Numba implementation"
   ]
  },
  {
   "cell_type": "code",
   "execution_count": 279,
   "id": "977a11c7-5ccd-4888-ade2-42b61472bc77",
   "metadata": {},
   "outputs": [],
   "source": [
    "@njit\n",
    "def cholesky_decompose(A):\n",
    "    d, _ = A.shape\n",
    "\n",
    "    R_vals = np.zeros(d)\n",
    "    L_vals = np.zeros((d,d))\n",
    "    \n",
    "    # Iterate column by column (j)\n",
    "    for j in range(d):\n",
    "        R_vals[j] = A[j, j] - (L_vals[j, :j] * R_vals[:j] * L_vals[j, :j]).sum()\n",
    "        L_vals[j:, j] = (A[j:,j] - (L_vals[j:, :j] * R_vals[:j] * L_vals[j, :j]).sum(axis=1)) / R_vals[j]\n",
    "\n",
    "    return L_vals, R_vals\n",
    "\n",
    "\n",
    "@njit\n",
    "def solve_fwd(b, L):\n",
    "    \"\"\"\n",
    "    Forward pass for solving a system of linear equations\n",
    "    using the cholesky decomposition\n",
    "    \"\"\"\n",
    "    d, _ = L.shape\n",
    "    c_vals = np.zeros(d)\n",
    "    for k in range(d):\n",
    "        c_vals[k] = b[k] - (L[k, :] * c_vals)[:k].sum()\n",
    "\n",
    "    return c_vals\n",
    "\n",
    "\n",
    "@njit\n",
    "def solve_back(c, L, R):\n",
    "    \"\"\"\n",
    "    Backward pass for solving a system of linear equations\n",
    "    using the cholesky decomposition\n",
    "    \"\"\"\n",
    "    d, _ = L.shape\n",
    "    x_vals = np.zeros(d)\n",
    "    for k in range(d, 0, -1):\n",
    "        k = k - 1\n",
    "        x_vals[k] = c[k] / R[k] - (L[:, k] * x_vals)[k+1:].sum()\n",
    "    return x_vals\n",
    "\n",
    "\n",
    "@njit\n",
    "def solve1d(A, b):\n",
    "    L, R = cholesky_decompose(A)\n",
    "    c = solve_fwd(b, L)\n",
    "    x = solve_back(c, L, R)\n",
    "    return x"
   ]
  },
  {
   "cell_type": "markdown",
   "id": "c53c10cf-c725-4351-862a-3ceb67242915",
   "metadata": {},
   "source": [
    "### Inverting L matrix"
   ]
  },
  {
   "cell_type": "code",
   "execution_count": 297,
   "id": "a63fcf57-4e0d-430e-a002-a57428612bc0",
   "metadata": {},
   "outputs": [],
   "source": [
    "ix = 6\n",
    "imask = np.eye(d)[:, ix]"
   ]
  },
  {
   "cell_type": "code",
   "execution_count": 298,
   "id": "f73706da-6e69-4951-a34d-dec20f78da7b",
   "metadata": {},
   "outputs": [
    {
     "data": {
      "text/plain": [
       "array([ 0.    ,  0.    ,  0.    ,  0.    ,  0.    ,  0.    ,  1.    , -1.255 ,  1.2396, -0.9468])"
      ]
     },
     "execution_count": 298,
     "metadata": {},
     "output_type": "execute_result"
    }
   ],
   "source": [
    "np.linalg.solve(L, imask)"
   ]
  },
  {
   "cell_type": "code",
   "execution_count": 299,
   "id": "b953136d-9faa-498c-a019-3477cb43237f",
   "metadata": {},
   "outputs": [
    {
     "data": {
      "text/plain": [
       "array([ 0.    ,  0.    ,  0.    ,  0.    ,  0.    ,  0.    ,  1.    , -1.255 ,  1.2396, -0.9468])"
      ]
     },
     "execution_count": 299,
     "metadata": {},
     "output_type": "execute_result"
    }
   ],
   "source": [
    "c = solve_fwd(imask, L)\n",
    "c"
   ]
  },
  {
   "cell_type": "markdown",
   "id": "3ffdcc58-a410-4f83-ae69-3e19dc6de35b",
   "metadata": {},
   "source": [
    "### All together"
   ]
  },
  {
   "cell_type": "code",
   "execution_count": 176,
   "id": "33029956-a2fc-4b66-a354-e987a1ded8b3",
   "metadata": {},
   "outputs": [
    {
     "data": {
      "text/plain": [
       "array([-1.9322, -3.114 , -0.3584, -4.2605,  0.7871,  2.1539,  3.2434, -2.6766, -3.6092,  3.603 ])"
      ]
     },
     "execution_count": 176,
     "metadata": {},
     "output_type": "execute_result"
    }
   ],
   "source": [
    "solve1d(L, imask)"
   ]
  },
  {
   "cell_type": "markdown",
   "id": "99aad4dc-b104-4552-9023-5f92ccf49a7c",
   "metadata": {},
   "source": [
    "### Time comparison"
   ]
  },
  {
   "cell_type": "code",
   "execution_count": 170,
   "id": "4340db8f-80b2-42b2-832d-2ab8a88dba9f",
   "metadata": {},
   "outputs": [
    {
     "name": "stdout",
     "output_type": "stream",
     "text": [
      "20 µs ± 4.3 µs per loop (mean ± std. dev. of 10 runs, 100 loops each)\n"
     ]
    }
   ],
   "source": [
    "%%timeit -n 100 -r 10\n",
    "solve1d(S, b)"
   ]
  },
  {
   "cell_type": "code",
   "execution_count": 171,
   "id": "34ece0c3-fec1-4138-bd42-5fcad960b232",
   "metadata": {},
   "outputs": [
    {
     "name": "stdout",
     "output_type": "stream",
     "text": [
      "8.7 µs ± 1.38 µs per loop (mean ± std. dev. of 10 runs, 100 loops each)\n"
     ]
    }
   ],
   "source": [
    "%%timeit -n 100 -r 10\n",
    "np.linalg.solve(S, b)"
   ]
  },
  {
   "cell_type": "markdown",
   "id": "c6f28c5f-ecf5-46c4-aad0-96719687dd9f",
   "metadata": {},
   "source": [
    "## Generalisation to system of matrix equations\n",
    "Having the psd matrix ${\\bf A}\\in\\mathbb{R}^{d\\times d}$ and matrix ${\\bf B}\\in\\mathbb{R}^{d\\times l}$.\n",
    "We seek ${\\bf X}\\in{\\mathbb R}^{d\\times l}$ such that\n",
    "$$\n",
    "    {\\bf A}{\\bf X} = {\\bf B}\n",
    "$$"
   ]
  },
  {
   "cell_type": "markdown",
   "id": "df1969df-1f1c-4875-b7db-b62dccae9f35",
   "metadata": {},
   "source": [
    "## Solution by cholesky decomposition\n",
    "\n",
    "$$\n",
    "\\begin{aligned}\n",
    "    {\\bf A}\\,{\\bf X} &= {\\bf B}\\\\ \n",
    "    {\\bf L}{\\bf R}{\\bf L}^\\intercal\\,{\\bf X} &= {\\bf B}\\\\\n",
    "    {\\bf L}{\\bf C} &= {\\bf B},\n",
    "\\end{aligned}\n",
    "$$\n",
    "with ${\\bf C} = {\\bf R L}^\\intercal\\,{\\bf X}$"
   ]
  },
  {
   "cell_type": "markdown",
   "id": "d05ac16f-edb0-410b-8964-1829663314a0",
   "metadata": {},
   "source": [
    "---\n",
    "\n",
    "### Solving for ${\\bf C}$\n",
    "$$\n",
    "\\begin{aligned}\n",
    "    {\\bf C}_{1,:} &= {\\bf B}_{1,:},\\\\\n",
    "    {\\bf C}_{k,:} &= {\\bf B}_k - \\sum_{n=1}^{k-1} {\\bf L}_{k,n}\\,{\\bf C}_{n,:} & \\text{for } k \\geq 2 \n",
    "\\end{aligned}\n",
    "$$\n",
    "\n",
    "---\n",
    "\n",
    "### Solving for ${\\bf X}$\n",
    "$$\n",
    "\\begin{aligned}\n",
    "    {\\bf C} &= {\\bf R L}^\\intercal\\,{\\bf x}\\\\  \n",
    "    {\\bf R}^{-1}\\,{\\bf C} &= {\\bf L}^\\intercal {\\bf X}.\n",
    "\\end{aligned}\n",
    "$$\n",
    "We obtain \n",
    "\n",
    "$$\n",
    "\\begin{aligned}\n",
    "    {\\bf X}_{d,:} &= {\\bf R}_T^{-1}\\,{\\bf C}_{d,:},\\\\\n",
    "    {\\bf X}_{k, :} &= {\\bf R}_k^{-1}\\,{\\bf C}_{k,:} - \\sum_{n=k+1}^T{\\bf L}_{n,k}^\\intercal\\,{\\bf B}_{n,:}\n",
    "\\end{aligned}\n",
    "$$"
   ]
  },
  {
   "cell_type": "markdown",
   "id": "c4500b6c-f327-43e9-a54d-650dad0b9add",
   "metadata": {},
   "source": [
    "## Example"
   ]
  },
  {
   "cell_type": "code",
   "execution_count": 300,
   "id": "933dfacf-6304-4bf6-a6fa-8329b241643c",
   "metadata": {},
   "outputs": [],
   "source": [
    "np.random.seed(314)\n",
    "B = np.random.randn(d, 5)"
   ]
  },
  {
   "cell_type": "markdown",
   "id": "759ce39b-abf6-4c97-b33a-5ee96826c7fd",
   "metadata": {},
   "source": [
    "### Cholesky approach"
   ]
  },
  {
   "cell_type": "markdown",
   "id": "6dc7f887-b089-48c6-aa94-ccc26b249a06",
   "metadata": {},
   "source": [
    "#### Forward pass"
   ]
  },
  {
   "cell_type": "code",
   "execution_count": 319,
   "id": "1d019dff-680a-4136-b9cf-bb36a6615128",
   "metadata": {},
   "outputs": [],
   "source": [
    "@njit\n",
    "def solve_fwd(L, B):\n",
    "    \"\"\"\n",
    "    Forward pass for solving a system of linear equations\n",
    "    using the cholesky decomposition\n",
    "    \"\"\"\n",
    "    d, m = B.shape\n",
    "    C_vals = np.zeros((d, m))\n",
    "    for k in range(d):\n",
    "        C_vals[k, :] = B[k, :] - (L[k, :, None] * C_vals)[:k].sum(axis=0)\n",
    "\n",
    "    return C_vals"
   ]
  },
  {
   "cell_type": "code",
   "execution_count": 320,
   "id": "de478767-3ddb-4ef8-94d2-e876818112db",
   "metadata": {},
   "outputs": [
    {
     "data": {
      "text/plain": [
       "array([[ 0.1661,  0.782 ,  0.8523, -0.7071, -0.9317],\n",
       "       [ 0.9563,  0.1063,  0.7393, -1.0692,  0.4721],\n",
       "       [-0.4001, -0.2001,  0.1159,  0.3885, -0.8563],\n",
       "       [-0.277 ,  1.4617,  1.706 ,  0.9847,  1.7104],\n",
       "       [-1.6556, -0.5248, -0.6755,  2.2711,  0.039 ],\n",
       "       [ 0.7231,  1.9459,  1.305 , -0.9563, -2.3815],\n",
       "       [-0.6616, -0.0389,  0.1645, -0.109 , -0.5842],\n",
       "       [ 1.4478, -1.447 , -0.4717,  0.2963,  1.9067],\n",
       "       [-1.734 ,  1.287 ,  1.3289, -1.3204,  1.1356],\n",
       "       [ 1.7133, -0.3745, -2.3745, -0.1133, -1.7759]])"
      ]
     },
     "execution_count": 320,
     "metadata": {},
     "output_type": "execute_result"
    }
   ],
   "source": [
    "C = solve_fwd(L, B)\n",
    "C"
   ]
  },
  {
   "cell_type": "markdown",
   "id": "4ca57d50-b528-4291-a0fc-0a07a0fac8c1",
   "metadata": {},
   "source": [
    "#### Backward pass"
   ]
  },
  {
   "cell_type": "code",
   "execution_count": 321,
   "id": "431ec2b8-c5bc-49e6-b13e-5f27b83d206c",
   "metadata": {},
   "outputs": [],
   "source": [
    "@njit\n",
    "def solve_back(C, L, R):\n",
    "    \"\"\"\n",
    "    Backward pass for solving a system of linear equations\n",
    "    using the cholesky decomposition.\n",
    "    Variable \"C\" is the result of running the forward pass.\n",
    "    \"\"\"\n",
    "    d, m = C.shape\n",
    "    X_vals = np.zeros((d, m))\n",
    "    for k in range(d, 0, -1):\n",
    "        k = k - 1\n",
    "        X_vals[k] = C[k] / R[k] - (L[:, k, None] * X_vals)[k+1:].sum(axis=0)\n",
    "    return X_vals"
   ]
  },
  {
   "cell_type": "code",
   "execution_count": 322,
   "id": "21fb16ae-1886-4af7-b7f8-2249f72060d7",
   "metadata": {},
   "outputs": [
    {
     "data": {
      "text/plain": [
       "array([[ 0.3687,  3.6485,  2.9531, -1.7842, -3.9627],\n",
       "       [-1.3636,  1.6662,  2.4564, -0.6197,  0.0223],\n",
       "       [ 0.4623, -0.112 , -0.3541, -0.0861, -0.3378],\n",
       "       [-0.9128,  0.2053,  1.1994,  0.219 ,  1.5058],\n",
       "       [-1.0906,  0.1335,  0.5197,  0.3508,  0.3267],\n",
       "       [-0.6197,  3.8872,  3.3633, -1.7039, -3.7149],\n",
       "       [-2.1022,  1.0846,  1.7542, -0.402 ,  0.1276],\n",
       "       [ 1.0963, -0.7157, -0.8886,  0.202 ,  0.0959],\n",
       "       [-0.7661,  0.3306,  0.8688, -0.2072,  0.6752],\n",
       "       [ 0.9134, -0.1997, -1.266 , -0.0604, -0.9468]])"
      ]
     },
     "execution_count": 322,
     "metadata": {},
     "output_type": "execute_result"
    }
   ],
   "source": [
    "solve_back(C, L, R)"
   ]
  },
  {
   "cell_type": "markdown",
   "id": "e55301b7-ce96-4402-8d5d-d6a24a63c296",
   "metadata": {},
   "source": [
    "#### Forward + backward pass"
   ]
  },
  {
   "cell_type": "code",
   "execution_count": 323,
   "id": "caab4f37-a9aa-4d62-852f-e4410d2157e5",
   "metadata": {},
   "outputs": [],
   "source": [
    "@njit\n",
    "def solve(A, B):\n",
    "    L, R = cholesky_decompose(A)\n",
    "    C = solve_fwd(L, B)\n",
    "    X = solve_back(C, L, R)\n",
    "    return X"
   ]
  },
  {
   "cell_type": "code",
   "execution_count": 324,
   "id": "0362ac0e-2e01-4f83-829f-fd4574da5759",
   "metadata": {},
   "outputs": [
    {
     "data": {
      "text/plain": [
       "array([[ 0.3687,  3.6485,  2.9531, -1.7842, -3.9627],\n",
       "       [-1.3636,  1.6662,  2.4564, -0.6197,  0.0223],\n",
       "       [ 0.4623, -0.112 , -0.3541, -0.0861, -0.3378],\n",
       "       [-0.9128,  0.2053,  1.1994,  0.219 ,  1.5058],\n",
       "       [-1.0906,  0.1335,  0.5197,  0.3508,  0.3267],\n",
       "       [-0.6197,  3.8872,  3.3633, -1.7039, -3.7149],\n",
       "       [-2.1022,  1.0846,  1.7542, -0.402 ,  0.1276],\n",
       "       [ 1.0963, -0.7157, -0.8886,  0.202 ,  0.0959],\n",
       "       [-0.7661,  0.3306,  0.8688, -0.2072,  0.6752],\n",
       "       [ 0.9134, -0.1997, -1.266 , -0.0604, -0.9468]])"
      ]
     },
     "execution_count": 324,
     "metadata": {},
     "output_type": "execute_result"
    }
   ],
   "source": [
    "X_out = solve(S, B)\n",
    "X_out"
   ]
  },
  {
   "cell_type": "code",
   "execution_count": 325,
   "id": "4def8550-77dd-4cce-9d58-9805df9e55db",
   "metadata": {},
   "outputs": [
    {
     "data": {
      "text/plain": [
       "array([[ 0.3687,  3.6485,  2.9531, -1.7842, -3.9627],\n",
       "       [-1.3636,  1.6662,  2.4564, -0.6197,  0.0223],\n",
       "       [ 0.4623, -0.112 , -0.3541, -0.0861, -0.3378],\n",
       "       [-0.9128,  0.2053,  1.1994,  0.219 ,  1.5058],\n",
       "       [-1.0906,  0.1335,  0.5197,  0.3508,  0.3267],\n",
       "       [-0.6197,  3.8872,  3.3633, -1.7039, -3.7149],\n",
       "       [-2.1022,  1.0846,  1.7542, -0.402 ,  0.1276],\n",
       "       [ 1.0963, -0.7157, -0.8886,  0.202 ,  0.0959],\n",
       "       [-0.7661,  0.3306,  0.8688, -0.2072,  0.6752],\n",
       "       [ 0.9134, -0.1997, -1.266 , -0.0604, -0.9468]])"
      ]
     },
     "execution_count": 325,
     "metadata": {},
     "output_type": "execute_result"
    }
   ],
   "source": [
    "X_np = np.linalg.solve(S, B)\n",
    "X_np"
   ]
  },
  {
   "cell_type": "code",
   "execution_count": 326,
   "id": "133bf1db-da76-4996-acbb-f553dbab85fb",
   "metadata": {},
   "outputs": [
    {
     "data": {
      "text/plain": [
       "True"
      ]
     },
     "execution_count": 326,
     "metadata": {},
     "output_type": "execute_result"
    }
   ],
   "source": [
    "np.allclose(X_out, X_np)"
   ]
  },
  {
   "cell_type": "markdown",
   "id": "8671faba-7fed-4924-87e8-5b7fce658a7f",
   "metadata": {},
   "source": [
    "## Inverting the L-matrix"
   ]
  },
  {
   "cell_type": "code",
   "execution_count": 327,
   "id": "c471176c-15f6-4a24-a1b8-676b56f4487e",
   "metadata": {},
   "outputs": [],
   "source": [
    "L, R = cholesky_decompose(S)"
   ]
  },
  {
   "cell_type": "markdown",
   "id": "98664ca6-7b6d-4078-b549-d476cc382fdf",
   "metadata": {},
   "source": [
    "## Inverting cholesky"
   ]
  },
  {
   "cell_type": "code",
   "execution_count": 333,
   "id": "8b718591-fb80-4765-97b7-687898607b1e",
   "metadata": {},
   "outputs": [
    {
     "data": {
      "text/plain": [
       "array([[ 1.    ,  0.    ,  0.    ,  0.    ,  0.    ,  0.    ,  0.    ,  0.    ,  0.    ,  0.    ],\n",
       "       [ 0.4195,  1.    ,  0.    ,  0.    ,  0.    ,  0.    ,  0.    ,  0.    ,  0.    ,  0.    ],\n",
       "       [ 0.8525, -0.2938,  1.    ,  0.    ,  0.    ,  0.    ,  0.    ,  0.    ,  0.    ,  0.    ],\n",
       "       [-0.2861,  0.4019, -0.1168,  1.    ,  0.    ,  0.    ,  0.    ,  0.    ,  0.    ,  0.    ],\n",
       "       [ 0.0961,  0.1005, -0.2028, -0.0782,  1.    ,  0.    ,  0.    ,  0.    ,  0.    ,  0.    ],\n",
       "       [ 1.0478,  0.2573,  0.031 , -0.0849, -0.0513,  1.    ,  0.    ,  0.    ,  0.    ,  0.    ],\n",
       "       [-0.3417,  0.2155, -0.149 ,  0.254 ,  0.2451,  0.6293,  1.    ,  0.    ,  0.    ,  0.    ],\n",
       "       [-0.6994, -0.7018,  0.2161,  0.1929, -0.4565, -1.3205, -1.255 ,  1.    ,  0.    ,  0.    ],\n",
       "       [ 0.2885,  0.9594, -0.0221,  0.5107,  0.2212,  0.6297,  1.2396, -0.5433,  1.    ,  0.    ],\n",
       "       [-0.4903, -1.1056,  0.2849, -0.7281, -0.4632, -0.7845, -0.9468,  0.4717, -0.4976,  1.    ]])"
      ]
     },
     "execution_count": 333,
     "metadata": {},
     "output_type": "execute_result"
    }
   ],
   "source": [
    "np.linalg.inv(L)"
   ]
  },
  {
   "cell_type": "code",
   "execution_count": 334,
   "id": "a04febe6-014b-4ce6-8dec-1863b49d749f",
   "metadata": {},
   "outputs": [],
   "source": [
    "imask = np.zeros_like(L)\n",
    "imask[1, 1] = 1.0\n",
    "imask = np.eye(d)"
   ]
  },
  {
   "cell_type": "code",
   "execution_count": 337,
   "id": "f5542082-95e6-4949-bf4a-78b220be1d90",
   "metadata": {},
   "outputs": [
    {
     "data": {
      "text/plain": [
       "array([[ 1.    ,  0.    ,  0.    ,  0.    ,  0.    ,  0.    ,  0.    ,  0.    ,  0.    ,  0.    ],\n",
       "       [ 0.4195,  1.    ,  0.    ,  0.    ,  0.    ,  0.    ,  0.    ,  0.    ,  0.    ,  0.    ],\n",
       "       [ 0.8525, -0.2938,  1.    ,  0.    ,  0.    ,  0.    ,  0.    ,  0.    ,  0.    ,  0.    ],\n",
       "       [-0.2861,  0.4019, -0.1168,  1.    ,  0.    ,  0.    ,  0.    ,  0.    ,  0.    ,  0.    ],\n",
       "       [ 0.0961,  0.1005, -0.2028, -0.0782,  1.    ,  0.    ,  0.    ,  0.    ,  0.    ,  0.    ],\n",
       "       [ 1.0478,  0.2573,  0.031 , -0.0849, -0.0513,  1.    ,  0.    ,  0.    ,  0.    ,  0.    ],\n",
       "       [-0.3417,  0.2155, -0.149 ,  0.254 ,  0.2451,  0.6293,  1.    ,  0.    ,  0.    ,  0.    ],\n",
       "       [-0.6994, -0.7018,  0.2161,  0.1929, -0.4565, -1.3205, -1.255 ,  1.    ,  0.    ,  0.    ],\n",
       "       [ 0.2885,  0.9594, -0.0221,  0.5107,  0.2212,  0.6297,  1.2396, -0.5433,  1.    ,  0.    ],\n",
       "       [-0.4903, -1.1056,  0.2849, -0.7281, -0.4632, -0.7845, -0.9468,  0.4717, -0.4976,  1.    ]])"
      ]
     },
     "execution_count": 337,
     "metadata": {},
     "output_type": "execute_result"
    }
   ],
   "source": [
    "solve_fwd(L, imask)"
   ]
  },
  {
   "cell_type": "code",
   "execution_count": 336,
   "id": "0b109de9-56b8-4809-b8e3-f7abdd718c2c",
   "metadata": {},
   "outputs": [
    {
     "data": {
      "text/plain": [
       "array([[ 1.    ,  0.    ,  0.    ,  0.    ,  0.    ,  0.    ,  0.    ,  0.    ,  0.    ,  0.    ],\n",
       "       [ 0.4195,  1.    ,  0.    ,  0.    ,  0.    ,  0.    ,  0.    ,  0.    ,  0.    ,  0.    ],\n",
       "       [ 0.8525, -0.2938,  1.    ,  0.    ,  0.    ,  0.    ,  0.    ,  0.    ,  0.    ,  0.    ],\n",
       "       [-0.2861,  0.4019, -0.1168,  1.    ,  0.    ,  0.    ,  0.    ,  0.    ,  0.    ,  0.    ],\n",
       "       [ 0.0961,  0.1005, -0.2028, -0.0782,  1.    ,  0.    ,  0.    ,  0.    ,  0.    ,  0.    ],\n",
       "       [ 1.0478,  0.2573,  0.031 , -0.0849, -0.0513,  1.    ,  0.    ,  0.    ,  0.    ,  0.    ],\n",
       "       [-0.3417,  0.2155, -0.149 ,  0.254 ,  0.2451,  0.6293,  1.    ,  0.    ,  0.    ,  0.    ],\n",
       "       [-0.6994, -0.7018,  0.2161,  0.1929, -0.4565, -1.3205, -1.255 ,  1.    ,  0.    ,  0.    ],\n",
       "       [ 0.2885,  0.9594, -0.0221,  0.5107,  0.2212,  0.6297,  1.2396, -0.5433,  1.    ,  0.    ],\n",
       "       [-0.4903, -1.1056,  0.2849, -0.7281, -0.4632, -0.7845, -0.9468,  0.4717, -0.4976,  1.    ]])"
      ]
     },
     "execution_count": 336,
     "metadata": {},
     "output_type": "execute_result"
    }
   ],
   "source": [
    "np.linalg.solve(L, imask)"
   ]
  }
 ],
 "metadata": {
  "kernelspec": {
   "display_name": "Python 3 (ipykernel)",
   "language": "python",
   "name": "python3"
  },
  "language_info": {
   "codemirror_mode": {
    "name": "ipython",
    "version": 3
   },
   "file_extension": ".py",
   "mimetype": "text/x-python",
   "name": "python",
   "nbconvert_exporter": "python",
   "pygments_lexer": "ipython3",
   "version": "3.11.7"
  }
 },
 "nbformat": 4,
 "nbformat_minor": 5
}
