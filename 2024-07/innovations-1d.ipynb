{
 "cells": [
  {
   "cell_type": "markdown",
   "id": "452e2c25-812c-47f0-98c0-7f1d0e0c168c",
   "metadata": {},
   "source": [
    "# Cholesky and Gram-schmidt"
   ]
  },
  {
   "cell_type": "code",
   "execution_count": 2,
   "id": "7251960b-cc5f-4231-a711-6d6d37ab0dad",
   "metadata": {},
   "outputs": [],
   "source": [
    "import jax\n",
    "import jax.numpy as jnp\n",
    "import matplotlib.pyplot as plt"
   ]
  },
  {
   "cell_type": "code",
   "execution_count": 3,
   "id": "ede3cf72-24e2-4dd7-821b-fb4e6c40b8ed",
   "metadata": {},
   "outputs": [],
   "source": [
    "import seaborn as sns\n",
    "sns.set_palette(\"colorblind\")\n",
    "plt.rcParams[\"axes.spines.right\"] = False\n",
    "plt.rcParams[\"axes.spines.top\"] = False"
   ]
  },
  {
   "cell_type": "code",
   "execution_count": 4,
   "id": "91bd195c-441f-411b-9c60-5c690606310f",
   "metadata": {},
   "outputs": [],
   "source": [
    "%config InlineBackend.figure_format = \"retina\""
   ]
  },
  {
   "cell_type": "markdown",
   "id": "a01233cb-3403-4e16-a524-c9d2ad33f6d7",
   "metadata": {},
   "source": [
    "## The setup\n",
    "\n",
    "### Building innovations — the Gramm-Schmidt algorithm\n",
    "The innovations initialised according to\n",
    "$$\n",
    "\\begin{aligned}\n",
    "    \\varepsilon_1 &= y_1,\\\\\n",
    "    R_1 &= {\\rm Var}(\\varepsilon_1) = {\\rm Var}(y_1).\n",
    "\\end{aligned}\n",
    "$$\n",
    "Then, \n",
    "$$\n",
    "\\begin{aligned}\n",
    "    \\varepsilon_t &= y_t - \\sum_{j=1}^{t-1}{\\rm Cov}(y_t, \\varepsilon_j)\\,R_j^{-1}\\,\\varepsilon_j,\\\\\n",
    "    R_t &= {\\rm Var}(\\varepsilon_t).\n",
    "\\end{aligned}\n",
    "$$\n",
    "\n",
    "As a consequence, it can be shown that\n",
    "$$\n",
    "    y_{1:t} = {\\bf L}\\,\\varepsilon_{1:t},\n",
    "$$\n",
    "with\n",
    "$$\n",
    "    {\\bf L}_{t,j} =\n",
    "    \\begin{cases}\n",
    "    {\\rm Cov}(y_t, \\varepsilon_j)R_j^{-1} & j=1,\\ldots,t-1,\\\\\n",
    "    {\\bf I} & j=t,\\\\\n",
    "    {\\bf 0} & j > t.\n",
    "    \\end{cases}\n",
    "$$"
   ]
  },
  {
   "cell_type": "markdown",
   "id": "9d0d6c1e-c8b7-46c1-bfa3-73326dc88b4c",
   "metadata": {},
   "source": [
    "### The cholesky decomposition\n",
    "The relationship between innovations and the Cholesky decomposition is given by the fact that\n",
    "$$\n",
    "    {\\rm Var}(y_{1:t}) = {\\bf L}\\,{\\bf R}\\,{\\bf L}^\\intercal\n",
    "$$\n",
    "with\n",
    "$$\n",
    "    {\\bf R} = {\\rm Diag}(R_1, \\ldots, R_t)\n",
    "$$\n",
    "and\n",
    "$$\n",
    "    {\\bf L}_{t,j} =\n",
    "    \\begin{cases}\n",
    "    {\\rm Cov}(y_t, \\varepsilon_j)R_j^{-1} & j=1,\\ldots,t-1,\\\\\n",
    "    {\\bf I} & j=t,\\\\\n",
    "    {\\bf 0} & j > t.\n",
    "    \\end{cases}\n",
    "$$\n",
    "\n",
    "Hence,\n",
    "> computation of the innovations is equivalent to computing the cholesky factorisation of ${\\rm Var}(y_{1:t})$."
   ]
  },
  {
   "cell_type": "code",
   "execution_count": 11,
   "id": "f3d88f68-a787-4f5a-b268-24907552cc6a",
   "metadata": {},
   "outputs": [],
   "source": [
    "def ssm(key, signal_init, n_steps, qt, rt):\n",
    "    def ssm_step(signal_prev, key):\n",
    "        key_measurement, key_state = jax.random.split(key)\n",
    "        ut = jax.random.normal(key_state) * qt\n",
    "        et = jax.random.normal(key_measurement) * rt\n",
    "\n",
    "        signal = signal_prev + ut\n",
    "        measurement = signal + et\n",
    "\n",
    "        return signal, (signal, measurement)\n",
    "\n",
    "    keys = jax.random.split(key, n_steps)\n",
    "    _, (signals, measurements) = jax.lax.scan(ssm_step, signal_init, keys)\n",
    "    return signals, measurements\n",
    "\n",
    "vssm = jax.vmap(ssm, in_axes=(0, None, None, None, None), out_axes=-1)"
   ]
  },
  {
   "cell_type": "code",
   "execution_count": 7,
   "id": "ea754cac-675f-43c8-8d7b-c9d78e150f65",
   "metadata": {},
   "outputs": [],
   "source": [
    "key = jax.random.PRNGKey(314)\n",
    "key_sample, key_test = jax.random.split(key)"
   ]
  },
  {
   "cell_type": "code",
   "execution_count": 8,
   "id": "6d37c8ae-e1f3-48b4-9b98-e070c6009e37",
   "metadata": {},
   "outputs": [],
   "source": [
    "signal_init = 0.0\n",
    "n_steps = 100\n",
    "qt = 0.05\n",
    "rt = 0.1\n",
    "signals, measurements = ssm(key, signal_init, n_steps, qt, rt)"
   ]
  },
  {
   "cell_type": "markdown",
   "id": "19979b7d-f272-49c8-b924-80d48d61694d",
   "metadata": {},
   "source": [
    "## The cholesky decompoistion\n",
    "\n",
    "Recall:\n",
    "$$\n",
    "    y_{1:t} = {\\bf L}\\,\\varepsilon_{1:t}.\n",
    "$$\n",
    "Then,\n",
    "$$\n",
    "    \\varepsilon_{1:t} = {\\bf L}^{-1}\\,y_{1:t}.\n",
    "$$"
   ]
  },
  {
   "cell_type": "code",
   "execution_count": 12,
   "id": "6249a5e3-4b71-401f-9326-8b7e2336ef03",
   "metadata": {},
   "outputs": [],
   "source": [
    "n_trials = 500\n",
    "keys = jax.random.split(key_sample, n_trials)"
   ]
  },
  {
   "cell_type": "code",
   "execution_count": 88,
   "id": "62f7d3fa-e8da-4e21-b8a7-d9502d2e1898",
   "metadata": {},
   "outputs": [],
   "source": [
    "n_steps = 100\n",
    "signal_init = 0.0\n",
    "rt = 0.1\n",
    "qt = 0.05\n",
    "\n",
    "signals, measurements = vssm(keys, signal_init, n_steps, qt, rt)"
   ]
  },
  {
   "cell_type": "markdown",
   "id": "a026ec4e-b81b-4b35-82d6-0b7533a5c9c7",
   "metadata": {},
   "source": [
    "#### Building innovations from cholesky decomposition"
   ]
  },
  {
   "cell_type": "code",
   "execution_count": 89,
   "id": "c62431fe-a703-41ed-a58f-870b0f7e5fce",
   "metadata": {},
   "outputs": [],
   "source": [
    "var_y = jnp.cov(measurements)\n",
    "\n",
    "L = jnp.linalg.cholesky(var_y)\n",
    "\n",
    "R = jnp.diag(L)\n",
    "L = L.at[jnp.diag_indices(n_steps)].set(1.0)"
   ]
  },
  {
   "cell_type": "code",
   "execution_count": 75,
   "id": "9bf40374-d8a6-4210-bfdc-161ad9609c13",
   "metadata": {},
   "outputs": [],
   "source": [
    "innovations = jnp.linalg.solve(L, measurements)"
   ]
  },
  {
   "cell_type": "markdown",
   "id": "616efc68-526f-4f36-8347-ce08b658e2bc",
   "metadata": {},
   "source": [
    "## Numerical evaluation of the BLUP\n",
    "(Using the innovations)\n",
    "\n",
    "$$\n",
    "\\begin{aligned}\n",
    "    f_{t|j}\n",
    "    &= {\\rm Cov}(f_t, y_{1:j})\\,{\\rm Var}(y_{1:j})^{-1}\\,y_{1:j}\\\\\n",
    "    &= {\\rm Cov}(f_t, {\\bf L}\\,y_{1:j}){\\rm Var}({\\bf L}\\,\\varepsilon_{1:j})^{-1}\\,{\\bf L}\\,\\varepsilon_{1:j}\\\\\n",
    "    &= {\\rm Cov}(f_t, \\varepsilon_{1:j})\\,{\\rm Var}(\\varepsilon_{1:j})^{-1}\\,\\varepsilon_{1:j}\\\\\n",
    "    &= \\sum_{k=1}^j\\,{\\rm Cov}(f_t, \\varepsilon_k)\\,{\\rm Var}(\\varepsilon_k)^{-1}\\,\\varepsilon_k\\\\\n",
    "    &= \\sum_{k=1}^j\\,{\\rm Cov}(f_t, \\varepsilon_k)\\,R_k^{-1}\\,\\varepsilon_k\\\\\n",
    "\\end{aligned}\n",
    "$$"
   ]
  }
 ],
 "metadata": {
  "kernelspec": {
   "display_name": "Python 3 (ipykernel)",
   "language": "python",
   "name": "python3"
  },
  "language_info": {
   "codemirror_mode": {
    "name": "ipython",
    "version": 3
   },
   "file_extension": ".py",
   "mimetype": "text/x-python",
   "name": "python",
   "nbconvert_exporter": "python",
   "pygments_lexer": "ipython3",
   "version": "3.11.7"
  }
 },
 "nbformat": 4,
 "nbformat_minor": 5
}
