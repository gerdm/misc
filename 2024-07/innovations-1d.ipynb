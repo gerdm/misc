{
 "cells": [
  {
   "cell_type": "markdown",
   "id": "452e2c25-812c-47f0-98c0-7f1d0e0c168c",
   "metadata": {},
   "source": [
    "# Cholesky and Gram-schmidt"
   ]
  },
  {
   "cell_type": "code",
   "execution_count": 2,
   "id": "7251960b-cc5f-4231-a711-6d6d37ab0dad",
   "metadata": {},
   "outputs": [],
   "source": [
    "import jax\n",
    "import jax.numpy as jnp\n",
    "import matplotlib.pyplot as plt"
   ]
  },
  {
   "cell_type": "code",
   "execution_count": 3,
   "id": "ede3cf72-24e2-4dd7-821b-fb4e6c40b8ed",
   "metadata": {},
   "outputs": [],
   "source": [
    "import seaborn as sns\n",
    "sns.set_palette(\"colorblind\")\n",
    "plt.rcParams[\"axes.spines.right\"] = False\n",
    "plt.rcParams[\"axes.spines.top\"] = False"
   ]
  },
  {
   "cell_type": "code",
   "execution_count": 4,
   "id": "91bd195c-441f-411b-9c60-5c690606310f",
   "metadata": {},
   "outputs": [],
   "source": [
    "%config InlineBackend.figure_format = \"retina\""
   ]
  },
  {
   "cell_type": "markdown",
   "id": "d3504716-3310-4b1f-aa20-b3298da076fc",
   "metadata": {},
   "source": [
    "## The setup\n",
    "\n",
    "### Building innovations — the Gramm-Schmidt algorithm\n",
    "The innovations initialised according to\n",
    "$$\n",
    "\\begin{aligned}\n",
    "    \\varepsilon_1 &= y_1,\\\\\n",
    "    R_1 &= {\\rm Var}(\\varepsilon_1) = {\\rm Var}(y_1).\n",
    "\\end{aligned}\n",
    "$$\n",
    "Then, \n",
    "$$\n",
    "\\begin{aligned}\n",
    "    \\varepsilon_t &= y_t - \\sum_{j=1}^{t-1}{\\rm Cov}(y_t, \\varepsilon_j)\\,R_j^{-1}\\,\\varepsilon_j,\\\\\n",
    "    R_t &= {\\rm Var}(\\varepsilon_t).\n",
    "\\end{aligned}\n",
    "$$\n",
    "\n",
    "### The cholesky decomposition\n",
    "The relationship between innovations and the Cholesky decomposition is given by\n",
    "$$\n",
    "    {\\rm Var}(y_{1:t}) = {\\bf L}\\,{\\bf R}\\,{\\bf L}^\\intercal\n",
    "$$\n",
    "with\n",
    "$$\n",
    "    {\\bf R} = {\\rm Diag}(R_1, \\ldots, R_t)\n",
    "$$\n",
    "and\n",
    "$$\n",
    "    {\\bf L}_{t,j} =\n",
    "    \\begin{cases}\n",
    "    {\\rm Cov}(y_t, \\varepsilon_j)R_j^{-1} & j=1,\\ldots,t-1,\\\\\n",
    "    {\\bf I} & j=t,\\\\\n",
    "    {\\bf 0} & j > t.\n",
    "    \\end{cases}\n",
    "$$\n",
    "\n",
    "Hence,\n",
    "> computation of the innovations is equivalent to computing the cholesky factorisation of ${\\rm Var}(y_{1:t})$."
   ]
  },
  {
   "cell_type": "code",
   "execution_count": 11,
   "id": "f3d88f68-a787-4f5a-b268-24907552cc6a",
   "metadata": {},
   "outputs": [],
   "source": [
    "def ssm(key, signal_init, n_steps, qt, rt):\n",
    "    def ssm_step(signal_prev, key):\n",
    "        key_measurement, key_state = jax.random.split(key)\n",
    "        ut = jax.random.normal(key_state) * qt\n",
    "        et = jax.random.normal(key_measurement) * rt\n",
    "\n",
    "        signal = signal_prev + ut\n",
    "        measurement = signal + et\n",
    "\n",
    "        return signal, (signal, measurement)\n",
    "\n",
    "    keys = jax.random.split(key, n_steps)\n",
    "    _, (signals, measurements) = jax.lax.scan(ssm_step, signal_init, keys)\n",
    "    return signals, measurements\n",
    "\n",
    "vssm = jax.vmap(ssm, in_axes=(0, None, None, None, None), out_axes=-1)"
   ]
  },
  {
   "cell_type": "code",
   "execution_count": 7,
   "id": "ea754cac-675f-43c8-8d7b-c9d78e150f65",
   "metadata": {},
   "outputs": [],
   "source": [
    "key = jax.random.PRNGKey(314)\n",
    "key_sample, key_test = jax.random.split(key)"
   ]
  },
  {
   "cell_type": "code",
   "execution_count": 8,
   "id": "6d37c8ae-e1f3-48b4-9b98-e070c6009e37",
   "metadata": {},
   "outputs": [],
   "source": [
    "signal_init = 0.0\n",
    "n_steps = 100\n",
    "qt = 0.05\n",
    "rt = 0.1\n",
    "signals, measurements = ssm(key, signal_init, n_steps, qt, rt)"
   ]
  },
  {
   "cell_type": "markdown",
   "id": "19979b7d-f272-49c8-b924-80d48d61694d",
   "metadata": {},
   "source": [
    "## The cholesky decompoistion"
   ]
  },
  {
   "cell_type": "code",
   "execution_count": 12,
   "id": "6249a5e3-4b71-401f-9326-8b7e2336ef03",
   "metadata": {},
   "outputs": [],
   "source": [
    "n_trials = 500\n",
    "keys = jax.random.split(key_sample, n_trials)"
   ]
  },
  {
   "cell_type": "code",
   "execution_count": 13,
   "id": "62f7d3fa-e8da-4e21-b8a7-d9502d2e1898",
   "metadata": {},
   "outputs": [],
   "source": [
    "n_steps = 100\n",
    "signal_init = 0.0\n",
    "rt = 0.1\n",
    "qt = 0.05\n",
    "\n",
    "signals, measurements = vssm(keys, signal_init, n_steps, qt, rt)"
   ]
  },
  {
   "cell_type": "code",
   "execution_count": 40,
   "id": "b33eedf3-bc13-4a0b-93e3-635aa2471821",
   "metadata": {},
   "outputs": [],
   "source": [
    "var_y = jnp.cov(measurements)"
   ]
  },
  {
   "cell_type": "code",
   "execution_count": 42,
   "id": "b0a778a3-446a-41c3-a208-6cc723ec1a58",
   "metadata": {},
   "outputs": [
    {
     "data": {
      "text/plain": [
       "Array([[ 0.10886046,  0.        ,  0.        , ...,  0.        ,\n",
       "         0.        ,  0.        ],\n",
       "       [ 0.01506142,  0.12025248,  0.        , ...,  0.        ,\n",
       "         0.        ,  0.        ],\n",
       "       [ 0.0172424 ,  0.03949473,  0.12908962, ...,  0.        ,\n",
       "         0.        ,  0.        ],\n",
       "       ...,\n",
       "       [ 0.04262104,  0.09049029, -0.01284586, ...,  0.11989492,\n",
       "         0.        ,  0.        ],\n",
       "       [ 0.03957634,  0.084027  , -0.01073   , ...,  0.05197307,\n",
       "         0.10901859,  0.        ],\n",
       "       [ 0.03986522,  0.08856162, -0.00640565, ...,  0.04934085,\n",
       "         0.03799685,  0.1199625 ]], dtype=float32)"
      ]
     },
     "execution_count": 42,
     "metadata": {},
     "output_type": "execute_result"
    }
   ],
   "source": [
    "jnp.linalg.cholesky(var_y)"
   ]
  },
  {
   "cell_type": "code",
   "execution_count": 22,
   "id": "ecff38a5-cbee-404c-ace8-d4331487f3fc",
   "metadata": {},
   "outputs": [],
   "source": [
    "Rvals = jnp.diag()"
   ]
  },
  {
   "cell_type": "code",
   "execution_count": 23,
   "id": "7bc257be-ebad-4493-98a7-4f83133d7f0c",
   "metadata": {},
   "outputs": [
    {
     "data": {
      "text/plain": [
       "Array([0.0118506 , 0.0146875 , 0.01852126, 0.0192252 , 0.0247822 ,\n",
       "       0.02648306, 0.02678788, 0.03088834, 0.03053957, 0.03285145,\n",
       "       0.03272242, 0.03545737, 0.04072683, 0.04229142, 0.04577431,\n",
       "       0.0471628 , 0.05026382, 0.05352138, 0.05901953, 0.05662038,\n",
       "       0.05921943, 0.06327067, 0.06815398, 0.07089395, 0.07562165,\n",
       "       0.07366988, 0.0751664 , 0.08050065, 0.08111937, 0.0832592 ,\n",
       "       0.09176692, 0.09055013, 0.09518983, 0.09526988, 0.09790165,\n",
       "       0.1070644 , 0.10218427, 0.10821304, 0.10993323, 0.1121665 ,\n",
       "       0.10933848, 0.11234052, 0.10574164, 0.10864503, 0.11467545,\n",
       "       0.1139204 , 0.12170965, 0.12352176, 0.12664904, 0.13058473,\n",
       "       0.13054559, 0.12624188, 0.13363758, 0.1360575 , 0.13613725,\n",
       "       0.13879074, 0.14282578, 0.145495  , 0.14597006, 0.15086403,\n",
       "       0.15087079, 0.15628406, 0.15450262, 0.16241577, 0.16619822,\n",
       "       0.16896376, 0.16326421, 0.16755441, 0.17383629, 0.17321117,\n",
       "       0.17214847, 0.18351167, 0.17444202, 0.17694551, 0.1898392 ,\n",
       "       0.19191188, 0.19584295, 0.19643545, 0.2018201 , 0.20903331,\n",
       "       0.20849164, 0.21823363, 0.20821364, 0.21502319, 0.22680593,\n",
       "       0.23218367, 0.22168173, 0.23026963, 0.23245575, 0.22636522,\n",
       "       0.23295784, 0.23305379, 0.23255296, 0.23182014, 0.2369215 ,\n",
       "       0.23700216, 0.24149738, 0.24979807, 0.24140167, 0.25778577],      dtype=float32)"
      ]
     },
     "execution_count": 23,
     "metadata": {},
     "output_type": "execute_result"
    }
   ],
   "source": [
    "Rvals"
   ]
  }
 ],
 "metadata": {
  "kernelspec": {
   "display_name": "Python 3 (ipykernel)",
   "language": "python",
   "name": "python3"
  },
  "language_info": {
   "codemirror_mode": {
    "name": "ipython",
    "version": 3
   },
   "file_extension": ".py",
   "mimetype": "text/x-python",
   "name": "python",
   "nbconvert_exporter": "python",
   "pygments_lexer": "ipython3",
   "version": "3.11.7"
  }
 },
 "nbformat": 4,
 "nbformat_minor": 5
}
