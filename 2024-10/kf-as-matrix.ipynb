{
 "cells": [
  {
   "cell_type": "markdown",
   "id": "8938d938-4497-4e23-9650-7a0f28995acd",
   "metadata": {},
   "source": [
    "# Gram-schmidt and the KF"
   ]
  },
  {
   "cell_type": "code",
   "execution_count": 3,
   "id": "18064863-e148-4523-85ef-a1c01530ef06",
   "metadata": {},
   "outputs": [],
   "source": [
    "import numpy as np\n",
    "import pandas as pd\n",
    "import matplotlib.pyplot as plt"
   ]
  },
  {
   "cell_type": "code",
   "execution_count": 4,
   "id": "2a2637da-3516-4c44-8354-3267d4ebcf94",
   "metadata": {},
   "outputs": [],
   "source": [
    "%config InlineBackend.figure_format = \"retina\""
   ]
  },
  {
   "cell_type": "code",
   "execution_count": 5,
   "id": "02844887-58de-447a-b5eb-c766af0086cf",
   "metadata": {},
   "outputs": [],
   "source": [
    "np.random.seed(314)\n",
    "\n",
    "a = 3\n",
    "y = np.random.randn(100)\n",
    "e = np.random.normal(scale=0.1, size=100)\n",
    "\n",
    "f = a * y + e"
   ]
  },
  {
   "cell_type": "code",
   "execution_count": 6,
   "id": "12447712-11b0-48f2-bd35-7f0c71a97a8d",
   "metadata": {},
   "outputs": [],
   "source": [
    "# sample covariance\n",
    "\n",
    "var_y = np.var(y, ddof=0)"
   ]
  },
  {
   "cell_type": "code",
   "execution_count": 7,
   "id": "663da282-f909-4bf7-b664-405f35d9ccc0",
   "metadata": {},
   "outputs": [
    {
     "data": {
      "text/plain": [
       "array([[8.06388127, 2.66652296],\n",
       "       [2.66652296, 0.88301421]])"
      ]
     },
     "execution_count": 7,
     "metadata": {},
     "output_type": "execute_result"
    }
   ],
   "source": [
    "cov = np.cov(f, y, ddof=0)\n",
    "cov"
   ]
  },
  {
   "cell_type": "code",
   "execution_count": 8,
   "id": "bcae785d-e27d-49fc-866b-fda5e708ceee",
   "metadata": {},
   "outputs": [],
   "source": [
    "cov_fy = cov[0, 1]\n",
    "var_y = cov[1, 1]"
   ]
  },
  {
   "cell_type": "code",
   "execution_count": 12,
   "id": "6557c7ec-8f61-4901-8a69-042392cf00e7",
   "metadata": {},
   "outputs": [
    {
     "data": {
      "text/plain": [
       "3.0197961909519537"
      ]
     },
     "execution_count": 12,
     "metadata": {},
     "output_type": "execute_result"
    }
   ],
   "source": [
    "# Best linear unbiased predictor\n",
    "cov_fy / var_y"
   ]
  },
  {
   "cell_type": "markdown",
   "id": "71e738ca-9815-4cbc-9944-334be0e7f6a7",
   "metadata": {},
   "source": [
    "## Gram-shmidt"
   ]
  },
  {
   "cell_type": "code",
   "execution_count": 34,
   "id": "e3607ab4-64c5-407b-841a-516d24706609",
   "metadata": {},
   "outputs": [
    {
     "data": {
      "text/plain": [
       "array([[0., 0.],\n",
       "       [0., 0.]])"
      ]
     },
     "execution_count": 34,
     "metadata": {},
     "output_type": "execute_result"
    }
   ],
   "source": [
    "np.cov(f[2], y[0], ddof=0)"
   ]
  },
  {
   "cell_type": "markdown",
   "id": "ea6d4571-0b9d-4682-a84e-ca5713ef05a4",
   "metadata": {},
   "source": [
    "## References\n",
    "- [Covariance numpy](https://stackoverflow.com/questions/15317822/calculating-covariance-with-python-and-numpy)"
   ]
  }
 ],
 "metadata": {
  "kernelspec": {
   "display_name": "Python 3 (ipykernel)",
   "language": "python",
   "name": "python3"
  },
  "language_info": {
   "codemirror_mode": {
    "name": "ipython",
    "version": 3
   },
   "file_extension": ".py",
   "mimetype": "text/x-python",
   "name": "python",
   "nbconvert_exporter": "python",
   "pygments_lexer": "ipython3",
   "version": "3.11.7"
  }
 },
 "nbformat": 4,
 "nbformat_minor": 5
}
