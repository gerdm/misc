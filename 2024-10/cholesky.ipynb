{
 "cells": [
  {
   "cell_type": "markdown",
   "id": "2123011d-8eaf-4ec1-93f6-957b9c3b6022",
   "metadata": {},
   "source": [
    "# The Cholesky decomposition"
   ]
  },
  {
   "cell_type": "code",
   "execution_count": 1,
   "id": "79cb47fd-6c20-49e2-9677-7073d7f5ab2e",
   "metadata": {},
   "outputs": [],
   "source": [
    "import numba\n",
    "import numpy as np\n",
    "from numba import njit\n",
    "from scipy.linalg import cholesky\n",
    "np.set_printoptions(suppress=True, precision=4, linewidth=150)"
   ]
  },
  {
   "cell_type": "code",
   "execution_count": 2,
   "id": "ff95f6d7-7d60-4204-ac7c-9c15e059a79e",
   "metadata": {},
   "outputs": [],
   "source": [
    "xvals = np.linspace(-3, 3, 100)"
   ]
  },
  {
   "cell_type": "markdown",
   "id": "f1b08b18-7603-4326-aa2b-c1d2a25d9688",
   "metadata": {},
   "source": [
    "Let ${\\bf \\Sigma}$ be an $N\\,P\\times N\\,P$ positive definite matrix such that\n",
    "$$\n",
    "{\\bf \\Sigma} =\n",
    "\\begin{bmatrix}\n",
    "    {\\bf \\sigma}_{1,1} & {\\bf \\sigma}_{1,2} & \\cdots & {\\bf \\sigma}_{1,N}\\\\\n",
    "    {\\bf \\sigma}_{2,1} & {\\bf \\sigma}_{2,2} & \\cdots & {\\bf \\sigma}_{2,N}\\\\\n",
    "    \\vdots & \\vdots & \\ddots & \\vdots \\\\\n",
    "    {\\bf \\sigma}_{N,1} & {\\bf \\sigma}_{N,2} & \\ldots & {\\bf \\sigma}_{N,N}\n",
    "\\end{bmatrix}\n",
    "$$"
   ]
  },
  {
   "cell_type": "markdown",
   "id": "4b4bdb3c-9060-4ebc-ab02-bf035958ec80",
   "metadata": {},
   "source": [
    "We seek to decompose ${\\bf \\Sigma} = {\\bf L\\,R\\,L}^\\intercal$\n",
    "with ${\\bf R} = {\\rm diag}(R_1, \\ldots, R_N)$ and\n",
    "${\\bf L} = \\{L_{i,j} : i \\in \\{1, \\ldots N\\}, j \\leq i\\}$ a block-lower triangular matrix with $L_{i,i} = {\\bf I}$\n",
    "\n",
    "We seek ${\\bf L}$ and ${\\bf R}$ such that\n",
    "$$\n",
    "    ({\\bf L\\,R\\,L}^\\intercal)_{i,j} = \\sigma_{i,j}\n",
    "$$"
   ]
  },
  {
   "cell_type": "markdown",
   "id": "d876269b-076a-439e-8401-d04e12d9b4cb",
   "metadata": {},
   "source": [
    "The choleskly decomposition yields the following algorithm\n",
    "\n",
    "$$\n",
    "\\begin{aligned}\n",
    "    {\\bf R}_i &= \\sigma_{i,i} - \\sum_{k=1}^{i-1}{\\bf L}_{i,k}\\,{\\bf R}_{k}\\,{\\bf L}_{i,k}^\\intercal\n",
    "    &\\text{for }i=1,\\ldots,T\\\\\n",
    "    {\\bf L}_{i,j} &= \\left[\\sigma_{i,j} - \\sum_{k=1}^{j-1}{\\bf L}_{i,k}\\,{\\bf R}_k\\,{\\bf L}_{j,k}^\\intercal\\right]\n",
    "    &\\text{for } i=2,\\ldots,T\\text{ and }\\, j<i\n",
    "\\end{aligned}\n",
    "$$"
   ]
  },
  {
   "cell_type": "code",
   "execution_count": 48,
   "id": "3c31be21-74ae-4887-bb2b-5223994b64af",
   "metadata": {},
   "outputs": [],
   "source": [
    "np.random.seed(314)\n",
    "d = 10\n",
    "S = np.random.randn(d, d)\n",
    "S = S @ S.T"
   ]
  },
  {
   "cell_type": "code",
   "execution_count": 49,
   "id": "14b34aeb-27b2-4794-8c92-3271b34fc03c",
   "metadata": {},
   "outputs": [],
   "source": [
    "LR = np.linalg.cholesky(S)"
   ]
  },
  {
   "cell_type": "code",
   "execution_count": 50,
   "id": "b181e292-30fc-4587-bfb2-fd79d3599337",
   "metadata": {},
   "outputs": [
    {
     "data": {
      "text/plain": [
       "array([[ 5.0561, -2.1211, -4.9336,  1.7228, -1.1385, -4.5112,  4.1296,  1.4875, -1.6306,  1.1243],\n",
       "       [-2.1211, 10.6464,  4.9359, -4.3093, -0.2017, -1.0459, -0.481 ,  3.6758, -3.9953,  1.0951],\n",
       "       [-4.9336,  4.9359, 15.9405, -1.533 ,  3.0908,  3.4337, -2.9025, -0.8334, -1.8779, -1.783 ],\n",
       "       [ 1.7228, -4.3093, -1.533 ,  7.1912,  0.5188, -0.0115, -0.6576, -3.4788, -1.2517,  2.3797],\n",
       "       [-1.1385, -0.2017,  3.0908,  0.5188,  7.163 ,  1.5606, -2.7542,  0.1679,  1.2635,  1.2001],\n",
       "       [-4.5112, -1.0459,  3.4337, -0.0115,  1.5606,  5.6308, -4.7271, -2.4139,  3.0437, -1.037 ],\n",
       "       [ 4.1296, -0.481 , -2.9025, -0.6576, -2.7542, -4.7271,  7.7946,  5.5878, -3.4981, -0.1397],\n",
       "       [ 1.4875,  3.6758, -0.8334, -3.4788,  0.1679, -2.4139,  5.5878, 11.2912, -1.5058, -0.1032],\n",
       "       [-1.6306, -3.9953, -1.8779, -1.2517,  1.2635,  3.0437, -3.4981, -1.5058, 11.7888,  0.6448],\n",
       "       [ 1.1243,  1.0951, -1.783 ,  2.3797,  1.2001, -1.037 , -0.1397, -0.1032,  0.6448,  5.8579]])"
      ]
     },
     "execution_count": 50,
     "metadata": {},
     "output_type": "execute_result"
    }
   ],
   "source": [
    "S"
   ]
  },
  {
   "cell_type": "code",
   "execution_count": 51,
   "id": "8ff1777b-bb61-4f03-9140-a0e684ce8932",
   "metadata": {},
   "outputs": [
    {
     "data": {
      "text/plain": [
       "array([[ 2.2486,  0.    ,  0.    ,  0.    ,  0.    ,  0.    ,  0.    ,  0.    ,  0.    ,  0.    ],\n",
       "       [-0.9433,  3.1236,  0.    ,  0.    ,  0.    ,  0.    ,  0.    ,  0.    ,  0.    ,  0.    ],\n",
       "       [-2.1941,  0.9176,  3.2069,  0.    ,  0.    ,  0.    ,  0.    ,  0.    ,  0.    ,  0.    ],\n",
       "       [ 0.7662, -1.1482,  0.3747,  2.2683,  0.    ,  0.    ,  0.    ,  0.    ,  0.    ,  0.    ],\n",
       "       [-0.5063, -0.2175,  0.6796,  0.1774,  2.5231,  0.    ,  0.    ,  0.    ,  0.    ,  0.    ],\n",
       "       [-2.0063, -0.9407, -0.0327,  0.2018,  0.1295,  0.8138,  0.    ,  0.    ,  0.    ,  0.    ],\n",
       "       [ 1.8365,  0.4006,  0.2368, -0.7466, -0.6998, -0.5121,  1.7017,  0.    ,  0.    ,  0.    ],\n",
       "       [ 0.6615,  1.3766, -0.2012, -1.027 ,  0.4444,  0.4319,  2.1357,  1.7082,  0.    ,  0.    ],\n",
       "       [-0.7252, -1.4981, -0.6531, -0.9573,  0.4693,  0.357 , -0.949 ,  0.9282,  2.3592,  0.    ],\n",
       "       [ 0.5   ,  0.5016, -0.3574,  1.1932,  0.6316,  0.1274,  0.1315, -0.3439,  1.174 ,  1.3695]])"
      ]
     },
     "execution_count": 51,
     "metadata": {},
     "output_type": "execute_result"
    }
   ],
   "source": [
    "LR"
   ]
  },
  {
   "cell_type": "code",
   "execution_count": 52,
   "id": "a31464fe-a7dd-4ead-a801-299fe6b0d4a2",
   "metadata": {},
   "outputs": [],
   "source": [
    "R = np.diag(LR)\n",
    "L = LR / np.diag(LR)"
   ]
  },
  {
   "cell_type": "code",
   "execution_count": 53,
   "id": "33c1b627-7c40-4657-975d-9cc185e01095",
   "metadata": {},
   "outputs": [
    {
     "data": {
      "text/plain": [
       "array([[ 1.    ,  0.    ,  0.    ,  0.    ,  0.    ,  0.    ,  0.    ,  0.    ,  0.    ,  0.    ],\n",
       "       [-0.4195,  1.    ,  0.    ,  0.    ,  0.    ,  0.    ,  0.    ,  0.    ,  0.    ,  0.    ],\n",
       "       [-0.9758,  0.2938,  1.    ,  0.    ,  0.    ,  0.    ,  0.    ,  0.    ,  0.    ,  0.    ],\n",
       "       [ 0.3407, -0.3676,  0.1168,  1.    ,  0.    ,  0.    ,  0.    ,  0.    ,  0.    ,  0.    ],\n",
       "       [-0.2252, -0.0696,  0.2119,  0.0782,  1.    ,  0.    ,  0.    ,  0.    ,  0.    ,  0.    ],\n",
       "       [-0.8922, -0.3012, -0.0102,  0.089 ,  0.0513,  1.    ,  0.    ,  0.    ,  0.    ,  0.    ],\n",
       "       [ 0.8168,  0.1283,  0.0738, -0.3291, -0.2774, -0.6293,  1.    ,  0.    ,  0.    ,  0.    ],\n",
       "       [ 0.2942,  0.4407, -0.0627, -0.4528,  0.1761,  0.5308,  1.255 ,  1.    ,  0.    ,  0.    ],\n",
       "       [-0.3225, -0.4796, -0.2036, -0.422 ,  0.186 ,  0.4387, -0.5576,  0.5433,  1.    ,  0.    ],\n",
       "       [ 0.2224,  0.1606, -0.1115,  0.526 ,  0.2503,  0.1566,  0.0773, -0.2013,  0.4976,  1.    ]])"
      ]
     },
     "execution_count": 53,
     "metadata": {},
     "output_type": "execute_result"
    }
   ],
   "source": [
    "L"
   ]
  },
  {
   "cell_type": "code",
   "execution_count": 54,
   "id": "9f3a5ac5-b2c1-46fb-a522-fd559d5249e7",
   "metadata": {},
   "outputs": [
    {
     "data": {
      "text/plain": [
       "array([2.2486, 3.1236, 3.2069, 2.2683, 2.5231, 0.8138, 1.7017, 1.7082, 2.3592, 1.3695])"
      ]
     },
     "execution_count": 54,
     "metadata": {},
     "output_type": "execute_result"
    }
   ],
   "source": [
    "R"
   ]
  },
  {
   "cell_type": "markdown",
   "id": "aec9829e-6195-41a0-9c7d-9ece910a981a",
   "metadata": {},
   "source": [
    "## Step-by-step construction"
   ]
  },
  {
   "cell_type": "code",
   "execution_count": 55,
   "id": "79531a56-903d-4e51-a924-8dfe2d5dbf54",
   "metadata": {},
   "outputs": [],
   "source": [
    "R_vals = np.zeros(d)\n",
    "L_vals = np.zeros((d,d))"
   ]
  },
  {
   "cell_type": "markdown",
   "id": "d7c55d5d-533e-4e4e-97ba-30437079cfa0",
   "metadata": {},
   "source": [
    "## Step 1 — construction of the first column"
   ]
  },
  {
   "cell_type": "code",
   "execution_count": 56,
   "id": "1936c15d-189c-458d-885b-cd4fb004b8a4",
   "metadata": {},
   "outputs": [
    {
     "data": {
      "text/plain": [
       "5.056067919855992"
      ]
     },
     "execution_count": 56,
     "metadata": {},
     "output_type": "execute_result"
    }
   ],
   "source": [
    "R_vals[0] = S[0,0]\n",
    "R_vals[0]"
   ]
  },
  {
   "cell_type": "code",
   "execution_count": 57,
   "id": "cb41692d-6ccd-42f2-bcbb-a0df4ea226f1",
   "metadata": {},
   "outputs": [
    {
     "data": {
      "text/plain": [
       "array([5.0561, 0.    , 0.    , 0.    , 0.    , 0.    , 0.    , 0.    , 0.    , 0.    ])"
      ]
     },
     "execution_count": 57,
     "metadata": {},
     "output_type": "execute_result"
    }
   ],
   "source": [
    "R_vals"
   ]
  },
  {
   "cell_type": "code",
   "execution_count": 58,
   "id": "65b93049-789a-4e73-8ffc-51acb7e7edba",
   "metadata": {},
   "outputs": [
    {
     "data": {
      "text/plain": [
       "array([ 1.    , -0.4195, -0.9758,  0.3407, -0.2252, -0.8922,  0.8168,  0.2942, -0.3225,  0.2224])"
      ]
     },
     "execution_count": 58,
     "metadata": {},
     "output_type": "execute_result"
    }
   ],
   "source": [
    "L_vals[:, 0] = S[:, 0] / R_vals[0]\n",
    "L_vals[:, 0]"
   ]
  },
  {
   "cell_type": "code",
   "execution_count": 59,
   "id": "ce6655c5-2976-40b9-8159-3029cb995089",
   "metadata": {},
   "outputs": [
    {
     "data": {
      "text/plain": [
       "array([[ 1.    ,  0.    ,  0.    ,  0.    ,  0.    ,  0.    ,  0.    ,  0.    ,  0.    ,  0.    ],\n",
       "       [-0.4195,  0.    ,  0.    ,  0.    ,  0.    ,  0.    ,  0.    ,  0.    ,  0.    ,  0.    ],\n",
       "       [-0.9758,  0.    ,  0.    ,  0.    ,  0.    ,  0.    ,  0.    ,  0.    ,  0.    ,  0.    ],\n",
       "       [ 0.3407,  0.    ,  0.    ,  0.    ,  0.    ,  0.    ,  0.    ,  0.    ,  0.    ,  0.    ],\n",
       "       [-0.2252,  0.    ,  0.    ,  0.    ,  0.    ,  0.    ,  0.    ,  0.    ,  0.    ,  0.    ],\n",
       "       [-0.8922,  0.    ,  0.    ,  0.    ,  0.    ,  0.    ,  0.    ,  0.    ,  0.    ,  0.    ],\n",
       "       [ 0.8168,  0.    ,  0.    ,  0.    ,  0.    ,  0.    ,  0.    ,  0.    ,  0.    ,  0.    ],\n",
       "       [ 0.2942,  0.    ,  0.    ,  0.    ,  0.    ,  0.    ,  0.    ,  0.    ,  0.    ,  0.    ],\n",
       "       [-0.3225,  0.    ,  0.    ,  0.    ,  0.    ,  0.    ,  0.    ,  0.    ,  0.    ,  0.    ],\n",
       "       [ 0.2224,  0.    ,  0.    ,  0.    ,  0.    ,  0.    ,  0.    ,  0.    ,  0.    ,  0.    ]])"
      ]
     },
     "execution_count": 59,
     "metadata": {},
     "output_type": "execute_result"
    }
   ],
   "source": [
    "L_vals"
   ]
  },
  {
   "cell_type": "markdown",
   "id": "6540db8f-719a-408b-a01f-210c13ce6fc0",
   "metadata": {},
   "source": [
    "## Step 2 — construction of second column"
   ]
  },
  {
   "cell_type": "code",
   "execution_count": 60,
   "id": "870e0467-f58e-48b3-8943-0ff193ef4e1c",
   "metadata": {},
   "outputs": [
    {
     "data": {
      "text/plain": [
       "-0.4195173250631725"
      ]
     },
     "execution_count": 60,
     "metadata": {},
     "output_type": "execute_result"
    }
   ],
   "source": [
    "L_vals[1,0]"
   ]
  },
  {
   "cell_type": "code",
   "execution_count": 61,
   "id": "1d74873a-62fe-4896-9ded-cb23d7eba777",
   "metadata": {},
   "outputs": [
    {
     "data": {
      "text/plain": [
       "9.756605325989712"
      ]
     },
     "execution_count": 61,
     "metadata": {},
     "output_type": "execute_result"
    }
   ],
   "source": [
    "R_vals[1] = S[1,1] - L_vals[1,0] * R_vals[0] * L_vals[1,0]\n",
    "R_vals[1]"
   ]
  },
  {
   "cell_type": "code",
   "execution_count": 62,
   "id": "c9cd4bbc-6442-4c5c-9687-7dd10d6fd135",
   "metadata": {},
   "outputs": [],
   "source": [
    "L_vals[1:, 1] = (S[1:,1] - L_vals[1:,0] * R_vals[0] * L_vals[1,0]) / R_vals[1]"
   ]
  },
  {
   "cell_type": "code",
   "execution_count": 63,
   "id": "7aa688ae-9c96-4334-a037-a60bc69a6ca2",
   "metadata": {},
   "outputs": [
    {
     "data": {
      "text/plain": [
       "array([[ 1.    ,  0.    ,  0.    ,  0.    ,  0.    ,  0.    ,  0.    ,  0.    ,  0.    ,  0.    ],\n",
       "       [-0.4195,  1.    ,  0.    ,  0.    ,  0.    ,  0.    ,  0.    ,  0.    ,  0.    ,  0.    ],\n",
       "       [-0.9758,  0.2938,  0.    ,  0.    ,  0.    ,  0.    ,  0.    ,  0.    ,  0.    ,  0.    ],\n",
       "       [ 0.3407, -0.3676,  0.    ,  0.    ,  0.    ,  0.    ,  0.    ,  0.    ,  0.    ,  0.    ],\n",
       "       [-0.2252, -0.0696,  0.    ,  0.    ,  0.    ,  0.    ,  0.    ,  0.    ,  0.    ,  0.    ],\n",
       "       [-0.8922, -0.3012,  0.    ,  0.    ,  0.    ,  0.    ,  0.    ,  0.    ,  0.    ,  0.    ],\n",
       "       [ 0.8168,  0.1283,  0.    ,  0.    ,  0.    ,  0.    ,  0.    ,  0.    ,  0.    ,  0.    ],\n",
       "       [ 0.2942,  0.4407,  0.    ,  0.    ,  0.    ,  0.    ,  0.    ,  0.    ,  0.    ,  0.    ],\n",
       "       [-0.3225, -0.4796,  0.    ,  0.    ,  0.    ,  0.    ,  0.    ,  0.    ,  0.    ,  0.    ],\n",
       "       [ 0.2224,  0.1606,  0.    ,  0.    ,  0.    ,  0.    ,  0.    ,  0.    ,  0.    ,  0.    ]])"
      ]
     },
     "execution_count": 63,
     "metadata": {},
     "output_type": "execute_result"
    }
   ],
   "source": [
    "L_vals"
   ]
  },
  {
   "cell_type": "markdown",
   "id": "875e89d4-f0c8-4d46-9549-12edfdea553d",
   "metadata": {},
   "source": [
    "## Further steps"
   ]
  },
  {
   "cell_type": "code",
   "execution_count": 64,
   "id": "8861bb55-edd2-4d0c-b535-f5c188632d9d",
   "metadata": {},
   "outputs": [
    {
     "name": "stderr",
     "output_type": "stream",
     "text": [
      "/var/folders/vf/3b13gs616172kztlr53t6_s00000gn/T/ipykernel_23726/1761289545.py:5: RuntimeWarning: divide by zero encountered in scalar divide\n",
      "  L_vals[j, k] = L_vals[j,k] / R_vals[j]\n",
      "/var/folders/vf/3b13gs616172kztlr53t6_s00000gn/T/ipykernel_23726/1761289545.py:5: RuntimeWarning: invalid value encountered in scalar divide\n",
      "  L_vals[j, k] = L_vals[j,k] / R_vals[j]\n"
     ]
    }
   ],
   "source": [
    "for k in range(2, d):\n",
    "    R_vals[k] = S[k, k] - (L_vals[k, :k] * R[:k] * L_vals[k, :k]).sum()\n",
    "    for j in range(k, d):\n",
    "        L_vals[j, k] = S[j,k] - (L_vals[k, :j] * R[:j] * L_vals[j, :j]).sum()\n",
    "        L_vals[j, k] = L_vals[j,k] / R_vals[j]\n",
    "    L_vals[k, k] = 1"
   ]
  },
  {
   "cell_type": "code",
   "execution_count": 65,
   "id": "3ab52af3-e8d4-4f56-810f-e3d107773b32",
   "metadata": {},
   "outputs": [
    {
     "data": {
      "text/plain": [
       "array([ 5.0561,  9.7566, 13.53  ,    -inf,     nan,     nan,     nan,     nan,     nan,     nan])"
      ]
     },
     "execution_count": 65,
     "metadata": {},
     "output_type": "execute_result"
    }
   ],
   "source": [
    "R_vals"
   ]
  },
  {
   "cell_type": "code",
   "execution_count": 66,
   "id": "595ad0cd-5104-4750-953b-27c8bc858459",
   "metadata": {},
   "outputs": [
    {
     "data": {
      "text/plain": [
       "array([[ 1.    ,  0.    ,  0.    ,  0.    ,  0.    ,  0.    ,  0.    ,  0.    ,  0.    ,  0.    ],\n",
       "       [-0.4195,  1.    ,  0.    ,  0.    ,  0.    ,  0.    ,  0.    ,  0.    ,  0.    ,  0.    ],\n",
       "       [-0.9758,  0.2938,  1.    ,  0.    ,  0.    ,  0.    ,  0.    ,  0.    ,  0.    ,  0.    ],\n",
       "       [ 0.3407, -0.3676,    -inf,  1.    ,  0.    ,  0.    ,  0.    ,  0.    ,  0.    ,  0.    ],\n",
       "       [-0.2252, -0.0696,     inf,     nan,  1.    ,  0.    ,  0.    ,  0.    ,  0.    ,  0.    ],\n",
       "       [-0.8922, -0.3012,     inf,     nan,     nan,  1.    ,  0.    ,  0.    ,  0.    ,  0.    ],\n",
       "       [ 0.8168,  0.1283,    -inf,     nan,     nan,     nan,  1.    ,  0.    ,  0.    ,  0.    ],\n",
       "       [ 0.2942,  0.4407,    -inf,     nan,     nan,     nan,     nan,  1.    ,  0.    ,  0.    ],\n",
       "       [-0.3225, -0.4796,    -inf,     nan,     nan,     nan,     nan,     nan,  1.    ,  0.    ],\n",
       "       [ 0.2224,  0.1606,    -inf,     nan,     nan,     nan,     nan,     nan,     nan,  1.    ]])"
      ]
     },
     "execution_count": 66,
     "metadata": {},
     "output_type": "execute_result"
    }
   ],
   "source": [
    "L_vals"
   ]
  },
  {
   "cell_type": "code",
   "execution_count": 47,
   "id": "ee2f62bc-715d-45a3-9484-4511f190b422",
   "metadata": {},
   "outputs": [
    {
     "data": {
      "text/plain": [
       "array([[ 1.    ,  0.    ,  0.    ,  0.    ,  0.    ,  0.    ,  0.    ,  0.    ,  0.    ,  0.    ],\n",
       "       [-0.4195,  1.    ,  0.    ,  0.    ,  0.    ,  0.    ,  0.    ,  0.    ,  0.    ,  0.    ],\n",
       "       [-0.9758,  0.2938,  1.    ,  0.    ,  0.    ,  0.    ,  0.    ,  0.    ,  0.    ,  0.    ],\n",
       "       [ 0.3407, -0.3676,  0.1168,  1.    ,  0.    ,  0.    ,  0.    ,  0.    ,  0.    ,  0.    ],\n",
       "       [-0.2252, -0.0696,  0.2119,  0.0782,  1.    ,  0.    ,  0.    ,  0.    ,  0.    ,  0.    ],\n",
       "       [-0.8922, -0.3012, -0.0102,  0.089 ,  0.0513,  1.    ,  0.    ,  0.    ,  0.    ,  0.    ],\n",
       "       [ 0.8168,  0.1283,  0.0738, -0.3291, -0.2774, -0.6293,  1.    ,  0.    ,  0.    ,  0.    ],\n",
       "       [ 0.2942,  0.4407, -0.0627, -0.4528,  0.1761,  0.5308,  1.255 ,  1.    ,  0.    ,  0.    ],\n",
       "       [-0.3225, -0.4796, -0.2036, -0.422 ,  0.186 ,  0.4387, -0.5576,  0.5433,  1.    ,  0.    ],\n",
       "       [ 0.2224,  0.1606, -0.1115,  0.526 ,  0.2503,  0.1566,  0.0773, -0.2013,  0.4976,  1.    ]])"
      ]
     },
     "execution_count": 47,
     "metadata": {},
     "output_type": "execute_result"
    }
   ],
   "source": [
    "L"
   ]
  }
 ],
 "metadata": {
  "kernelspec": {
   "display_name": "Python 3 (ipykernel)",
   "language": "python",
   "name": "python3"
  },
  "language_info": {
   "codemirror_mode": {
    "name": "ipython",
    "version": 3
   },
   "file_extension": ".py",
   "mimetype": "text/x-python",
   "name": "python",
   "nbconvert_exporter": "python",
   "pygments_lexer": "ipython3",
   "version": "3.11.7"
  }
 },
 "nbformat": 4,
 "nbformat_minor": 5
}
