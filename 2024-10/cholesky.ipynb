{
 "cells": [
  {
   "cell_type": "markdown",
   "id": "2123011d-8eaf-4ec1-93f6-957b9c3b6022",
   "metadata": {},
   "source": [
    "# The Cholesky decomposition"
   ]
  },
  {
   "cell_type": "code",
   "execution_count": 3,
   "id": "9ef6b918-5399-45fb-bbd0-f047d70be3e3",
   "metadata": {},
   "outputs": [],
   "source": [
    "import numba\n",
    "import numpy as np\n",
    "from numba import jit"
   ]
  },
  {
   "cell_type": "code",
   "execution_count": 4,
   "id": "ff95f6d7-7d60-4204-ac7c-9c15e059a79e",
   "metadata": {},
   "outputs": [],
   "source": [
    "xvals = np.linspace(-3, 3, 100)"
   ]
  },
  {
   "cell_type": "markdown",
   "id": "f1b08b18-7603-4326-aa2b-c1d2a25d9688",
   "metadata": {},
   "source": [
    "Let ${\\bf \\Sigma}$ be an $N\\,P\\times N\\,P$ positive definite matrix such that\n",
    "$$\n",
    "{\\bf \\Sigma} =\n",
    "\\begin{bmatrix}\n",
    "    {\\bf \\sigma}_{1,1} & {\\bf \\sigma}_{1,2} & \\cdots & {\\bf \\sigma}_{1,N}\\\\\n",
    "    {\\bf \\sigma}_{2,1} & {\\bf \\sigma}_{2,2} & \\cdots & {\\bf \\sigma}_{2,N}\\\\\n",
    "    \\vdots & \\vdots & \\ddots & \\vdots \\\\\n",
    "    {\\bf \\sigma}_{N,1} & {\\bf \\sigma}_{N,2} & \\ldots & {\\bf \\sigma}_{N,N}\n",
    "\\end{bmatrix}\n",
    "$$"
   ]
  },
  {
   "cell_type": "markdown",
   "id": "4b4bdb3c-9060-4ebc-ab02-bf035958ec80",
   "metadata": {},
   "source": [
    "We seek to decompose ${\\bf \\Sigma} = {\\bf L\\,R\\,L}^\\intercal$\n",
    "with ${\\bf R} = {\\rm diag}(R_1, \\ldots, R_N)$ and\n",
    "${\\bf L} = \\{L_{i,j} : i \\in \\{1, \\ldots N\\}, j \\leq i\\}$ a block-lower triangular matrix with $L_{i,i} = {\\bf I}$\n",
    "\n",
    "We seek ${\\bf L}$ and ${\\bf R}$ such that\n",
    "$$\n",
    "    ({\\bf L\\,R\\,L}^\\intercal)_{i,j} = \\sigma_{i,j}\n",
    "$$"
   ]
  },
  {
   "cell_type": "markdown",
   "id": "d876269b-076a-439e-8401-d04e12d9b4cb",
   "metadata": {},
   "source": [
    "The choleskly decomposition yields the following algorithm\n",
    "\n",
    "$$\n",
    "\\begin{aligned}\n",
    "    {\\bf R}_i &= \\sigma_{i,i} - \\sum_{k=1}^{i-1}{\\bf L}_{i,k}\\,{\\bf R}_{k}\\,{\\bf L}_{i,k}^\\intercal\\\\\n",
    "    {\\bf L}_{i,j} &= \\left[\\sigma_{i,j} - \\sum_{k=1}^{j-1}\\,{\\bf R}_k\\,{\\bf L}_{j,k}^\\intercal\\right]\n",
    "\\end{aligned}\n",
    "$$"
   ]
  }
 ],
 "metadata": {
  "kernelspec": {
   "display_name": "Python 3 (ipykernel)",
   "language": "python",
   "name": "python3"
  },
  "language_info": {
   "codemirror_mode": {
    "name": "ipython",
    "version": 3
   },
   "file_extension": ".py",
   "mimetype": "text/x-python",
   "name": "python",
   "nbconvert_exporter": "python",
   "pygments_lexer": "ipython3",
   "version": "3.11.7"
  }
 },
 "nbformat": 4,
 "nbformat_minor": 5
}
