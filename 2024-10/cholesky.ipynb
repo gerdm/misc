{
 "cells": [
  {
   "cell_type": "markdown",
   "id": "2123011d-8eaf-4ec1-93f6-957b9c3b6022",
   "metadata": {},
   "source": [
    "# The Cholesky decomposition"
   ]
  },
  {
   "cell_type": "code",
   "execution_count": 3,
   "id": "9ef6b918-5399-45fb-bbd0-f047d70be3e3",
   "metadata": {},
   "outputs": [],
   "source": [
    "import numba\n",
    "import numpy as np\n",
    "from numba import njit"
   ]
  },
  {
   "cell_type": "code",
   "execution_count": 4,
   "id": "ff95f6d7-7d60-4204-ac7c-9c15e059a79e",
   "metadata": {},
   "outputs": [],
   "source": [
    "xvals = np.linspace(-3, 3, 100)"
   ]
  },
  {
   "cell_type": "markdown",
   "id": "f1b08b18-7603-4326-aa2b-c1d2a25d9688",
   "metadata": {},
   "source": [
    "Let ${\\bf \\Sigma}$ be an $N\\,P\\times N\\,P$ positive definite matrix such that\n",
    "$$\n",
    "{\\bf \\Sigma} =\n",
    "\\begin{bmatrix}\n",
    "    {\\bf \\sigma}_{1,1} & {\\bf \\sigma}_{1,2} & \\cdots & {\\bf \\sigma}_{1,N}\\\\\n",
    "    {\\bf \\sigma}_{2,1} & {\\bf \\sigma}_{2,2} & \\cdots & {\\bf \\sigma}_{2,N}\\\\\n",
    "    \\vdots & \\vdots & \\ddots & \\vdots \\\\\n",
    "    {\\bf \\sigma}_{N,1} & {\\bf \\sigma}_{N,2} & \\ldots & {\\bf \\sigma}_{N,N}\n",
    "\\end{bmatrix}\n",
    "$$"
   ]
  },
  {
   "cell_type": "markdown",
   "id": "4b4bdb3c-9060-4ebc-ab02-bf035958ec80",
   "metadata": {},
   "source": [
    "We seek to decompose ${\\bf \\Sigma} = {\\bf L\\,R\\,L}^\\intercal$\n",
    "with ${\\bf R} = {\\rm diag}(R_1, \\ldots, R_N)$ and\n",
    "${\\bf L} = \\{L_{i,j} : i \\in \\{1, \\ldots N\\}, j \\leq i\\}$ a block-lower triangular matrix with $L_{i,i} = {\\bf I}$\n",
    "\n",
    "We seek ${\\bf L}$ and ${\\bf R}$ such that\n",
    "$$\n",
    "    ({\\bf L\\,R\\,L}^\\intercal)_{i,j} = \\sigma_{i,j}\n",
    "$$"
   ]
  },
  {
   "cell_type": "markdown",
   "id": "d876269b-076a-439e-8401-d04e12d9b4cb",
   "metadata": {},
   "source": [
    "The choleskly decomposition yields the following algorithm\n",
    "\n",
    "$$\n",
    "\\begin{aligned}\n",
    "    {\\bf R}_i &= \\sigma_{i,i} - \\sum_{k=1}^{i-1}{\\bf L}_{i,k}\\,{\\bf R}_{k}\\,{\\bf L}_{i,k}^\\intercal\n",
    "    & \\text{for }i=1,\\ldots,T\\\\\n",
    "    {\\bf L}_{i,j} &= \\left[\\sigma_{i,j} - \\sum_{k=1}^{j-1}{\\bf L}_{i,k}\\,{\\bf R}_k\\,{\\bf L}_{j,k}^\\intercal\\right]\n",
    "    &\\text{for } i=2,\\ldots,T;\\, j<i\n",
    "\\end{aligned}\n",
    "$$"
   ]
  },
  {
   "cell_type": "code",
   "execution_count": 15,
   "id": "3c31be21-74ae-4887-bb2b-5223994b64af",
   "metadata": {},
   "outputs": [],
   "source": [
    "d = 10\n",
    "S = np.random.randn(d, d)\n",
    "S = S @ S.T"
   ]
  },
  {
   "cell_type": "code",
   "execution_count": 16,
   "id": "14b34aeb-27b2-4794-8c92-3271b34fc03c",
   "metadata": {},
   "outputs": [],
   "source": [
    "LR = np.linalg.cholesky(S)"
   ]
  },
  {
   "cell_type": "code",
   "execution_count": 23,
   "id": "1a055502-f672-4482-9b7c-f95fe5793083",
   "metadata": {},
   "outputs": [],
   "source": [
    "np.set_printoptions(suppress=True, precision=5, linewidth=150)"
   ]
  },
  {
   "cell_type": "code",
   "execution_count": 29,
   "id": "c3fac23b-bc9e-4c74-872d-f91227e28489",
   "metadata": {},
   "outputs": [],
   "source": [
    "from scipy.linalg import cholesky"
   ]
  },
  {
   "cell_type": "code",
   "execution_count": 49,
   "id": "b181e292-30fc-4587-bfb2-fd79d3599337",
   "metadata": {},
   "outputs": [
    {
     "data": {
      "text/plain": [
       "array([[ 5.67853,  0.63172,  0.97465,  3.41199,  0.16787, -1.16823, -1.96392,  1.21175,  1.97658, -1.23348],\n",
       "       [ 0.63172,  6.2311 ,  0.48945,  3.25172,  4.09169, -0.44712,  2.15596,  3.09186,  0.47704,  3.34399],\n",
       "       [ 0.97465,  0.48945, 21.27481, -4.28209, -6.14287, -4.06289, -1.03766, -6.35409, -2.84032,  4.00541],\n",
       "       [ 3.41199,  3.25172, -4.28209,  7.10469,  4.08296, -0.88207,  0.87026,  6.93269, -0.01353, -0.68472],\n",
       "       [ 0.16787,  4.09169, -6.14287,  4.08296, 10.30687, -3.36179,  3.26869,  3.76894,  0.94472,  5.99554],\n",
       "       [-1.16823, -0.44712, -4.06289, -0.88207, -3.36179, 10.21128, -2.34882, -0.77209,  6.11035, -1.83889],\n",
       "       [-1.96392,  2.15596, -1.03766,  0.87026,  3.26869, -2.34882,  5.78679,  3.60771, -2.78598, -0.32747],\n",
       "       [ 1.21175,  3.09186, -6.35409,  6.93269,  3.76894, -0.77209,  3.60771, 20.07348, -1.7007 , -7.22475],\n",
       "       [ 1.97658,  0.47704, -2.84032, -0.01353,  0.94472,  6.11035, -2.78598, -1.7007 ,  8.12   ,  2.17052],\n",
       "       [-1.23348,  3.34399,  4.00541, -0.68472,  5.99554, -1.83889, -0.32747, -7.22475,  2.17052, 13.07889]])"
      ]
     },
     "execution_count": 49,
     "metadata": {},
     "output_type": "execute_result"
    }
   ],
   "source": [
    "S"
   ]
  },
  {
   "cell_type": "code",
   "execution_count": 50,
   "id": "8ff1777b-bb61-4f03-9140-a0e684ce8932",
   "metadata": {},
   "outputs": [
    {
     "data": {
      "text/plain": [
       "array([[ 2.38297,  0.     ,  0.     ,  0.     ,  0.     ,  0.     ,  0.     ,  0.     ,  0.     ,  0.     ],\n",
       "       [ 0.2651 ,  2.4821 ,  0.     ,  0.     ,  0.     ,  0.     ,  0.     ,  0.     ,  0.     ,  0.     ],\n",
       "       [ 0.40901,  0.15351,  4.59173,  0.     ,  0.     ,  0.     ,  0.     ,  0.     ,  0.     ,  0.     ],\n",
       "       [ 1.43182,  1.15715, -1.09879,  1.58374,  0.     ,  0.     ,  0.     ,  0.     ,  0.     ,  0.     ],\n",
       "       [ 0.07045,  1.64096, -1.39895,  0.34483,  2.35228,  0.     ,  0.     ,  0.     ,  0.     ,  0.     ],\n",
       "       [-0.49024, -0.12778, -0.83689, -0.601  , -1.73495,  2.42548,  0.     ,  0.     ,  0.     ,  0.     ],\n",
       "       [-0.82415,  0.95663, -0.18456,  0.4676 ,  0.56861, -0.62566,  1.79582,  0.     ,  0.     ,  0.     ],\n",
       "       [ 0.50851,  1.19135, -1.46894,  2.0281 , -0.41498, -0.45392,  0.9019 ,  3.3065 ,  0.     ,  0.     ],\n",
       "       [ 0.82946,  0.1036 , -0.69592, -1.31696,  0.08368,  2.18575, -0.2195 ,  0.18981,  0.57781,  0.     ],\n",
       "       [-0.51762,  1.40252,  0.87153, -0.38445,  2.16059,  0.96203, -1.3263 , -1.22276,  0.36721,  0.97664]])"
      ]
     },
     "execution_count": 50,
     "metadata": {},
     "output_type": "execute_result"
    }
   ],
   "source": [
    "LR"
   ]
  },
  {
   "cell_type": "code",
   "execution_count": 65,
   "id": "beb7b760-028c-44f0-8988-f952b3fdc3f2",
   "metadata": {},
   "outputs": [
    {
     "data": {
      "text/plain": [
       "array([ 5.67853,  6.16083, 21.08396,  2.50824,  5.53322,  5.88298,  3.22496, 10.93296,  0.33386,  0.95383])"
      ]
     },
     "execution_count": 65,
     "metadata": {},
     "output_type": "execute_result"
    }
   ],
   "source": [
    "np.diag(LR) ** 2"
   ]
  },
  {
   "cell_type": "code",
   "execution_count": 91,
   "id": "79531a56-903d-4e51-a924-8dfe2d5dbf54",
   "metadata": {},
   "outputs": [],
   "source": [
    "R_vals = np.zeros(d)\n",
    "L_vals = np.zeros((d,d))"
   ]
  },
  {
   "cell_type": "markdown",
   "id": "d7c55d5d-533e-4e4e-97ba-30437079cfa0",
   "metadata": {},
   "source": [
    "## Step 1"
   ]
  },
  {
   "cell_type": "code",
   "execution_count": 92,
   "id": "1936c15d-189c-458d-885b-cd4fb004b8a4",
   "metadata": {},
   "outputs": [
    {
     "data": {
      "text/plain": [
       "5.678527296717118"
      ]
     },
     "execution_count": 92,
     "metadata": {},
     "output_type": "execute_result"
    }
   ],
   "source": [
    "R_vals[0] = S[0,0]\n",
    "R_vals[0]"
   ]
  },
  {
   "cell_type": "code",
   "execution_count": 94,
   "id": "cb41692d-6ccd-42f2-bcbb-a0df4ea226f1",
   "metadata": {},
   "outputs": [
    {
     "data": {
      "text/plain": [
       "array([5.67853, 0.     , 0.     , 0.     , 0.     , 0.     , 0.     , 0.     , 0.     , 0.     ])"
      ]
     },
     "execution_count": 94,
     "metadata": {},
     "output_type": "execute_result"
    }
   ],
   "source": [
    "R_vals"
   ]
  },
  {
   "cell_type": "code",
   "execution_count": 93,
   "id": "65b93049-789a-4e73-8ffc-51acb7e7edba",
   "metadata": {},
   "outputs": [
    {
     "data": {
      "text/plain": [
       "array([ 1.     ,  0.11125,  0.17164,  0.60086,  0.02956, -0.20573, -0.34585,  0.21339,  0.34808, -0.21722])"
      ]
     },
     "execution_count": 93,
     "metadata": {},
     "output_type": "execute_result"
    }
   ],
   "source": [
    "L_vals[:, 0] = S[:, 0] / R_vals[0]\n",
    "L_vals[:, 0]"
   ]
  },
  {
   "cell_type": "code",
   "execution_count": 73,
   "id": "ce6655c5-2976-40b9-8159-3029cb995089",
   "metadata": {},
   "outputs": [
    {
     "data": {
      "text/plain": [
       "array([[ 1.     ,  0.     ,  0.     ,  0.     ,  0.     ,  0.     ,  0.     ,  0.     ,  0.     ,  0.     ],\n",
       "       [ 0.11125,  0.     ,  0.     ,  0.     ,  0.     ,  0.     ,  0.     ,  0.     ,  0.     ,  0.     ],\n",
       "       [ 0.17164,  0.     ,  0.     ,  0.     ,  0.     ,  0.     ,  0.     ,  0.     ,  0.     ,  0.     ],\n",
       "       [ 0.60086,  0.     ,  0.     ,  0.     ,  0.     ,  0.     ,  0.     ,  0.     ,  0.     ,  0.     ],\n",
       "       [ 0.02956,  0.     ,  0.     ,  0.     ,  0.     ,  0.     ,  0.     ,  0.     ,  0.     ,  0.     ],\n",
       "       [-0.20573,  0.     ,  0.     ,  0.     ,  0.     ,  0.     ,  0.     ,  0.     ,  0.     ,  0.     ],\n",
       "       [-0.34585,  0.     ,  0.     ,  0.     ,  0.     ,  0.     ,  0.     ,  0.     ,  0.     ,  0.     ],\n",
       "       [ 0.21339,  0.     ,  0.     ,  0.     ,  0.     ,  0.     ,  0.     ,  0.     ,  0.     ,  0.     ],\n",
       "       [ 0.34808,  0.     ,  0.     ,  0.     ,  0.     ,  0.     ,  0.     ,  0.     ,  0.     ,  0.     ],\n",
       "       [-0.21722,  0.     ,  0.     ,  0.     ,  0.     ,  0.     ,  0.     ,  0.     ,  0.     ,  0.     ]])"
      ]
     },
     "execution_count": 73,
     "metadata": {},
     "output_type": "execute_result"
    }
   ],
   "source": [
    "L_vals"
   ]
  },
  {
   "cell_type": "markdown",
   "id": "6540db8f-719a-408b-a01f-210c13ce6fc0",
   "metadata": {},
   "source": [
    "## Step 2"
   ]
  },
  {
   "cell_type": "code",
   "execution_count": 78,
   "id": "870e0467-f58e-48b3-8943-0ff193ef4e1c",
   "metadata": {},
   "outputs": [
    {
     "data": {
      "text/plain": [
       "0.1112467918769485"
      ]
     },
     "execution_count": 78,
     "metadata": {},
     "output_type": "execute_result"
    }
   ],
   "source": [
    "L_vals[1,0]"
   ]
  },
  {
   "cell_type": "code",
   "execution_count": 83,
   "id": "1d74873a-62fe-4896-9ded-cb23d7eba777",
   "metadata": {},
   "outputs": [
    {
     "data": {
      "text/plain": [
       "6.160825443886867"
      ]
     },
     "execution_count": 83,
     "metadata": {},
     "output_type": "execute_result"
    }
   ],
   "source": [
    "R_vals[1] = S[1,1] - L_vals[1,0] * R_vals[0] * L_vals[1,0]\n",
    "R_vals[1]"
   ]
  },
  {
   "cell_type": "code",
   "execution_count": 87,
   "id": "c9cd4bbc-6442-4c5c-9687-7dd10d6fd135",
   "metadata": {},
   "outputs": [],
   "source": [
    "L_vals[1:, 1] = (S[1:,1] - L_vals[1:,0] * R_vals[0] * L_vals[1,0]) / R_vals[1]"
   ]
  },
  {
   "cell_type": "code",
   "execution_count": 88,
   "id": "7aa688ae-9c96-4334-a037-a60bc69a6ca2",
   "metadata": {},
   "outputs": [
    {
     "data": {
      "text/plain": [
       "array([[ 1.     ,  0.     ,  0.     ,  0.     ,  0.     ,  0.     ,  0.     ,  0.     ,  0.     ,  0.     ],\n",
       "       [ 0.11125,  1.     ,  0.     ,  0.     ,  0.     ,  0.     ,  0.     ,  0.     ,  0.     ,  0.     ],\n",
       "       [ 0.17164,  0.06185,  0.     ,  0.     ,  0.     ,  0.     ,  0.     ,  0.     ,  0.     ,  0.     ],\n",
       "       [ 0.60086,  0.4662 ,  0.     ,  0.     ,  0.     ,  0.     ,  0.     ,  0.     ,  0.     ,  0.     ],\n",
       "       [ 0.02956,  0.66112,  0.     ,  0.     ,  0.     ,  0.     ,  0.     ,  0.     ,  0.     ,  0.     ],\n",
       "       [-0.20573, -0.05148,  0.     ,  0.     ,  0.     ,  0.     ,  0.     ,  0.     ,  0.     ,  0.     ],\n",
       "       [-0.34585,  0.38541,  0.     ,  0.     ,  0.     ,  0.     ,  0.     ,  0.     ,  0.     ,  0.     ],\n",
       "       [ 0.21339,  0.47998,  0.     ,  0.     ,  0.     ,  0.     ,  0.     ,  0.     ,  0.     ,  0.     ],\n",
       "       [ 0.34808,  0.04174,  0.     ,  0.     ,  0.     ,  0.     ,  0.     ,  0.     ,  0.     ,  0.     ],\n",
       "       [-0.21722,  0.56506,  0.     ,  0.     ,  0.     ,  0.     ,  0.     ,  0.     ,  0.     ,  0.     ]])"
      ]
     },
     "execution_count": 88,
     "metadata": {},
     "output_type": "execute_result"
    }
   ],
   "source": [
    "L_vals"
   ]
  }
 ],
 "metadata": {
  "kernelspec": {
   "display_name": "Python 3 (ipykernel)",
   "language": "python",
   "name": "python3"
  },
  "language_info": {
   "codemirror_mode": {
    "name": "ipython",
    "version": 3
   },
   "file_extension": ".py",
   "mimetype": "text/x-python",
   "name": "python",
   "nbconvert_exporter": "python",
   "pygments_lexer": "ipython3",
   "version": "3.11.7"
  }
 },
 "nbformat": 4,
 "nbformat_minor": 5
}
