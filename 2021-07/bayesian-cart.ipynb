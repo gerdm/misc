{
 "cells": [
  {
   "cell_type": "markdown",
   "id": "b6c69a76",
   "metadata": {},
   "source": [
    "# Bayesian CART"
   ]
  },
  {
   "cell_type": "code",
   "execution_count": 1,
   "id": "8e83f781",
   "metadata": {},
   "outputs": [],
   "source": [
    "import jax\n",
    "import pydot\n",
    "import numpy as np\n",
    "import matplotlib.pyplot as plt"
   ]
  },
  {
   "cell_type": "code",
   "execution_count": 2,
   "id": "2ec726df",
   "metadata": {},
   "outputs": [],
   "source": [
    "base_tree = {1: 1}\n",
    "tree = {0: {1:1, 2:2}}"
   ]
  },
  {
   "cell_type": "code",
   "execution_count": 3,
   "id": "1b941912",
   "metadata": {},
   "outputs": [
    {
     "data": {
      "text/plain": [
       "[1, 2]"
      ]
     },
     "execution_count": 3,
     "metadata": {},
     "output_type": "execute_result"
    }
   ],
   "source": [
    "jax.tree_leaves(tree)"
   ]
  },
  {
   "cell_type": "code",
   "execution_count": 4,
   "id": "79139565",
   "metadata": {},
   "outputs": [],
   "source": [
    "from numpy.random import rand, seed, randint"
   ]
  },
  {
   "cell_type": "code",
   "execution_count": 33,
   "id": "1848dcfe",
   "metadata": {},
   "outputs": [],
   "source": [
    "def partition(leaf_value, alpha):\n",
    "    \"\"\"\n",
    "    Partition the leafs of a tree. If the leaf has value False,\n",
    "    it cannot be split (it has already been attempted). Else, we\n",
    "    split with probability alpha.\n",
    "    \"\"\"\n",
    "    global ix\n",
    "    if leaf_value == False:\n",
    "        return False\n",
    "    v = rand()\n",
    "    if v < alpha:\n",
    "        data = {ix + 1: True, ix + 2: True}\n",
    "        ix = ix + 2\n",
    "        return data\n",
    "    else:\n",
    "        return False"
   ]
  },
  {
   "cell_type": "code",
   "execution_count": 34,
   "id": "1b904867",
   "metadata": {},
   "outputs": [],
   "source": [
    "alpha = 0.6"
   ]
  },
  {
   "cell_type": "code",
   "execution_count": 36,
   "id": "4f67193a",
   "metadata": {},
   "outputs": [
    {
     "name": "stdout",
     "output_type": "stream",
     "text": [
      "{1: {2: True, 3: True}}\n"
     ]
    }
   ],
   "source": [
    "seed(3141)\n",
    "ix = 1\n",
    "base_tree = {1: 1}\n",
    "next_tree = jax.tree_map(lambda leaf: partition(leaf, alpha), base_tree)\n",
    "print(next_tree)"
   ]
  },
  {
   "cell_type": "code",
   "execution_count": 37,
   "id": "926e9b86",
   "metadata": {},
   "outputs": [
    {
     "name": "stdout",
     "output_type": "stream",
     "text": [
      "{1: {2: {4: True, 5: True}, 3: False}}\n"
     ]
    }
   ],
   "source": [
    "seed(3141)\n",
    "next_tree = jax.tree_map(lambda leaf: partition(leaf, alpha), next_tree)\n",
    "print(next_tree)"
   ]
  },
  {
   "cell_type": "code",
   "execution_count": 38,
   "id": "7986c078",
   "metadata": {},
   "outputs": [
    {
     "name": "stdout",
     "output_type": "stream",
     "text": [
      "{1: {2: {4: {6: True, 7: True}, 5: False}, 3: False}}\n"
     ]
    }
   ],
   "source": [
    "seed(3141)\n",
    "next_tree = jax.tree_map(lambda leaf: partition(leaf, alpha), next_tree)\n",
    "print(next_tree)"
   ]
  },
  {
   "cell_type": "code",
   "execution_count": 10,
   "id": "11b10137",
   "metadata": {},
   "outputs": [],
   "source": [
    "from functools import partial"
   ]
  },
  {
   "cell_type": "code",
   "execution_count": 46,
   "id": "90596f81",
   "metadata": {},
   "outputs": [],
   "source": [
    "def sample_tree(alpha):\n",
    "    \"\"\"\n",
    "    True: You are free to split\n",
    "    False: You cannot split any further\n",
    "    \"\"\"\n",
    "#     nid = partial(randint, low=0, high=1000)\n",
    "    tree = {ix: True}\n",
    "    while any(jax.tree_leaves(tree)):\n",
    "        tree = jax.tree_map(lambda leaf: partition(leaf, alpha), tree)\n",
    "    return tree"
   ]
  },
  {
   "cell_type": "code",
   "execution_count": 103,
   "id": "3137c1f2",
   "metadata": {},
   "outputs": [
    {
     "data": {
      "text/plain": [
       "{1: {2: False,\n",
       "  3: {4: {6: {10: False, 11: False}, 7: {12: False, 13: False}},\n",
       "   5: {8: {14: {16: False,\n",
       "      17: {18: {20: False, 21: False}, 19: {22: False, 23: False}}},\n",
       "     15: False},\n",
       "    9: False}}}}"
      ]
     },
     "execution_count": 103,
     "metadata": {},
     "output_type": "execute_result"
    }
   ],
   "source": [
    "seed(31415926)\n",
    "ix = 1\n",
    "tree = sample_tree(0.5)\n",
    "tree"
   ]
  },
  {
   "cell_type": "code",
   "execution_count": 105,
   "id": "5a4b1a7d",
   "metadata": {},
   "outputs": [
    {
     "data": {
      "text/plain": [
       "{1: {2: False, 3: False}}"
      ]
     },
     "execution_count": 105,
     "metadata": {},
     "output_type": "execute_result"
    }
   ],
   "source": [
    "seed(31)\n",
    "ix = 1\n",
    "tree = sample_tree(0.5)\n",
    "tree"
   ]
  },
  {
   "cell_type": "code",
   "execution_count": 106,
   "id": "b24da8df",
   "metadata": {},
   "outputs": [],
   "source": [
    "def draw(parent_name, child_name):\n",
    "    edge = pydot.Edge(parent_name, child_name)\n",
    "    graph.add_edge(edge)\n",
    "\n",
    "def visit(node, parent=None):\n",
    "    for k,v in node.items():\n",
    "        if isinstance(v, dict):\n",
    "            # We start with the root node whose parent is None\n",
    "            # we don\"t want to graph the None node\n",
    "            if parent:\n",
    "                draw(parent, k)\n",
    "            visit(v, k)\n",
    "        else:\n",
    "            draw(parent, k)\n",
    "            # drawing the label using a distinct name\n",
    "            draw(k, f\"Stop({k})\")\n",
    "\n",
    "graph = pydot.Dot(graph_type=\"graph\")\n",
    "visit(tree)\n",
    "graph.write_png(\"example1_graph.png\")"
   ]
  },
  {
   "cell_type": "markdown",
   "id": "32db4217",
   "metadata": {},
   "source": [
    "## Example of a prior tree with $\\alpha=0.5$"
   ]
  },
  {
   "cell_type": "markdown",
   "id": "fccf0862",
   "metadata": {},
   "source": [
    "![](example1_graph.png)"
   ]
  },
  {
   "cell_type": "code",
   "execution_count": 107,
   "id": "3fe8fda7",
   "metadata": {},
   "outputs": [],
   "source": [
    "!open ."
   ]
  },
  {
   "cell_type": "markdown",
   "id": "3ceb86ef",
   "metadata": {},
   "source": [
    "## References\n",
    "* https://stackoverflow.com/questions/13688410/dictionary-object-to-decision-tree-in-pydot"
   ]
  }
 ],
 "metadata": {
  "kernelspec": {
   "display_name": "Python 3",
   "language": "python",
   "name": "python3"
  },
  "language_info": {
   "codemirror_mode": {
    "name": "ipython",
    "version": 3
   },
   "file_extension": ".py",
   "mimetype": "text/x-python",
   "name": "python",
   "nbconvert_exporter": "python",
   "pygments_lexer": "ipython3",
   "version": "3.8.2"
  }
 },
 "nbformat": 4,
 "nbformat_minor": 5
}
