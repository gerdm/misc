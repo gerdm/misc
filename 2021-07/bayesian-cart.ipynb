{
 "cells": [
  {
   "cell_type": "markdown",
   "id": "b6c69a76",
   "metadata": {},
   "source": [
    "# Bayesian CART"
   ]
  },
  {
   "cell_type": "code",
   "execution_count": 1,
   "id": "8e83f781",
   "metadata": {},
   "outputs": [],
   "source": [
    "import jax\n",
    "import numpy as np\n",
    "import matplotlib.pyplot as plt"
   ]
  },
  {
   "cell_type": "code",
   "execution_count": 2,
   "id": "2ec726df",
   "metadata": {},
   "outputs": [],
   "source": [
    "base_tree = {1: 1}\n",
    "tree = {0: {1:1, 2:2}}"
   ]
  },
  {
   "cell_type": "code",
   "execution_count": 3,
   "id": "1b941912",
   "metadata": {},
   "outputs": [
    {
     "data": {
      "text/plain": [
       "[1, 2]"
      ]
     },
     "execution_count": 3,
     "metadata": {},
     "output_type": "execute_result"
    }
   ],
   "source": [
    "jax.tree_leaves(tree)"
   ]
  },
  {
   "cell_type": "code",
   "execution_count": 4,
   "id": "79139565",
   "metadata": {},
   "outputs": [],
   "source": [
    "from numpy.random import rand, seed, randint"
   ]
  },
  {
   "cell_type": "code",
   "execution_count": 5,
   "id": "1848dcfe",
   "metadata": {},
   "outputs": [],
   "source": [
    "def partition(leaf_value, alpha):\n",
    "    if leaf_value == False:\n",
    "        return False\n",
    "    v = rand()\n",
    "    if v < alpha:\n",
    "        return {randint(0, 1000): True, randint(0, 1000): True}\n",
    "    else:\n",
    "        return False"
   ]
  },
  {
   "cell_type": "code",
   "execution_count": 6,
   "id": "1b904867",
   "metadata": {},
   "outputs": [],
   "source": [
    "alpha = 0.6"
   ]
  },
  {
   "cell_type": "code",
   "execution_count": 7,
   "id": "4f67193a",
   "metadata": {},
   "outputs": [
    {
     "name": "stdout",
     "output_type": "stream",
     "text": [
      "{1: {74: True, 790: True}}\n"
     ]
    }
   ],
   "source": [
    "seed(3141)\n",
    "next_tree = jax.tree_map(lambda leaf: partition(leaf, alpha), base_tree)\n",
    "print(next_tree)"
   ]
  },
  {
   "cell_type": "code",
   "execution_count": 8,
   "id": "926e9b86",
   "metadata": {},
   "outputs": [
    {
     "name": "stdout",
     "output_type": "stream",
     "text": [
      "{1: {74: {74: True, 790: True}, 790: {725: True, 217: True}}}\n"
     ]
    }
   ],
   "source": [
    "seed(3141)\n",
    "next_tree = jax.tree_map(lambda leaf: partition(leaf, alpha), next_tree)\n",
    "print(next_tree)"
   ]
  },
  {
   "cell_type": "code",
   "execution_count": 9,
   "id": "7986c078",
   "metadata": {},
   "outputs": [
    {
     "name": "stdout",
     "output_type": "stream",
     "text": [
      "{1: {74: {74: {74: True, 790: True}, 790: {725: True, 217: True}}, 790: {217: False, 725: {546: True, 520: True}}}}\n"
     ]
    }
   ],
   "source": [
    "seed(3141)\n",
    "next_tree = jax.tree_map(lambda leaf: partition(leaf, alpha), next_tree)\n",
    "print(next_tree)"
   ]
  },
  {
   "cell_type": "code",
   "execution_count": 10,
   "id": "11b10137",
   "metadata": {},
   "outputs": [],
   "source": [
    "from functools import partial"
   ]
  },
  {
   "cell_type": "code",
   "execution_count": 11,
   "id": "90596f81",
   "metadata": {},
   "outputs": [],
   "source": [
    "def sample_tree(alpha):\n",
    "    \"\"\"\n",
    "    True: You are free to split\n",
    "    False: You cannot split any further\n",
    "    \"\"\"\n",
    "    nid = partial(randint, low=0, high=1000)\n",
    "    tree = {nid(): True}\n",
    "    while any(jax.tree_leaves(tree)):\n",
    "        tree = jax.tree_map(lambda leaf: partition(leaf, alpha), tree)\n",
    "    return tree"
   ]
  },
  {
   "cell_type": "code",
   "execution_count": 12,
   "id": "3137c1f2",
   "metadata": {},
   "outputs": [
    {
     "data": {
      "text/plain": [
       "{360: {507: {217: False,\n",
       "   629: {44: False,\n",
       "    690: {484: {775: {83: False, 680: False},\n",
       "      994: {138: False,\n",
       "       444: {29: {409: {793: {69: {529: {656: False, 913: False},\n",
       "            672: {465: False, 611: False}},\n",
       "           872: {725: False, 802: {228: False, 956: False}}},\n",
       "          830: False}},\n",
       "        204: {843: {101: {548: False, 603: False}, 911: False}, 954: False}}}},\n",
       "     875: False}}},\n",
       "  790: False}}"
      ]
     },
     "execution_count": 12,
     "metadata": {},
     "output_type": "execute_result"
    }
   ],
   "source": [
    "seed(3141)\n",
    "sample_tree = sample_tree(0.5)\n",
    "sample_tree"
   ]
  },
  {
   "cell_type": "code",
   "execution_count": 13,
   "id": "3e22234c",
   "metadata": {},
   "outputs": [],
   "source": [
    "import pydot"
   ]
  },
  {
   "cell_type": "code",
   "execution_count": 14,
   "id": "4adb5c4c",
   "metadata": {},
   "outputs": [
    {
     "data": {
      "text/plain": [
       "dict_items([(360, {507: {217: False, 629: {44: False, 690: {484: {775: {83: False, 680: False}, 994: {138: False, 444: {29: {409: {793: {69: {529: {656: False, 913: False}, 672: {465: False, 611: False}}, 872: {725: False, 802: {228: False, 956: False}}}, 830: False}}, 204: {843: {101: {548: False, 603: False}, 911: False}, 954: False}}}}, 875: False}}}, 790: False})])"
      ]
     },
     "execution_count": 14,
     "metadata": {},
     "output_type": "execute_result"
    }
   ],
   "source": [
    "sample_tree.items()"
   ]
  },
  {
   "cell_type": "code",
   "execution_count": 31,
   "id": "b24da8df",
   "metadata": {},
   "outputs": [],
   "source": [
    "\n",
    "def draw(parent_name, child_name):\n",
    "    edge = pydot.Edge(parent_name, child_name)\n",
    "    graph.add_edge(edge)\n",
    "\n",
    "def visit(node, parent=None):\n",
    "    for k,v in node.items():\n",
    "        if isinstance(v, dict):\n",
    "            # We start with the root node whose parent is None\n",
    "            # we don\"t want to graph the None node\n",
    "            if parent:\n",
    "                draw(parent, k)\n",
    "            visit(v, k)\n",
    "        else:\n",
    "            draw(parent, k)\n",
    "            # drawing the label using a distinct name\n",
    "            draw(k, f\"Stop_{k}\")\n",
    "\n",
    "graph = pydot.Dot(graph_type=\"graph\")\n",
    "visit(sample_tree)\n",
    "graph.write_png(\"example1_graph.png\")"
   ]
  },
  {
   "cell_type": "code",
   "execution_count": 32,
   "id": "4c110b3e",
   "metadata": {},
   "outputs": [],
   "source": [
    "!open example1_graph.png"
   ]
  }
 ],
 "metadata": {
  "kernelspec": {
   "display_name": "Python 3",
   "language": "python",
   "name": "python3"
  },
  "language_info": {
   "codemirror_mode": {
    "name": "ipython",
    "version": 3
   },
   "file_extension": ".py",
   "mimetype": "text/x-python",
   "name": "python",
   "nbconvert_exporter": "python",
   "pygments_lexer": "ipython3",
   "version": "3.8.2"
  }
 },
 "nbformat": 4,
 "nbformat_minor": 5
}
