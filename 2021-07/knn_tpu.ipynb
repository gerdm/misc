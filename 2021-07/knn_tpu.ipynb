{
 "cells": [
  {
   "cell_type": "code",
   "execution_count": 33,
   "id": "2d2ce343",
   "metadata": {},
   "outputs": [],
   "source": [
    "import jax\n",
    "import jax.numpy as jnp\n",
    "import tensorflow_datasets as tfds\n",
    "\n",
    "from jax.config import config\n",
    "config.update(\"jax_enable_x64\", True)"
   ]
  },
  {
   "cell_type": "code",
   "execution_count": 34,
   "id": "efba13fa",
   "metadata": {},
   "outputs": [],
   "source": [
    "def get_datasets():\n",
    "    \"\"\"Load MNIST train and test datasets into memory.\"\"\"\n",
    "    ds_builder = tfds.builder('mnist')\n",
    "    ds_builder.download_and_prepare()\n",
    "    train_ds = tfds.as_numpy(ds_builder.as_dataset(split='train', batch_size=-1))\n",
    "    test_ds = tfds.as_numpy(ds_builder.as_dataset(split='test', batch_size=-1))\n",
    "    train_ds['image'] = jnp.float32(train_ds['image']) / 255.\n",
    "    test_ds['image'] = jnp.float32(test_ds['image']) / 255.\n",
    "    return train_ds, test_ds"
   ]
  },
  {
   "cell_type": "code",
   "execution_count": 35,
   "id": "fcfd2071",
   "metadata": {},
   "outputs": [],
   "source": [
    "train, test = get_datasets()\n",
    "\n",
    "X_train = train[\"image\"].reshape(-1, 28 ** 2)\n",
    "X_train = 4 * X_train - 2\n",
    "y_train = train[\"label\"]\n",
    "\n",
    "X_test = test[\"image\"].reshape(-1, 28 ** 2)\n",
    "X_test = 4 * X_test - 2\n",
    "y_test = test[\"label\"]\n",
    "\n",
    "n_train = 1_000\n",
    "n_test = 30\n",
    "\n",
    "X_train = X_train[:n_train]\n",
    "y_train = y_train[:n_train]\n",
    "\n",
    "X_test = X_test[:n_test]\n",
    "y_test = y_test[:n_test]"
   ]
  },
  {
   "cell_type": "code",
   "execution_count": 37,
   "id": "837dcb8e",
   "metadata": {},
   "outputs": [],
   "source": [
    "def compute_diff(u, v):\n",
    "#     return jnp.sum((u - v) ** 2)\n",
    "    return (u[None, :] - v[:, None]) ** 2\n",
    "\n",
    "compute_diff = jax.vmap(compute_diff, in_axes=1, out_axes=-1)\n",
    "\n",
    "def compute_distance(U, V):\n",
    "    return compute_diff(U, V).mean(axis=-1)\n",
    "\n",
    "def compute_k_closest(U, V, k):\n",
    "    D = compute_distance(U, V)\n",
    "    nearest = jnp.argsort(D)[..., 1:k+1]\n",
    "    return nearest"
   ]
  },
  {
   "cell_type": "code",
   "execution_count": 38,
   "id": "9f424d96",
   "metadata": {},
   "outputs": [
    {
     "data": {
      "text/plain": [
       "(1000, 30)"
      ]
     },
     "execution_count": 38,
     "metadata": {},
     "output_type": "execute_result"
    }
   ],
   "source": [
    "Dj = compute_distance(X_test[:n_test, :], X_train[:n_train, :])\n",
    "Dj.shape"
   ]
  },
  {
   "cell_type": "code",
   "execution_count": 39,
   "id": "6208cbf4",
   "metadata": {},
   "outputs": [],
   "source": [
    "k_nearest = compute_k_closest(X_train, X_train, 4)"
   ]
  },
  {
   "cell_type": "code",
   "execution_count": 42,
   "id": "71343e1c",
   "metadata": {},
   "outputs": [
    {
     "data": {
      "text/plain": [
       "(1000, 4, 10)"
      ]
     },
     "execution_count": 42,
     "metadata": {},
     "output_type": "execute_result"
    }
   ],
   "source": [
    "(y_train[k_nearest, None] == jnp.arange(10)[None, None, :]).shape"
   ]
  },
  {
   "cell_type": "code",
   "execution_count": 67,
   "id": "a02fa8d0",
   "metadata": {},
   "outputs": [],
   "source": [
    "def compute_likelihood(X, y, beta, k):\n",
    "    Q = len(jnp.unique(y))\n",
    "    k_closest = compute_k_closest(X, X, k=k)\n",
    "    y_closest = y[k_closest]\n",
    "    # Comparing the \"k\" closest datapoints of xi to yi\n",
    "    num = y_closest == y[:, None]\n",
    "    num = jnp.exp(beta * num.mean(axis=1) + num.max())\n",
    "    \n",
    "    den = y_closest[..., None] == jnp.arange(Q)[None, None, :]\n",
    "    den = jnp.exp(beta * den.mean(axis=1)).sum(axis=-1)\n",
    "    \n",
    "    likelihood = num / den\n",
    "    return likelihood"
   ]
  },
  {
   "cell_type": "code",
   "execution_count": 68,
   "id": "62dac52f",
   "metadata": {},
   "outputs": [],
   "source": [
    "beta = 10\n",
    "k = 1\n",
    "L = compute_likelihood(X_train, y_train, beta, k)"
   ]
  },
  {
   "cell_type": "code",
   "execution_count": 70,
   "id": "e8f08df9",
   "metadata": {},
   "outputs": [
    {
     "data": {
      "text/plain": [
       "DeviceArray(2.47249603e-44, dtype=float64)"
      ]
     },
     "execution_count": 70,
     "metadata": {},
     "output_type": "execute_result"
    }
   ],
   "source": [
    "L.prod()"
   ]
  },
  {
   "cell_type": "code",
   "execution_count": 56,
   "id": "11db81ce",
   "metadata": {},
   "outputs": [
    {
     "data": {
      "text/plain": [
       "DeviceArray(-0.00040852, dtype=float64)"
      ]
     },
     "execution_count": 56,
     "metadata": {},
     "output_type": "execute_result"
    }
   ],
   "source": [
    "jnp.log(L).max()"
   ]
  },
  {
   "cell_type": "code",
   "execution_count": 182,
   "id": "e903e799",
   "metadata": {},
   "outputs": [
    {
     "data": {
      "text/plain": [
       "(5000, 784)"
      ]
     },
     "execution_count": 182,
     "metadata": {},
     "output_type": "execute_result"
    }
   ],
   "source": [
    "X_train.shape"
   ]
  },
  {
   "cell_type": "code",
   "execution_count": 179,
   "id": "eaff7312",
   "metadata": {},
   "outputs": [
    {
     "data": {
      "text/plain": [
       "(30, 784, 1)"
      ]
     },
     "execution_count": 179,
     "metadata": {},
     "output_type": "execute_result"
    }
   ],
   "source": [
    "X_test[..., None] - X_train.T[:, None, :]"
   ]
  },
  {
   "cell_type": "code",
   "execution_count": 183,
   "id": "75d9b1ec",
   "metadata": {},
   "outputs": [
    {
     "data": {
      "text/plain": [
       "(784, 1, 5000)"
      ]
     },
     "execution_count": 183,
     "metadata": {},
     "output_type": "execute_result"
    }
   ],
   "source": [
    "X_train.T[:, None, :].shape"
   ]
  },
  {
   "cell_type": "code",
   "execution_count": 190,
   "id": "efc4744e",
   "metadata": {},
   "outputs": [
    {
     "data": {
      "text/plain": [
       "(30, 784)"
      ]
     },
     "execution_count": 190,
     "metadata": {},
     "output_type": "execute_result"
    }
   ],
   "source": [
    "X_test.shape"
   ]
  },
  {
   "cell_type": "code",
   "execution_count": 201,
   "id": "b816b5e1",
   "metadata": {},
   "outputs": [
    {
     "name": "stdout",
     "output_type": "stream",
     "text": [
      "(30,)\n",
      "(5000,)\n",
      "(5000, 30)\n"
     ]
    },
    {
     "ename": "AttributeError",
     "evalue": "'NoneType' object has no attribute 'shape'",
     "output_type": "error",
     "traceback": [
      "\u001b[0;31m---------------------------------------------------------------------------\u001b[0m",
      "\u001b[0;31mAttributeError\u001b[0m                            Traceback (most recent call last)",
      "\u001b[0;32m<ipython-input-201-4212335c3bc1>\u001b[0m in \u001b[0;36m<module>\u001b[0;34m\u001b[0m\n\u001b[1;32m      6\u001b[0m \u001b[0;34m\u001b[0m\u001b[0m\n\u001b[1;32m      7\u001b[0m \u001b[0mcompute_k_closest\u001b[0m \u001b[0;34m=\u001b[0m \u001b[0mjax\u001b[0m\u001b[0;34m.\u001b[0m\u001b[0mvmap\u001b[0m\u001b[0;34m(\u001b[0m\u001b[0mcompute_k_closest\u001b[0m\u001b[0;34m,\u001b[0m \u001b[0min_axes\u001b[0m\u001b[0;34m=\u001b[0m\u001b[0;34m[\u001b[0m\u001b[0;36m1\u001b[0m\u001b[0;34m,\u001b[0m \u001b[0;36m1\u001b[0m\u001b[0;34m,\u001b[0m \u001b[0;32mNone\u001b[0m\u001b[0;34m]\u001b[0m\u001b[0;34m,\u001b[0m \u001b[0mout_axes\u001b[0m\u001b[0;34m=\u001b[0m\u001b[0;34m-\u001b[0m\u001b[0;36m1\u001b[0m\u001b[0;34m)\u001b[0m\u001b[0;34m\u001b[0m\u001b[0;34m\u001b[0m\u001b[0m\n\u001b[0;32m----> 8\u001b[0;31m \u001b[0mcompute_k_closest\u001b[0m\u001b[0;34m(\u001b[0m\u001b[0mX_test\u001b[0m\u001b[0;34m,\u001b[0m \u001b[0mX_train\u001b[0m\u001b[0;34m,\u001b[0m \u001b[0;36m4\u001b[0m\u001b[0;34m)\u001b[0m\u001b[0;34m.\u001b[0m\u001b[0mshape\u001b[0m\u001b[0;34m\u001b[0m\u001b[0;34m\u001b[0m\u001b[0m\n\u001b[0m",
      "\u001b[0;31mAttributeError\u001b[0m: 'NoneType' object has no attribute 'shape'"
     ]
    }
   ],
   "source": [
    "def compute_k_closest(u, v, k):\n",
    "    print(u.shape)\n",
    "    print(v.shape)\n",
    "    D = (u[None, :] - v[:, None]) ** 2\n",
    "    print(D.shape)\n",
    "\n",
    "compute_k_closest = jax.vmap(compute_k_closest, in_axes=[1, 1, None], out_axes=-1)\n",
    "compute_k_closest(X_test, X_train, 4).shape"
   ]
  },
  {
   "cell_type": "code",
   "execution_count": 1,
   "id": "0eb5eedf",
   "metadata": {},
   "outputs": [
    {
     "name": "stdout",
     "output_type": "stream",
     "text": [
      "WARNING:tensorflow:From /usr/local/Caskroom/miniconda/base/envs/tfp-jax/lib/python3.9/site-packages/tensorflow_datasets/core/dataset_builder.py:643: get_single_element (from tensorflow.python.data.experimental.ops.get_single_element) is deprecated and will be removed in a future version.\n",
      "Instructions for updating:\n",
      "Use `tf.data.Dataset.get_single_element()`.\n"
     ]
    },
    {
     "name": "stderr",
     "output_type": "stream",
     "text": [
      "WARNING:tensorflow:From /usr/local/Caskroom/miniconda/base/envs/tfp-jax/lib/python3.9/site-packages/tensorflow_datasets/core/dataset_builder.py:643: get_single_element (from tensorflow.python.data.experimental.ops.get_single_element) is deprecated and will be removed in a future version.\n",
      "Instructions for updating:\n",
      "Use `tf.data.Dataset.get_single_element()`.\n",
      "WARNING:absl:No GPU/TPU found, falling back to CPU. (Set TF_CPP_MIN_LOG_LEVEL=0 and rerun for more info.)\n"
     ]
    },
    {
     "name": "stdout",
     "output_type": "stream",
     "text": [
      "(60000, 784)\n",
      "(60000,)\n"
     ]
    },
    {
     "ename": "ValueError",
     "evalue": "pmap got arg 3 of rank 0 but axis to be mapped 0. The tree of ranks is:\n((2, 2, 1, 0), {})",
     "output_type": "error",
     "traceback": [
      "\u001b[0;31m---------------------------------------------------------------------------\u001b[0m",
      "\u001b[0;31mIndexError\u001b[0m                                Traceback (most recent call last)",
      "\u001b[0;32m/usr/local/Caskroom/miniconda/base/envs/tfp-jax/lib/python3.9/site-packages/jax/_src/api.py\u001b[0m in \u001b[0;36m_get_axis_size\u001b[0;34m(name, i, shape, axis)\u001b[0m\n\u001b[1;32m   1304\u001b[0m     \u001b[0;32mtry\u001b[0m\u001b[0;34m:\u001b[0m\u001b[0;34m\u001b[0m\u001b[0;34m\u001b[0m\u001b[0m\n\u001b[0;32m-> 1305\u001b[0;31m       \u001b[0;32mreturn\u001b[0m \u001b[0mshape\u001b[0m\u001b[0;34m[\u001b[0m\u001b[0maxis\u001b[0m\u001b[0;34m]\u001b[0m\u001b[0;34m\u001b[0m\u001b[0;34m\u001b[0m\u001b[0m\n\u001b[0m\u001b[1;32m   1306\u001b[0m     \u001b[0;32mexcept\u001b[0m \u001b[0;34m(\u001b[0m\u001b[0mIndexError\u001b[0m\u001b[0;34m,\u001b[0m \u001b[0mTypeError\u001b[0m\u001b[0;34m)\u001b[0m \u001b[0;32mas\u001b[0m \u001b[0me\u001b[0m\u001b[0;34m:\u001b[0m\u001b[0;34m\u001b[0m\u001b[0;34m\u001b[0m\u001b[0m\n",
      "\u001b[0;31mIndexError\u001b[0m: tuple index out of range",
      "\nThe above exception was the direct cause of the following exception:\n",
      "\u001b[0;31mValueError\u001b[0m                                Traceback (most recent call last)",
      "\u001b[0;32m<ipython-input-1-525bef4ac01b>\u001b[0m in \u001b[0;36m<module>\u001b[0;34m\u001b[0m\n\u001b[1;32m     46\u001b[0m \u001b[0mk\u001b[0m \u001b[0;34m=\u001b[0m \u001b[0;36m20\u001b[0m\u001b[0;34m\u001b[0m\u001b[0;34m\u001b[0m\u001b[0m\n\u001b[1;32m     47\u001b[0m \u001b[0;31m# import pdb; pdb.set_trace()\u001b[0m\u001b[0;34m\u001b[0m\u001b[0;34m\u001b[0m\u001b[0;34m\u001b[0m\u001b[0m\n\u001b[0;32m---> 48\u001b[0;31m \u001b[0myhat\u001b[0m \u001b[0;34m=\u001b[0m \u001b[0mknn\u001b[0m\u001b[0;34m(\u001b[0m\u001b[0mX_test\u001b[0m\u001b[0;34m[\u001b[0m\u001b[0;34m:\u001b[0m\u001b[0mn_test\u001b[0m\u001b[0;34m,\u001b[0m \u001b[0;34m:\u001b[0m\u001b[0;34m]\u001b[0m\u001b[0;34m,\u001b[0m \u001b[0mX_train\u001b[0m\u001b[0;34m[\u001b[0m\u001b[0;34m:\u001b[0m\u001b[0mn_train\u001b[0m\u001b[0;34m,\u001b[0m \u001b[0;34m:\u001b[0m\u001b[0;34m]\u001b[0m\u001b[0;34m,\u001b[0m \u001b[0my_train\u001b[0m\u001b[0;34m[\u001b[0m\u001b[0;34m:\u001b[0m\u001b[0mn_train\u001b[0m\u001b[0;34m]\u001b[0m\u001b[0;34m,\u001b[0m \u001b[0mk\u001b[0m\u001b[0;34m)\u001b[0m\u001b[0;34m\u001b[0m\u001b[0;34m\u001b[0m\u001b[0m\n\u001b[0m\u001b[1;32m     49\u001b[0m \u001b[0mprint\u001b[0m\u001b[0;34m(\u001b[0m\u001b[0;34m(\u001b[0m\u001b[0my_test\u001b[0m\u001b[0;34m[\u001b[0m\u001b[0;34m:\u001b[0m\u001b[0mn_test\u001b[0m\u001b[0;34m]\u001b[0m \u001b[0;34m==\u001b[0m \u001b[0myhat\u001b[0m\u001b[0;34m)\u001b[0m\u001b[0;34m.\u001b[0m\u001b[0mmean\u001b[0m\u001b[0;34m(\u001b[0m\u001b[0;34m)\u001b[0m\u001b[0;34m)\u001b[0m\u001b[0;34m\u001b[0m\u001b[0;34m\u001b[0m\u001b[0m\n",
      "    \u001b[0;31m[... skipping hidden 4 frame]\u001b[0m\n",
      "\u001b[0;32m/usr/local/Caskroom/miniconda/base/envs/tfp-jax/lib/python3.9/site-packages/jax/_src/api.py\u001b[0m in \u001b[0;36m_get_axis_size\u001b[0;34m(name, i, shape, axis)\u001b[0m\n\u001b[1;32m   1306\u001b[0m     \u001b[0;32mexcept\u001b[0m \u001b[0;34m(\u001b[0m\u001b[0mIndexError\u001b[0m\u001b[0;34m,\u001b[0m \u001b[0mTypeError\u001b[0m\u001b[0;34m)\u001b[0m \u001b[0;32mas\u001b[0m \u001b[0me\u001b[0m\u001b[0;34m:\u001b[0m\u001b[0;34m\u001b[0m\u001b[0;34m\u001b[0m\u001b[0m\n\u001b[1;32m   1307\u001b[0m       \u001b[0mranks\u001b[0m \u001b[0;34m=\u001b[0m \u001b[0mtree_unflatten\u001b[0m\u001b[0;34m(\u001b[0m\u001b[0mtree\u001b[0m\u001b[0;34m,\u001b[0m \u001b[0;34m[\u001b[0m\u001b[0mnp\u001b[0m\u001b[0;34m.\u001b[0m\u001b[0mndim\u001b[0m\u001b[0;34m(\u001b[0m\u001b[0mx\u001b[0m\u001b[0;34m)\u001b[0m \u001b[0;32mfor\u001b[0m \u001b[0mx\u001b[0m\u001b[0;34m,\u001b[0m \u001b[0md\u001b[0m \u001b[0;32min\u001b[0m \u001b[0mzip\u001b[0m\u001b[0;34m(\u001b[0m\u001b[0mvals\u001b[0m\u001b[0;34m,\u001b[0m \u001b[0mdims\u001b[0m\u001b[0;34m)\u001b[0m\u001b[0;34m]\u001b[0m\u001b[0;34m)\u001b[0m\u001b[0;34m\u001b[0m\u001b[0;34m\u001b[0m\u001b[0m\n\u001b[0;32m-> 1308\u001b[0;31m       raise ValueError(f\"{name} got arg {i} of rank {len(shape)} but axis to be \"\n\u001b[0m\u001b[1;32m   1309\u001b[0m                        f\"mapped {axis}. The tree of ranks is:\\n{ranks}\") from e\n\u001b[1;32m   1310\u001b[0m \u001b[0;34m\u001b[0m\u001b[0m\n",
      "\u001b[0;31mValueError\u001b[0m: pmap got arg 3 of rank 0 but axis to be mapped 0. The tree of ranks is:\n((2, 2, 1, 0), {})"
     ]
    }
   ],
   "source": [
    "knn = jax.pmap(knn)\n",
    "\n",
    "train, test = get_datasets()\n",
    "\n",
    "X_train = train[\"image\"].reshape(-1, 28 ** 2)\n",
    "X_train = 4 * X_train - 2\n",
    "y_train = train[\"label\"]\n",
    "\n",
    "X_test = test[\"image\"].reshape(-1, 28 ** 2)\n",
    "X_test = 4 * X_test - 2\n",
    "y_test = test[\"label\"]\n",
    "\n",
    "print(X_train.shape)\n",
    "print(y_train.shape)\n",
    "\n",
    "n_train = 30_000\n",
    "n_test = 30\n",
    "k = 20\n",
    "# import pdb; pdb.set_trace()\n",
    "yhat = knn(X_test[:n_test, :], X_train[:n_train, :], y_train[:n_train], k)\n",
    "print((y_test[:n_test] == yhat).mean())"
   ]
  }
 ],
 "metadata": {
  "kernelspec": {
   "display_name": "tfp-jax",
   "language": "python",
   "name": "tfp-jax"
  },
  "language_info": {
   "codemirror_mode": {
    "name": "ipython",
    "version": 3
   },
   "file_extension": ".py",
   "mimetype": "text/x-python",
   "name": "python",
   "nbconvert_exporter": "python",
   "pygments_lexer": "ipython3",
   "version": "3.9.5"
  }
 },
 "nbformat": 4,
 "nbformat_minor": 5
}
