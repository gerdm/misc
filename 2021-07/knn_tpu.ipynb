{
 "cells": [
  {
   "cell_type": "markdown",
   "id": "1dec1046",
   "metadata": {},
   "source": [
    "# TPUs and KNN"
   ]
  },
  {
   "cell_type": "code",
   "execution_count": 1,
   "id": "0c251ce5",
   "metadata": {},
   "outputs": [],
   "source": [
    "import jax\n",
    "import jax.numpy as jnp\n",
    "import tensorflow_datasets as tfds\n",
    "\n",
    "from jax.config import config\n",
    "config.update(\"jax_enable_x64\", True)"
   ]
  },
  {
   "cell_type": "code",
   "execution_count": 2,
   "id": "3a1b5f24",
   "metadata": {},
   "outputs": [],
   "source": [
    "def get_datasets():\n",
    "    \"\"\"Load MNIST train and test datasets into memory.\"\"\"\n",
    "    ds_builder = tfds.builder('mnist')\n",
    "    ds_builder.download_and_prepare()\n",
    "    train_ds = tfds.as_numpy(ds_builder.as_dataset(split='train', batch_size=-1))\n",
    "    test_ds = tfds.as_numpy(ds_builder.as_dataset(split='test', batch_size=-1))\n",
    "    train_ds['image'] = jnp.float32(train_ds['image']) / 255.\n",
    "    test_ds['image'] = jnp.float32(test_ds['image']) / 255.\n",
    "    return train_ds, test_ds"
   ]
  },
  {
   "cell_type": "code",
   "execution_count": 224,
   "id": "a0bc536f",
   "metadata": {},
   "outputs": [
    {
     "name": "stdout",
     "output_type": "stream",
     "text": [
      "(10000, 784)\n"
     ]
    }
   ],
   "source": [
    "train, test = get_datasets()\n",
    "\n",
    "X_train = train[\"image\"].reshape(-1, 28 ** 2)\n",
    "X_train = 4 * X_train - 2\n",
    "y_train = train[\"label\"]\n",
    "\n",
    "X_test = test[\"image\"].reshape(-1, 28 ** 2)\n",
    "print(X_test.shape)\n",
    "X_test = 4 * X_test - 2\n",
    "y_test = test[\"label\"]\n",
    "\n",
    "n_train = 30_000\n",
    "n_test = 30\n",
    "\n",
    "X_train = X_train[:n_train]\n",
    "y_train = y_train[:n_train]\n",
    "\n",
    "X_test = X_test[:n_test]\n",
    "y_test = y_test[:n_test]"
   ]
  },
  {
   "cell_type": "code",
   "execution_count": 229,
   "id": "8f245667",
   "metadata": {},
   "outputs": [
    {
     "data": {
      "text/plain": [
       "3750.0"
      ]
     },
     "execution_count": 229,
     "metadata": {},
     "output_type": "execute_result"
    }
   ],
   "source": [
    "30_000 / 8"
   ]
  },
  {
   "cell_type": "code",
   "execution_count": 253,
   "id": "405d025e",
   "metadata": {},
   "outputs": [],
   "source": [
    "def compute_diff(u, v):\n",
    "#     return (u[None, :] - v[:, None]) ** 2\n",
    "    return (u[:, None] - v[None, :]) ** 2\n",
    "\n",
    "\n",
    "devices = 1\n",
    "ndev_train = n_train // devices\n",
    "compute_diff = jax.vmap(compute_diff, in_axes=1, out_axes=-1)\n",
    "compute_diff = jax.pmap(compute_diff, in_axes=0)\n",
    "\n",
    "def compute_distance(U, V):\n",
    "    return compute_diff(U, V).mean(axis=-1)\n",
    "\n",
    "p_argsort = jax.pmap(jnp.argsort, in_axes=0)\n",
    "def compute_k_closest(U, V, k):\n",
    "    D = compute_distance(U, V)\n",
    "    \n",
    "    D = D.reshape(devices, n_test // devices, -1)\n",
    "    nearest = p_argsort(D)[..., 1:k+1]\n",
    "    return nearest"
   ]
  },
  {
   "cell_type": "code",
   "execution_count": 255,
   "id": "a7d96517",
   "metadata": {},
   "outputs": [
    {
     "data": {
      "text/plain": [
       "(1, 30, 5)"
      ]
     },
     "execution_count": 255,
     "metadata": {},
     "output_type": "execute_result"
    }
   ],
   "source": [
    "compute_k_closest(X_test, X_train, 5).shape"
   ]
  },
  {
   "cell_type": "code",
   "execution_count": 251,
   "id": "14dcc042",
   "metadata": {},
   "outputs": [
    {
     "data": {
      "text/plain": [
       "1"
      ]
     },
     "execution_count": 251,
     "metadata": {},
     "output_type": "execute_result"
    }
   ],
   "source": [
    "jax.local_device_count()"
   ]
  },
  {
   "cell_type": "code",
   "execution_count": null,
   "id": "9a607e1f",
   "metadata": {},
   "outputs": [],
   "source": [
    "Dj = compute_distance(X_test, X_train)\n",
    "Dj.shape"
   ]
  },
  {
   "cell_type": "code",
   "execution_count": 202,
   "id": "6b0a8423",
   "metadata": {},
   "outputs": [
    {
     "data": {
      "text/plain": [
       "DeviceArray([[[2.1976, 2.4276, 2.206 , ..., 2.3649, 3.0102, 1.5677],\n",
       "              [1.3495, 1.3143, 2.1858, ..., 1.8039, 2.6597, 2.2468],\n",
       "              [3.2746, 3.3349, 3.0668, ..., 2.3765, 2.0354, 2.8196],\n",
       "              ...,\n",
       "              [1.0756, 1.2676, 2.4354, ..., 2.65  , 2.4429, 2.4995],\n",
       "              [1.778 , 1.6293, 2.7443, ..., 1.2514, 2.6058, 2.1182],\n",
       "              [2.0825, 2.3377, 1.6483, ..., 1.8558, 2.5907, 1.6154]]],            dtype=float32)"
      ]
     },
     "execution_count": 202,
     "metadata": {},
     "output_type": "execute_result"
    }
   ],
   "source": [
    "Dreshape = Dj.reshape(1, 10, -1)\n",
    "Dreshape"
   ]
  },
  {
   "cell_type": "code",
   "execution_count": 216,
   "id": "db9a42be",
   "metadata": {},
   "outputs": [
    {
     "data": {
      "text/plain": [
       "(1, 10, 90000)"
      ]
     },
     "execution_count": 216,
     "metadata": {},
     "output_type": "execute_result"
    }
   ],
   "source": [
    "p_argsort = jax.pmap(jnp.argsort, in_axes=0)\n",
    "p_argsort(Dreshape).shape"
   ]
  },
  {
   "cell_type": "code",
   "execution_count": 217,
   "id": "49366bd5",
   "metadata": {},
   "outputs": [],
   "source": [
    "pmap_k_closest = jax.pmap(compute_k_closest, \"k\", in_axes=(None, None, 0))"
   ]
  },
  {
   "cell_type": "code",
   "execution_count": 186,
   "id": "96ab3dcf",
   "metadata": {},
   "outputs": [
    {
     "ename": "IndexError",
     "evalue": "Array slice indices must have static start/stop/step to be used with NumPy indexing syntax. To index a statically sized array at a dynamic position, try lax.dynamic_slice/dynamic_update_slice (JAX does not support dynamically sized arrays within JIT compiled functions).",
     "output_type": "error",
     "traceback": [
      "\u001b[0;31m---------------------------------------------------------------------------\u001b[0m",
      "\u001b[0;31mIndexError\u001b[0m                                Traceback (most recent call last)",
      "\u001b[0;32m<ipython-input-186-6ceb9bc04e53>\u001b[0m in \u001b[0;36m<module>\u001b[0;34m\u001b[0m\n\u001b[0;32m----> 1\u001b[0;31m \u001b[0mpmap_k_closest\u001b[0m\u001b[0;34m(\u001b[0m\u001b[0mX_test\u001b[0m\u001b[0;34m,\u001b[0m \u001b[0mX_train\u001b[0m\u001b[0;34m,\u001b[0m \u001b[0mnp\u001b[0m\u001b[0;34m.\u001b[0m\u001b[0marray\u001b[0m\u001b[0;34m(\u001b[0m\u001b[0;34m[\u001b[0m\u001b[0;36m1\u001b[0m\u001b[0;34m]\u001b[0m\u001b[0;34m)\u001b[0m\u001b[0;34m)\u001b[0m\u001b[0;34m\u001b[0m\u001b[0;34m\u001b[0m\u001b[0m\n\u001b[0m",
      "    \u001b[0;31m[... skipping hidden 12 frame]\u001b[0m\n",
      "\u001b[0;32m<ipython-input-181-0300a792374a>\u001b[0m in \u001b[0;36mcompute_k_closest\u001b[0;34m(U, V, k)\u001b[0m\n\u001b[1;32m     10\u001b[0m \u001b[0;32mdef\u001b[0m \u001b[0mcompute_k_closest\u001b[0m\u001b[0;34m(\u001b[0m\u001b[0mU\u001b[0m\u001b[0;34m,\u001b[0m \u001b[0mV\u001b[0m\u001b[0;34m,\u001b[0m \u001b[0mk\u001b[0m\u001b[0;34m)\u001b[0m\u001b[0;34m:\u001b[0m\u001b[0;34m\u001b[0m\u001b[0;34m\u001b[0m\u001b[0m\n\u001b[1;32m     11\u001b[0m     \u001b[0mD\u001b[0m \u001b[0;34m=\u001b[0m \u001b[0mcompute_distance\u001b[0m\u001b[0;34m(\u001b[0m\u001b[0mU\u001b[0m\u001b[0;34m,\u001b[0m \u001b[0mV\u001b[0m\u001b[0;34m)\u001b[0m\u001b[0;34m\u001b[0m\u001b[0;34m\u001b[0m\u001b[0m\n\u001b[0;32m---> 12\u001b[0;31m     \u001b[0mnearest\u001b[0m \u001b[0;34m=\u001b[0m \u001b[0mjnp\u001b[0m\u001b[0;34m.\u001b[0m\u001b[0margsort\u001b[0m\u001b[0;34m(\u001b[0m\u001b[0mD\u001b[0m\u001b[0;34m)\u001b[0m\u001b[0;34m[\u001b[0m\u001b[0;34m...\u001b[0m\u001b[0;34m,\u001b[0m \u001b[0;36m1\u001b[0m\u001b[0;34m:\u001b[0m\u001b[0mk\u001b[0m\u001b[0;34m+\u001b[0m\u001b[0;36m1\u001b[0m\u001b[0;34m]\u001b[0m\u001b[0;34m\u001b[0m\u001b[0;34m\u001b[0m\u001b[0m\n\u001b[0m\u001b[1;32m     13\u001b[0m     \u001b[0;32mreturn\u001b[0m \u001b[0mnearest\u001b[0m\u001b[0;34m\u001b[0m\u001b[0;34m\u001b[0m\u001b[0m\n",
      "    \u001b[0;31m[... skipping hidden 1 frame]\u001b[0m\n",
      "\u001b[0;32m/usr/local/Caskroom/miniconda/base/envs/tfp-jax/lib/python3.9/site-packages/jax/_src/numpy/lax_numpy.py\u001b[0m in \u001b[0;36m_rewriting_take\u001b[0;34m(arr, idx)\u001b[0m\n\u001b[1;32m   4959\u001b[0m   \u001b[0marr\u001b[0m \u001b[0;34m=\u001b[0m \u001b[0masarray\u001b[0m\u001b[0;34m(\u001b[0m\u001b[0marr\u001b[0m\u001b[0;34m)\u001b[0m\u001b[0;34m\u001b[0m\u001b[0;34m\u001b[0m\u001b[0m\n\u001b[1;32m   4960\u001b[0m   \u001b[0mtreedef\u001b[0m\u001b[0;34m,\u001b[0m \u001b[0mstatic_idx\u001b[0m\u001b[0;34m,\u001b[0m \u001b[0mdynamic_idx\u001b[0m \u001b[0;34m=\u001b[0m \u001b[0m_split_index_for_jit\u001b[0m\u001b[0;34m(\u001b[0m\u001b[0midx\u001b[0m\u001b[0;34m)\u001b[0m\u001b[0;34m\u001b[0m\u001b[0;34m\u001b[0m\u001b[0m\n\u001b[0;32m-> 4961\u001b[0;31m   \u001b[0;32mreturn\u001b[0m \u001b[0m_gather\u001b[0m\u001b[0;34m(\u001b[0m\u001b[0marr\u001b[0m\u001b[0;34m,\u001b[0m \u001b[0mtreedef\u001b[0m\u001b[0;34m,\u001b[0m \u001b[0mstatic_idx\u001b[0m\u001b[0;34m,\u001b[0m \u001b[0mdynamic_idx\u001b[0m\u001b[0;34m)\u001b[0m\u001b[0;34m\u001b[0m\u001b[0;34m\u001b[0m\u001b[0m\n\u001b[0m\u001b[1;32m   4962\u001b[0m \u001b[0;34m\u001b[0m\u001b[0m\n\u001b[1;32m   4963\u001b[0m \u001b[0;31m# TODO(phawkins): re-enable jit after fixing excessive recompilation for\u001b[0m\u001b[0;34m\u001b[0m\u001b[0;34m\u001b[0m\u001b[0;34m\u001b[0m\u001b[0m\n",
      "\u001b[0;32m/usr/local/Caskroom/miniconda/base/envs/tfp-jax/lib/python3.9/site-packages/jax/_src/numpy/lax_numpy.py\u001b[0m in \u001b[0;36m_gather\u001b[0;34m(arr, treedef, static_idx, dynamic_idx)\u001b[0m\n\u001b[1;32m   4966\u001b[0m \u001b[0;32mdef\u001b[0m \u001b[0m_gather\u001b[0m\u001b[0;34m(\u001b[0m\u001b[0marr\u001b[0m\u001b[0;34m,\u001b[0m \u001b[0mtreedef\u001b[0m\u001b[0;34m,\u001b[0m \u001b[0mstatic_idx\u001b[0m\u001b[0;34m,\u001b[0m \u001b[0mdynamic_idx\u001b[0m\u001b[0;34m)\u001b[0m\u001b[0;34m:\u001b[0m\u001b[0;34m\u001b[0m\u001b[0;34m\u001b[0m\u001b[0m\n\u001b[1;32m   4967\u001b[0m   \u001b[0midx\u001b[0m \u001b[0;34m=\u001b[0m \u001b[0m_merge_static_and_dynamic_indices\u001b[0m\u001b[0;34m(\u001b[0m\u001b[0mtreedef\u001b[0m\u001b[0;34m,\u001b[0m \u001b[0mstatic_idx\u001b[0m\u001b[0;34m,\u001b[0m \u001b[0mdynamic_idx\u001b[0m\u001b[0;34m)\u001b[0m\u001b[0;34m\u001b[0m\u001b[0;34m\u001b[0m\u001b[0m\n\u001b[0;32m-> 4968\u001b[0;31m   \u001b[0mindexer\u001b[0m \u001b[0;34m=\u001b[0m \u001b[0m_index_to_gather\u001b[0m\u001b[0;34m(\u001b[0m\u001b[0mshape\u001b[0m\u001b[0;34m(\u001b[0m\u001b[0marr\u001b[0m\u001b[0;34m)\u001b[0m\u001b[0;34m,\u001b[0m \u001b[0midx\u001b[0m\u001b[0;34m)\u001b[0m  \u001b[0;31m# shared with _scatter_update\u001b[0m\u001b[0;34m\u001b[0m\u001b[0;34m\u001b[0m\u001b[0m\n\u001b[0m\u001b[1;32m   4969\u001b[0m   \u001b[0my\u001b[0m \u001b[0;34m=\u001b[0m \u001b[0marr\u001b[0m\u001b[0;34m\u001b[0m\u001b[0;34m\u001b[0m\u001b[0m\n\u001b[1;32m   4970\u001b[0m \u001b[0;34m\u001b[0m\u001b[0m\n",
      "\u001b[0;32m/usr/local/Caskroom/miniconda/base/envs/tfp-jax/lib/python3.9/site-packages/jax/_src/numpy/lax_numpy.py\u001b[0m in \u001b[0;36m_index_to_gather\u001b[0;34m(x_shape, idx, normalize_indices)\u001b[0m\n\u001b[1;32m   5187\u001b[0m                \u001b[0;34m\"dynamic_update_slice (JAX does not support dynamically sized \"\u001b[0m\u001b[0;34m\u001b[0m\u001b[0;34m\u001b[0m\u001b[0m\n\u001b[1;32m   5188\u001b[0m                \"arrays within JIT compiled functions).\")\n\u001b[0;32m-> 5189\u001b[0;31m         \u001b[0;32mraise\u001b[0m \u001b[0mIndexError\u001b[0m\u001b[0;34m(\u001b[0m\u001b[0mmsg\u001b[0m\u001b[0;34m)\u001b[0m\u001b[0;34m\u001b[0m\u001b[0;34m\u001b[0m\u001b[0m\n\u001b[0m\u001b[1;32m   5190\u001b[0m       \u001b[0mstart\u001b[0m\u001b[0;34m,\u001b[0m \u001b[0mlimit\u001b[0m\u001b[0;34m,\u001b[0m \u001b[0mstride\u001b[0m\u001b[0;34m,\u001b[0m \u001b[0mneeds_rev\u001b[0m \u001b[0;34m=\u001b[0m \u001b[0m_static_idx\u001b[0m\u001b[0;34m(\u001b[0m\u001b[0mi\u001b[0m\u001b[0;34m,\u001b[0m \u001b[0mx_shape\u001b[0m\u001b[0;34m[\u001b[0m\u001b[0mx_axis\u001b[0m\u001b[0;34m]\u001b[0m\u001b[0;34m)\u001b[0m\u001b[0;34m\u001b[0m\u001b[0;34m\u001b[0m\u001b[0m\n\u001b[1;32m   5191\u001b[0m       \u001b[0;32mif\u001b[0m \u001b[0mneeds_rev\u001b[0m\u001b[0;34m:\u001b[0m\u001b[0;34m\u001b[0m\u001b[0;34m\u001b[0m\u001b[0m\n",
      "\u001b[0;31mIndexError\u001b[0m: Array slice indices must have static start/stop/step to be used with NumPy indexing syntax. To index a statically sized array at a dynamic position, try lax.dynamic_slice/dynamic_update_slice (JAX does not support dynamically sized arrays within JIT compiled functions)."
     ]
    }
   ],
   "source": [
    "pmap_k_closest(X_test, X_train, np.array([1]))"
   ]
  },
  {
   "cell_type": "code",
   "execution_count": 121,
   "id": "773a20f6",
   "metadata": {},
   "outputs": [],
   "source": [
    "jnp.set_printoptions(suppress=True, precision=4)"
   ]
  },
  {
   "cell_type": "code",
   "execution_count": 49,
   "id": "52b25b52",
   "metadata": {},
   "outputs": [
    {
     "data": {
      "text/plain": [
       "array([[ 9, 74, 52, 87, 43],\n",
       "       [79,  8, 99, 59, 87],\n",
       "       [72, 81, 36, 23,  8],\n",
       "       [89,  5, 33, 92, 69],\n",
       "       [46, 89, 17, 10, 62],\n",
       "       [55, 46, 67, 72, 87],\n",
       "       [37,  9, 51,  1,  8],\n",
       "       [83, 58, 89, 38, 78],\n",
       "       [62, 94, 64, 92, 10],\n",
       "       [86,  5, 51, 10, 87],\n",
       "       [12, 19, 17, 86,  1],\n",
       "       [81, 59, 98, 23, 27],\n",
       "       [95, 66, 95, 67, 60],\n",
       "       [62, 45, 67, 50,  8],\n",
       "       [18,  4, 81, 92, 60]])"
      ]
     },
     "execution_count": 49,
     "metadata": {},
     "output_type": "execute_result"
    }
   ],
   "source": [
    "np.random.seed(314)\n",
    "k_closest = np.random.randint(1, 100, (3 * 5, 5))\n",
    "k_closest"
   ]
  },
  {
   "cell_type": "code",
   "execution_count": 50,
   "id": "d97880f4",
   "metadata": {},
   "outputs": [
    {
     "data": {
      "text/plain": [
       "array([[0, 4, 2, 1, 3],\n",
       "       [1, 3, 0, 4, 2],\n",
       "       [4, 3, 2, 0, 1],\n",
       "       [1, 2, 4, 0, 3],\n",
       "       [3, 2, 0, 4, 1],\n",
       "       [1, 0, 2, 3, 4],\n",
       "       [3, 4, 1, 0, 2],\n",
       "       [3, 1, 4, 0, 2],\n",
       "       [4, 0, 2, 3, 1],\n",
       "       [1, 3, 2, 0, 4],\n",
       "       [4, 0, 2, 1, 3],\n",
       "       [3, 4, 1, 0, 2],\n",
       "       [4, 1, 3, 0, 2],\n",
       "       [4, 1, 3, 0, 2],\n",
       "       [1, 0, 4, 2, 3]])"
      ]
     },
     "execution_count": 50,
     "metadata": {},
     "output_type": "execute_result"
    }
   ],
   "source": [
    "np.argsort(k_closest)"
   ]
  },
  {
   "cell_type": "code",
   "execution_count": 51,
   "id": "f1cb38fa",
   "metadata": {},
   "outputs": [
    {
     "data": {
      "text/plain": [
       "array([ 9, 43, 52, 74, 87])"
      ]
     },
     "execution_count": 51,
     "metadata": {},
     "output_type": "execute_result"
    }
   ],
   "source": [
    "k_closest[0, [0, 4, 2, 1, 3]]"
   ]
  },
  {
   "cell_type": "code",
   "execution_count": 53,
   "id": "0c348fb0",
   "metadata": {},
   "outputs": [
    {
     "data": {
      "text/plain": [
       "array([[[ 9, 74, 52, 87, 43],\n",
       "        [79,  8, 99, 59, 87],\n",
       "        [72, 81, 36, 23,  8],\n",
       "        [89,  5, 33, 92, 69],\n",
       "        [46, 89, 17, 10, 62]],\n",
       "\n",
       "       [[55, 46, 67, 72, 87],\n",
       "        [37,  9, 51,  1,  8],\n",
       "        [83, 58, 89, 38, 78],\n",
       "        [62, 94, 64, 92, 10],\n",
       "        [86,  5, 51, 10, 87]],\n",
       "\n",
       "       [[12, 19, 17, 86,  1],\n",
       "        [81, 59, 98, 23, 27],\n",
       "        [95, 66, 95, 67, 60],\n",
       "        [62, 45, 67, 50,  8],\n",
       "        [18,  4, 81, 92, 60]]])"
      ]
     },
     "execution_count": 53,
     "metadata": {},
     "output_type": "execute_result"
    }
   ],
   "source": [
    "k_closest_shuffled = k_closest.reshape(3, 5, 5)\n",
    "k_closest_shuffled"
   ]
  },
  {
   "cell_type": "code",
   "execution_count": 47,
   "id": "5c526478",
   "metadata": {},
   "outputs": [
    {
     "data": {
      "text/plain": [
       "array([[[0, 4, 2, 1, 3],\n",
       "        [1, 3, 0, 4, 2],\n",
       "        [4, 3, 2, 0, 1],\n",
       "        [1, 2, 4, 0, 3],\n",
       "        [3, 2, 0, 4, 1]],\n",
       "\n",
       "       [[1, 0, 2, 3, 4],\n",
       "        [3, 4, 1, 0, 2],\n",
       "        [3, 1, 4, 0, 2],\n",
       "        [4, 0, 2, 3, 1],\n",
       "        [1, 3, 2, 0, 4]],\n",
       "\n",
       "       [[4, 0, 2, 1, 3],\n",
       "        [3, 4, 1, 0, 2],\n",
       "        [4, 1, 3, 0, 2],\n",
       "        [4, 1, 3, 0, 2],\n",
       "        [1, 0, 4, 2, 3]]])"
      ]
     },
     "execution_count": 47,
     "metadata": {},
     "output_type": "execute_result"
    }
   ],
   "source": [
    "np.argsort(A_shuffled)"
   ]
  },
  {
   "cell_type": "code",
   "execution_count": 113,
   "id": "56bdd315",
   "metadata": {},
   "outputs": [
    {
     "data": {
      "text/plain": [
       "DeviceArray([[ 1.1104, -1.2406, -0.6909,  1.2509,  0.0491],\n",
       "             [ 1.6945, -0.2667,  0.048 ,  0.1682, -0.9681],\n",
       "             [-0.841 , -0.5139,  1.1786, -0.0084,  2.3075],\n",
       "             [ 0.3981,  0.1632, -0.8194, -2.0301, -1.0782],\n",
       "             [ 2.4647, -0.6206, -1.1689, -0.6257,  0.2767],\n",
       "             [-1.1944,  1.883 ,  0.9415,  0.5941, -1.4575],\n",
       "             [-0.1479, -0.2617, -0.1321, -0.1167, -1.0322],\n",
       "             [ 0.357 ,  0.3082,  0.369 , -0.2063, -0.8255],\n",
       "             [ 1.0441, -2.2558,  1.0567,  0.1041, -0.6379],\n",
       "             [-0.0799, -0.0156,  1.1134,  0.8509, -0.7933]],            dtype=float64)"
      ]
     },
     "execution_count": 113,
     "metadata": {},
     "output_type": "execute_result"
    }
   ],
   "source": [
    "key = jax.random.PRNGKey(314)\n",
    "A = jax.random.normal(key, (10, 5))\n",
    "A"
   ]
  },
  {
   "cell_type": "code",
   "execution_count": 117,
   "id": "dba6cacf",
   "metadata": {},
   "outputs": [
    {
     "data": {
      "text/plain": [
       "DeviceArray([[ 1.6945, -0.2667,  0.048 ,  0.1682, -0.9681],\n",
       "             [-0.841 , -0.5139,  1.1786, -0.0084,  2.3075],\n",
       "             [ 0.3981,  0.1632, -0.8194, -2.0301, -1.0782],\n",
       "             [ 2.4647, -0.6206, -1.1689, -0.6257,  0.2767]],            dtype=float64)"
      ]
     },
     "execution_count": 117,
     "metadata": {},
     "output_type": "execute_result"
    }
   ],
   "source": [
    "jax.lax.dynamic_slice(A, (1, 1), (4, 5))"
   ]
  },
  {
   "cell_type": "code",
   "execution_count": 102,
   "id": "dbc3ce7e",
   "metadata": {},
   "outputs": [
    {
     "ename": "IndexError",
     "evalue": "Array slice indices must have static start/stop/step to be used with NumPy indexing syntax. To index a statically sized array at a dynamic position, try lax.dynamic_slice/dynamic_update_slice (JAX does not support dynamically sized arrays within JIT compiled functions).",
     "output_type": "error",
     "traceback": [
      "\u001b[0;31m---------------------------------------------------------------------------\u001b[0m",
      "\u001b[0;31mIndexError\u001b[0m                                Traceback (most recent call last)",
      "\u001b[0;32m<ipython-input-102-6a1140c34322>\u001b[0m in \u001b[0;36m<module>\u001b[0;34m\u001b[0m\n\u001b[0;32m----> 1\u001b[0;31m \u001b[0mpmap_k_closest\u001b[0m\u001b[0;34m(\u001b[0m\u001b[0mX_test\u001b[0m\u001b[0;34m,\u001b[0m \u001b[0mX_train\u001b[0m\u001b[0;34m,\u001b[0m \u001b[0mnp\u001b[0m\u001b[0;34m.\u001b[0m\u001b[0marray\u001b[0m\u001b[0;34m(\u001b[0m\u001b[0;34m[\u001b[0m\u001b[0;36m1\u001b[0m\u001b[0;34m,\u001b[0m \u001b[0;36m2\u001b[0m\u001b[0;34m,\u001b[0m \u001b[0;36m3\u001b[0m\u001b[0;34m]\u001b[0m\u001b[0;34m)\u001b[0m\u001b[0;34m)\u001b[0m\u001b[0;34m\u001b[0m\u001b[0;34m\u001b[0m\u001b[0m\n\u001b[0m",
      "    \u001b[0;31m[... skipping hidden 3 frame]\u001b[0m\n",
      "\u001b[0;32m<ipython-input-99-0300a792374a>\u001b[0m in \u001b[0;36mcompute_k_closest\u001b[0;34m(U, V, k)\u001b[0m\n\u001b[1;32m     10\u001b[0m \u001b[0;32mdef\u001b[0m \u001b[0mcompute_k_closest\u001b[0m\u001b[0;34m(\u001b[0m\u001b[0mU\u001b[0m\u001b[0;34m,\u001b[0m \u001b[0mV\u001b[0m\u001b[0;34m,\u001b[0m \u001b[0mk\u001b[0m\u001b[0;34m)\u001b[0m\u001b[0;34m:\u001b[0m\u001b[0;34m\u001b[0m\u001b[0;34m\u001b[0m\u001b[0m\n\u001b[1;32m     11\u001b[0m     \u001b[0mD\u001b[0m \u001b[0;34m=\u001b[0m \u001b[0mcompute_distance\u001b[0m\u001b[0;34m(\u001b[0m\u001b[0mU\u001b[0m\u001b[0;34m,\u001b[0m \u001b[0mV\u001b[0m\u001b[0;34m)\u001b[0m\u001b[0;34m\u001b[0m\u001b[0;34m\u001b[0m\u001b[0m\n\u001b[0;32m---> 12\u001b[0;31m     \u001b[0mnearest\u001b[0m \u001b[0;34m=\u001b[0m \u001b[0mjnp\u001b[0m\u001b[0;34m.\u001b[0m\u001b[0margsort\u001b[0m\u001b[0;34m(\u001b[0m\u001b[0mD\u001b[0m\u001b[0;34m)\u001b[0m\u001b[0;34m[\u001b[0m\u001b[0;34m...\u001b[0m\u001b[0;34m,\u001b[0m \u001b[0;36m1\u001b[0m\u001b[0;34m:\u001b[0m\u001b[0mk\u001b[0m\u001b[0;34m+\u001b[0m\u001b[0;36m1\u001b[0m\u001b[0;34m]\u001b[0m\u001b[0;34m\u001b[0m\u001b[0;34m\u001b[0m\u001b[0m\n\u001b[0m\u001b[1;32m     13\u001b[0m     \u001b[0;32mreturn\u001b[0m \u001b[0mnearest\u001b[0m\u001b[0;34m\u001b[0m\u001b[0;34m\u001b[0m\u001b[0m\n",
      "\u001b[0;32m/usr/local/Caskroom/miniconda/base/envs/tfp-jax/lib/python3.9/site-packages/jax/_src/numpy/lax_numpy.py\u001b[0m in \u001b[0;36m_rewriting_take\u001b[0;34m(arr, idx)\u001b[0m\n\u001b[1;32m   4959\u001b[0m   \u001b[0marr\u001b[0m \u001b[0;34m=\u001b[0m \u001b[0masarray\u001b[0m\u001b[0;34m(\u001b[0m\u001b[0marr\u001b[0m\u001b[0;34m)\u001b[0m\u001b[0;34m\u001b[0m\u001b[0;34m\u001b[0m\u001b[0m\n\u001b[1;32m   4960\u001b[0m   \u001b[0mtreedef\u001b[0m\u001b[0;34m,\u001b[0m \u001b[0mstatic_idx\u001b[0m\u001b[0;34m,\u001b[0m \u001b[0mdynamic_idx\u001b[0m \u001b[0;34m=\u001b[0m \u001b[0m_split_index_for_jit\u001b[0m\u001b[0;34m(\u001b[0m\u001b[0midx\u001b[0m\u001b[0;34m)\u001b[0m\u001b[0;34m\u001b[0m\u001b[0;34m\u001b[0m\u001b[0m\n\u001b[0;32m-> 4961\u001b[0;31m   \u001b[0;32mreturn\u001b[0m \u001b[0m_gather\u001b[0m\u001b[0;34m(\u001b[0m\u001b[0marr\u001b[0m\u001b[0;34m,\u001b[0m \u001b[0mtreedef\u001b[0m\u001b[0;34m,\u001b[0m \u001b[0mstatic_idx\u001b[0m\u001b[0;34m,\u001b[0m \u001b[0mdynamic_idx\u001b[0m\u001b[0;34m)\u001b[0m\u001b[0;34m\u001b[0m\u001b[0;34m\u001b[0m\u001b[0m\n\u001b[0m\u001b[1;32m   4962\u001b[0m \u001b[0;34m\u001b[0m\u001b[0m\n\u001b[1;32m   4963\u001b[0m \u001b[0;31m# TODO(phawkins): re-enable jit after fixing excessive recompilation for\u001b[0m\u001b[0;34m\u001b[0m\u001b[0;34m\u001b[0m\u001b[0;34m\u001b[0m\u001b[0m\n",
      "\u001b[0;32m/usr/local/Caskroom/miniconda/base/envs/tfp-jax/lib/python3.9/site-packages/jax/_src/numpy/lax_numpy.py\u001b[0m in \u001b[0;36m_gather\u001b[0;34m(arr, treedef, static_idx, dynamic_idx)\u001b[0m\n\u001b[1;32m   4966\u001b[0m \u001b[0;32mdef\u001b[0m \u001b[0m_gather\u001b[0m\u001b[0;34m(\u001b[0m\u001b[0marr\u001b[0m\u001b[0;34m,\u001b[0m \u001b[0mtreedef\u001b[0m\u001b[0;34m,\u001b[0m \u001b[0mstatic_idx\u001b[0m\u001b[0;34m,\u001b[0m \u001b[0mdynamic_idx\u001b[0m\u001b[0;34m)\u001b[0m\u001b[0;34m:\u001b[0m\u001b[0;34m\u001b[0m\u001b[0;34m\u001b[0m\u001b[0m\n\u001b[1;32m   4967\u001b[0m   \u001b[0midx\u001b[0m \u001b[0;34m=\u001b[0m \u001b[0m_merge_static_and_dynamic_indices\u001b[0m\u001b[0;34m(\u001b[0m\u001b[0mtreedef\u001b[0m\u001b[0;34m,\u001b[0m \u001b[0mstatic_idx\u001b[0m\u001b[0;34m,\u001b[0m \u001b[0mdynamic_idx\u001b[0m\u001b[0;34m)\u001b[0m\u001b[0;34m\u001b[0m\u001b[0;34m\u001b[0m\u001b[0m\n\u001b[0;32m-> 4968\u001b[0;31m   \u001b[0mindexer\u001b[0m \u001b[0;34m=\u001b[0m \u001b[0m_index_to_gather\u001b[0m\u001b[0;34m(\u001b[0m\u001b[0mshape\u001b[0m\u001b[0;34m(\u001b[0m\u001b[0marr\u001b[0m\u001b[0;34m)\u001b[0m\u001b[0;34m,\u001b[0m \u001b[0midx\u001b[0m\u001b[0;34m)\u001b[0m  \u001b[0;31m# shared with _scatter_update\u001b[0m\u001b[0;34m\u001b[0m\u001b[0;34m\u001b[0m\u001b[0m\n\u001b[0m\u001b[1;32m   4969\u001b[0m   \u001b[0my\u001b[0m \u001b[0;34m=\u001b[0m \u001b[0marr\u001b[0m\u001b[0;34m\u001b[0m\u001b[0;34m\u001b[0m\u001b[0m\n\u001b[1;32m   4970\u001b[0m \u001b[0;34m\u001b[0m\u001b[0m\n",
      "\u001b[0;32m/usr/local/Caskroom/miniconda/base/envs/tfp-jax/lib/python3.9/site-packages/jax/_src/numpy/lax_numpy.py\u001b[0m in \u001b[0;36m_index_to_gather\u001b[0;34m(x_shape, idx, normalize_indices)\u001b[0m\n\u001b[1;32m   5187\u001b[0m                \u001b[0;34m\"dynamic_update_slice (JAX does not support dynamically sized \"\u001b[0m\u001b[0;34m\u001b[0m\u001b[0;34m\u001b[0m\u001b[0m\n\u001b[1;32m   5188\u001b[0m                \"arrays within JIT compiled functions).\")\n\u001b[0;32m-> 5189\u001b[0;31m         \u001b[0;32mraise\u001b[0m \u001b[0mIndexError\u001b[0m\u001b[0;34m(\u001b[0m\u001b[0mmsg\u001b[0m\u001b[0;34m)\u001b[0m\u001b[0;34m\u001b[0m\u001b[0;34m\u001b[0m\u001b[0m\n\u001b[0m\u001b[1;32m   5190\u001b[0m       \u001b[0mstart\u001b[0m\u001b[0;34m,\u001b[0m \u001b[0mlimit\u001b[0m\u001b[0;34m,\u001b[0m \u001b[0mstride\u001b[0m\u001b[0;34m,\u001b[0m \u001b[0mneeds_rev\u001b[0m \u001b[0;34m=\u001b[0m \u001b[0m_static_idx\u001b[0m\u001b[0;34m(\u001b[0m\u001b[0mi\u001b[0m\u001b[0;34m,\u001b[0m \u001b[0mx_shape\u001b[0m\u001b[0;34m[\u001b[0m\u001b[0mx_axis\u001b[0m\u001b[0;34m]\u001b[0m\u001b[0;34m)\u001b[0m\u001b[0;34m\u001b[0m\u001b[0;34m\u001b[0m\u001b[0m\n\u001b[1;32m   5191\u001b[0m       \u001b[0;32mif\u001b[0m \u001b[0mneeds_rev\u001b[0m\u001b[0;34m:\u001b[0m\u001b[0;34m\u001b[0m\u001b[0;34m\u001b[0m\u001b[0m\n",
      "\u001b[0;31mIndexError\u001b[0m: Array slice indices must have static start/stop/step to be used with NumPy indexing syntax. To index a statically sized array at a dynamic position, try lax.dynamic_slice/dynamic_update_slice (JAX does not support dynamically sized arrays within JIT compiled functions)."
     ]
    }
   ],
   "source": [
    "pmap_k_closest(X_test, X_train, np.array([1, 2, 3]))"
   ]
  },
  {
   "cell_type": "code",
   "execution_count": 79,
   "id": "9f28757f",
   "metadata": {},
   "outputs": [
    {
     "data": {
      "text/plain": [
       "0.8666666666666667"
      ]
     },
     "execution_count": 79,
     "metadata": {},
     "output_type": "execute_result"
    }
   ],
   "source": [
    "k_nearest = compute_k_closest(X_test, X_train, 4)\n",
    "(y_train[k_nearest, ...].mean(axis=1).round() == y_test).mean()"
   ]
  },
  {
   "cell_type": "code",
   "execution_count": 80,
   "id": "2ba05c55",
   "metadata": {},
   "outputs": [
    {
     "data": {
      "text/plain": [
       "(30, 4, 10)"
      ]
     },
     "execution_count": 80,
     "metadata": {},
     "output_type": "execute_result"
    }
   ],
   "source": [
    "(y_train[k_nearest, None] == jnp.arange(10)[None, None, :]).shape"
   ]
  },
  {
   "cell_type": "markdown",
   "id": "9af31afe",
   "metadata": {},
   "source": [
    "## pKNN"
   ]
  },
  {
   "cell_type": "code",
   "execution_count": 69,
   "id": "fea1ace8",
   "metadata": {},
   "outputs": [],
   "source": [
    "def compute_likelihood(X, y, beta, k):\n",
    "    Q = len(jnp.unique(y))\n",
    "    k_closest = compute_k_closest(X, X, k=k)\n",
    "    y_closest = y[k_closest]\n",
    "    # Comparing the \"k\" closest datapoints of xi to yi\n",
    "    num = y_closest == y[:, None]\n",
    "    num = jnp.exp(beta * num.mean(axis=1) + num.max())\n",
    "    \n",
    "    den = y_closest[..., None] == jnp.arange(Q)[None, None, :]\n",
    "    den = jnp.exp(beta * den.mean(axis=1)).sum(axis=-1)\n",
    "    \n",
    "    likelihood = num / den\n",
    "    return likelihood"
   ]
  },
  {
   "cell_type": "code",
   "execution_count": 70,
   "id": "a19f38ee",
   "metadata": {},
   "outputs": [],
   "source": [
    "beta = 10\n",
    "k = 1\n",
    "L = compute_likelihood(X_train, y_train, beta, k)"
   ]
  },
  {
   "cell_type": "code",
   "execution_count": 71,
   "id": "a3706a9b",
   "metadata": {},
   "outputs": [
    {
     "data": {
      "text/plain": [
       "DeviceArray(2.47249603e-44, dtype=float64)"
      ]
     },
     "execution_count": 71,
     "metadata": {},
     "output_type": "execute_result"
    }
   ],
   "source": [
    "L.prod()"
   ]
  },
  {
   "cell_type": "code",
   "execution_count": 56,
   "id": "2f31eac6",
   "metadata": {},
   "outputs": [
    {
     "data": {
      "text/plain": [
       "DeviceArray(-0.00040852, dtype=float64)"
      ]
     },
     "execution_count": 56,
     "metadata": {},
     "output_type": "execute_result"
    }
   ],
   "source": [
    "jnp.log(L).max()"
   ]
  },
  {
   "cell_type": "code",
   "execution_count": 182,
   "id": "521fb131",
   "metadata": {},
   "outputs": [
    {
     "data": {
      "text/plain": [
       "(5000, 784)"
      ]
     },
     "execution_count": 182,
     "metadata": {},
     "output_type": "execute_result"
    }
   ],
   "source": [
    "X_train.shape"
   ]
  }
 ],
 "metadata": {
  "kernelspec": {
   "display_name": "tfp-jax",
   "language": "python",
   "name": "tfp-jax"
  },
  "language_info": {
   "codemirror_mode": {
    "name": "ipython",
    "version": 3
   },
   "file_extension": ".py",
   "mimetype": "text/x-python",
   "name": "python",
   "nbconvert_exporter": "python",
   "pygments_lexer": "ipython3",
   "version": "3.9.5"
  }
 },
 "nbformat": 4,
 "nbformat_minor": 5
}
